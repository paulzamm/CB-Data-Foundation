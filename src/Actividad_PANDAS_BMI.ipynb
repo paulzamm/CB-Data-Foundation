{
 "cells": [
  {
   "cell_type": "markdown",
   "id": "dfe2db8f",
   "metadata": {},
   "source": [
    "# 🧩 Actividad práctica: Pandas – Análisis del dataset de personas en Ecuador"
   ]
  },
  {
   "cell_type": "markdown",
   "id": "c46899da",
   "metadata": {},
   "source": [
    "### **1️⃣ Leer el dataset**\n",
    "Carga el archivo `personas_ecuador.csv` utilizando `pd.read_csv()`. 💡 **Tip:** recuerda verificar que el dataset se haya cargado correctamente."
   ]
  },
  {
   "cell_type": "code",
   "execution_count": 180,
   "id": "bad999d6",
   "metadata": {},
   "outputs": [
    {
     "data": {
      "text/html": [
       "<div>\n",
       "<style scoped>\n",
       "    .dataframe tbody tr th:only-of-type {\n",
       "        vertical-align: middle;\n",
       "    }\n",
       "\n",
       "    .dataframe tbody tr th {\n",
       "        vertical-align: top;\n",
       "    }\n",
       "\n",
       "    .dataframe thead th {\n",
       "        text-align: right;\n",
       "    }\n",
       "</style>\n",
       "<table border=\"1\" class=\"dataframe\">\n",
       "  <thead>\n",
       "    <tr style=\"text-align: right;\">\n",
       "      <th></th>\n",
       "      <th>id_persona</th>\n",
       "      <th>numero_cedula</th>\n",
       "      <th>nombre</th>\n",
       "      <th>apellido</th>\n",
       "      <th>peso</th>\n",
       "      <th>altura</th>\n",
       "      <th>sexo</th>\n",
       "      <th>edad</th>\n",
       "      <th>ciudad</th>\n",
       "    </tr>\n",
       "  </thead>\n",
       "  <tbody>\n",
       "    <tr>\n",
       "      <th>0</th>\n",
       "      <td>1</td>\n",
       "      <td>991946723</td>\n",
       "      <td>Camila</td>\n",
       "      <td>Ramírez</td>\n",
       "      <td>65.4</td>\n",
       "      <td>1.72</td>\n",
       "      <td>M</td>\n",
       "      <td>32</td>\n",
       "      <td>Guayaquil</td>\n",
       "    </tr>\n",
       "    <tr>\n",
       "      <th>1</th>\n",
       "      <td>2</td>\n",
       "      <td>176600841</td>\n",
       "      <td>Ana</td>\n",
       "      <td>Herrera</td>\n",
       "      <td>68.0</td>\n",
       "      <td>1.46</td>\n",
       "      <td>F</td>\n",
       "      <td>27</td>\n",
       "      <td>Cuenca</td>\n",
       "    </tr>\n",
       "    <tr>\n",
       "      <th>2</th>\n",
       "      <td>3</td>\n",
       "      <td>1717009159</td>\n",
       "      <td>Camila</td>\n",
       "      <td>Cedeño</td>\n",
       "      <td>94.5</td>\n",
       "      <td>1.66</td>\n",
       "      <td>M</td>\n",
       "      <td>42</td>\n",
       "      <td>Quito</td>\n",
       "    </tr>\n",
       "    <tr>\n",
       "      <th>3</th>\n",
       "      <td>4</td>\n",
       "      <td>113406285</td>\n",
       "      <td>José</td>\n",
       "      <td>Ramírez</td>\n",
       "      <td>69.4</td>\n",
       "      <td>1.45</td>\n",
       "      <td>F</td>\n",
       "      <td>32</td>\n",
       "      <td>Cuenca</td>\n",
       "    </tr>\n",
       "    <tr>\n",
       "      <th>4</th>\n",
       "      <td>5</td>\n",
       "      <td>1787050581</td>\n",
       "      <td>María</td>\n",
       "      <td>Herrera</td>\n",
       "      <td>83.5</td>\n",
       "      <td>1.70</td>\n",
       "      <td>M</td>\n",
       "      <td>20</td>\n",
       "      <td>Quito</td>\n",
       "    </tr>\n",
       "  </tbody>\n",
       "</table>\n",
       "</div>"
      ],
      "text/plain": [
       "   id_persona  numero_cedula  nombre apellido  peso  altura sexo  edad  \\\n",
       "0           1      991946723  Camila  Ramírez  65.4    1.72    M    32   \n",
       "1           2      176600841     Ana  Herrera  68.0    1.46    F    27   \n",
       "2           3     1717009159  Camila   Cedeño  94.5    1.66    M    42   \n",
       "3           4      113406285    José  Ramírez  69.4    1.45    F    32   \n",
       "4           5     1787050581   María  Herrera  83.5    1.70    M    20   \n",
       "\n",
       "      ciudad  \n",
       "0  Guayaquil  \n",
       "1     Cuenca  \n",
       "2      Quito  \n",
       "3     Cuenca  \n",
       "4      Quito  "
      ]
     },
     "execution_count": 180,
     "metadata": {},
     "output_type": "execute_result"
    }
   ],
   "source": [
    "import pandas as pd\n",
    "\n",
    "personas_ecuador = pd.read_csv('../data/bmi_personas.csv', sep='|')\n",
    "personas_ecuador.head()"
   ]
  },
  {
   "cell_type": "markdown",
   "id": "d7714535",
   "metadata": {},
   "source": [
    "### **2️⃣ Seleccionar filas específicas con `iloc`**\n",
    "Usando `.iloc`, selecciona las **primeras 5 filas** del dataset."
   ]
  },
  {
   "cell_type": "code",
   "execution_count": 181,
   "id": "1c02bf8e",
   "metadata": {},
   "outputs": [
    {
     "data": {
      "text/html": [
       "<div>\n",
       "<style scoped>\n",
       "    .dataframe tbody tr th:only-of-type {\n",
       "        vertical-align: middle;\n",
       "    }\n",
       "\n",
       "    .dataframe tbody tr th {\n",
       "        vertical-align: top;\n",
       "    }\n",
       "\n",
       "    .dataframe thead th {\n",
       "        text-align: right;\n",
       "    }\n",
       "</style>\n",
       "<table border=\"1\" class=\"dataframe\">\n",
       "  <thead>\n",
       "    <tr style=\"text-align: right;\">\n",
       "      <th></th>\n",
       "      <th>id_persona</th>\n",
       "      <th>numero_cedula</th>\n",
       "      <th>nombre</th>\n",
       "      <th>apellido</th>\n",
       "      <th>peso</th>\n",
       "      <th>altura</th>\n",
       "      <th>sexo</th>\n",
       "      <th>edad</th>\n",
       "      <th>ciudad</th>\n",
       "    </tr>\n",
       "  </thead>\n",
       "  <tbody>\n",
       "    <tr>\n",
       "      <th>0</th>\n",
       "      <td>1</td>\n",
       "      <td>991946723</td>\n",
       "      <td>Camila</td>\n",
       "      <td>Ramírez</td>\n",
       "      <td>65.4</td>\n",
       "      <td>1.72</td>\n",
       "      <td>M</td>\n",
       "      <td>32</td>\n",
       "      <td>Guayaquil</td>\n",
       "    </tr>\n",
       "    <tr>\n",
       "      <th>1</th>\n",
       "      <td>2</td>\n",
       "      <td>176600841</td>\n",
       "      <td>Ana</td>\n",
       "      <td>Herrera</td>\n",
       "      <td>68.0</td>\n",
       "      <td>1.46</td>\n",
       "      <td>F</td>\n",
       "      <td>27</td>\n",
       "      <td>Cuenca</td>\n",
       "    </tr>\n",
       "    <tr>\n",
       "      <th>2</th>\n",
       "      <td>3</td>\n",
       "      <td>1717009159</td>\n",
       "      <td>Camila</td>\n",
       "      <td>Cedeño</td>\n",
       "      <td>94.5</td>\n",
       "      <td>1.66</td>\n",
       "      <td>M</td>\n",
       "      <td>42</td>\n",
       "      <td>Quito</td>\n",
       "    </tr>\n",
       "    <tr>\n",
       "      <th>3</th>\n",
       "      <td>4</td>\n",
       "      <td>113406285</td>\n",
       "      <td>José</td>\n",
       "      <td>Ramírez</td>\n",
       "      <td>69.4</td>\n",
       "      <td>1.45</td>\n",
       "      <td>F</td>\n",
       "      <td>32</td>\n",
       "      <td>Cuenca</td>\n",
       "    </tr>\n",
       "    <tr>\n",
       "      <th>4</th>\n",
       "      <td>5</td>\n",
       "      <td>1787050581</td>\n",
       "      <td>María</td>\n",
       "      <td>Herrera</td>\n",
       "      <td>83.5</td>\n",
       "      <td>1.70</td>\n",
       "      <td>M</td>\n",
       "      <td>20</td>\n",
       "      <td>Quito</td>\n",
       "    </tr>\n",
       "  </tbody>\n",
       "</table>\n",
       "</div>"
      ],
      "text/plain": [
       "   id_persona  numero_cedula  nombre apellido  peso  altura sexo  edad  \\\n",
       "0           1      991946723  Camila  Ramírez  65.4    1.72    M    32   \n",
       "1           2      176600841     Ana  Herrera  68.0    1.46    F    27   \n",
       "2           3     1717009159  Camila   Cedeño  94.5    1.66    M    42   \n",
       "3           4      113406285    José  Ramírez  69.4    1.45    F    32   \n",
       "4           5     1787050581   María  Herrera  83.5    1.70    M    20   \n",
       "\n",
       "      ciudad  \n",
       "0  Guayaquil  \n",
       "1     Cuenca  \n",
       "2      Quito  \n",
       "3     Cuenca  \n",
       "4      Quito  "
      ]
     },
     "execution_count": 181,
     "metadata": {},
     "output_type": "execute_result"
    }
   ],
   "source": [
    "personas_ecuador.iloc[0:5]"
   ]
  },
  {
   "cell_type": "markdown",
   "id": "1cfafa3f",
   "metadata": {},
   "source": [
    "### **3️⃣ Seleccionar columnas con `iloc`**\n",
    "Usando `.iloc`, selecciona únicamente las columnas **nombre, apellido y ciudad**."
   ]
  },
  {
   "cell_type": "code",
   "execution_count": 182,
   "id": "46fa80ab",
   "metadata": {},
   "outputs": [
    {
     "data": {
      "text/html": [
       "<div>\n",
       "<style scoped>\n",
       "    .dataframe tbody tr th:only-of-type {\n",
       "        vertical-align: middle;\n",
       "    }\n",
       "\n",
       "    .dataframe tbody tr th {\n",
       "        vertical-align: top;\n",
       "    }\n",
       "\n",
       "    .dataframe thead th {\n",
       "        text-align: right;\n",
       "    }\n",
       "</style>\n",
       "<table border=\"1\" class=\"dataframe\">\n",
       "  <thead>\n",
       "    <tr style=\"text-align: right;\">\n",
       "      <th></th>\n",
       "      <th>nombre</th>\n",
       "      <th>apellido</th>\n",
       "      <th>ciudad</th>\n",
       "    </tr>\n",
       "  </thead>\n",
       "  <tbody>\n",
       "    <tr>\n",
       "      <th>0</th>\n",
       "      <td>Camila</td>\n",
       "      <td>Ramírez</td>\n",
       "      <td>Guayaquil</td>\n",
       "    </tr>\n",
       "    <tr>\n",
       "      <th>1</th>\n",
       "      <td>Ana</td>\n",
       "      <td>Herrera</td>\n",
       "      <td>Cuenca</td>\n",
       "    </tr>\n",
       "    <tr>\n",
       "      <th>2</th>\n",
       "      <td>Camila</td>\n",
       "      <td>Cedeño</td>\n",
       "      <td>Quito</td>\n",
       "    </tr>\n",
       "    <tr>\n",
       "      <th>3</th>\n",
       "      <td>José</td>\n",
       "      <td>Ramírez</td>\n",
       "      <td>Cuenca</td>\n",
       "    </tr>\n",
       "    <tr>\n",
       "      <th>4</th>\n",
       "      <td>María</td>\n",
       "      <td>Herrera</td>\n",
       "      <td>Quito</td>\n",
       "    </tr>\n",
       "  </tbody>\n",
       "</table>\n",
       "</div>"
      ],
      "text/plain": [
       "   nombre apellido     ciudad\n",
       "0  Camila  Ramírez  Guayaquil\n",
       "1     Ana  Herrera     Cuenca\n",
       "2  Camila   Cedeño      Quito\n",
       "3    José  Ramírez     Cuenca\n",
       "4   María  Herrera      Quito"
      ]
     },
     "execution_count": 182,
     "metadata": {},
     "output_type": "execute_result"
    }
   ],
   "source": [
    "filtro_iloc = personas_ecuador.iloc[:, [2, 3, 8]]\n",
    "filtro_iloc.head()"
   ]
  },
  {
   "cell_type": "markdown",
   "id": "c40b14c2",
   "metadata": {},
   "source": [
    "### **4️⃣ Seleccionar filas y columnas específicas con `loc`**\n",
    "Usa `.loc` para mostrar las **filas de las personas de Guayaquil** pero solo con las columnas **nombre, edad y ciudad**."
   ]
  },
  {
   "cell_type": "code",
   "execution_count": 183,
   "id": "29711f0a",
   "metadata": {},
   "outputs": [
    {
     "data": {
      "text/html": [
       "<div>\n",
       "<style scoped>\n",
       "    .dataframe tbody tr th:only-of-type {\n",
       "        vertical-align: middle;\n",
       "    }\n",
       "\n",
       "    .dataframe tbody tr th {\n",
       "        vertical-align: top;\n",
       "    }\n",
       "\n",
       "    .dataframe thead th {\n",
       "        text-align: right;\n",
       "    }\n",
       "</style>\n",
       "<table border=\"1\" class=\"dataframe\">\n",
       "  <thead>\n",
       "    <tr style=\"text-align: right;\">\n",
       "      <th></th>\n",
       "      <th>nombre</th>\n",
       "      <th>edad</th>\n",
       "      <th>ciudad</th>\n",
       "    </tr>\n",
       "  </thead>\n",
       "  <tbody>\n",
       "    <tr>\n",
       "      <th>0</th>\n",
       "      <td>Camila</td>\n",
       "      <td>32</td>\n",
       "      <td>Guayaquil</td>\n",
       "    </tr>\n",
       "    <tr>\n",
       "      <th>6</th>\n",
       "      <td>Pedro</td>\n",
       "      <td>30</td>\n",
       "      <td>Guayaquil</td>\n",
       "    </tr>\n",
       "    <tr>\n",
       "      <th>9</th>\n",
       "      <td>Sofía</td>\n",
       "      <td>32</td>\n",
       "      <td>Guayaquil</td>\n",
       "    </tr>\n",
       "    <tr>\n",
       "      <th>10</th>\n",
       "      <td>Carlos</td>\n",
       "      <td>46</td>\n",
       "      <td>Guayaquil</td>\n",
       "    </tr>\n",
       "    <tr>\n",
       "      <th>11</th>\n",
       "      <td>Pedro</td>\n",
       "      <td>33</td>\n",
       "      <td>Guayaquil</td>\n",
       "    </tr>\n",
       "  </tbody>\n",
       "</table>\n",
       "</div>"
      ],
      "text/plain": [
       "    nombre  edad     ciudad\n",
       "0   Camila    32  Guayaquil\n",
       "6    Pedro    30  Guayaquil\n",
       "9    Sofía    32  Guayaquil\n",
       "10  Carlos    46  Guayaquil\n",
       "11   Pedro    33  Guayaquil"
      ]
     },
     "execution_count": 183,
     "metadata": {},
     "output_type": "execute_result"
    }
   ],
   "source": [
    "filtro_loc = personas_ecuador.loc[personas_ecuador['ciudad'] == 'Guayaquil', ['nombre', 'edad', 'ciudad']]\n",
    "filtro_loc.head()"
   ]
  },
  {
   "cell_type": "markdown",
   "id": "2897a672",
   "metadata": {},
   "source": [
    "### **5️⃣ Crear una nueva columna con altura en centímetros**\n",
    "La columna `altura` está en metros. Crea una nueva columna llamada `altura_cm` que convierta ese valor a centímetros."
   ]
  },
  {
   "cell_type": "code",
   "execution_count": 184,
   "id": "8acee411",
   "metadata": {},
   "outputs": [
    {
     "data": {
      "text/html": [
       "<div>\n",
       "<style scoped>\n",
       "    .dataframe tbody tr th:only-of-type {\n",
       "        vertical-align: middle;\n",
       "    }\n",
       "\n",
       "    .dataframe tbody tr th {\n",
       "        vertical-align: top;\n",
       "    }\n",
       "\n",
       "    .dataframe thead th {\n",
       "        text-align: right;\n",
       "    }\n",
       "</style>\n",
       "<table border=\"1\" class=\"dataframe\">\n",
       "  <thead>\n",
       "    <tr style=\"text-align: right;\">\n",
       "      <th></th>\n",
       "      <th>id_persona</th>\n",
       "      <th>numero_cedula</th>\n",
       "      <th>nombre</th>\n",
       "      <th>apellido</th>\n",
       "      <th>peso</th>\n",
       "      <th>altura</th>\n",
       "      <th>sexo</th>\n",
       "      <th>edad</th>\n",
       "      <th>ciudad</th>\n",
       "      <th>altura_cm</th>\n",
       "    </tr>\n",
       "  </thead>\n",
       "  <tbody>\n",
       "    <tr>\n",
       "      <th>0</th>\n",
       "      <td>1</td>\n",
       "      <td>991946723</td>\n",
       "      <td>Camila</td>\n",
       "      <td>Ramírez</td>\n",
       "      <td>65.4</td>\n",
       "      <td>1.72</td>\n",
       "      <td>M</td>\n",
       "      <td>32</td>\n",
       "      <td>Guayaquil</td>\n",
       "      <td>172.0</td>\n",
       "    </tr>\n",
       "    <tr>\n",
       "      <th>1</th>\n",
       "      <td>2</td>\n",
       "      <td>176600841</td>\n",
       "      <td>Ana</td>\n",
       "      <td>Herrera</td>\n",
       "      <td>68.0</td>\n",
       "      <td>1.46</td>\n",
       "      <td>F</td>\n",
       "      <td>27</td>\n",
       "      <td>Cuenca</td>\n",
       "      <td>146.0</td>\n",
       "    </tr>\n",
       "    <tr>\n",
       "      <th>2</th>\n",
       "      <td>3</td>\n",
       "      <td>1717009159</td>\n",
       "      <td>Camila</td>\n",
       "      <td>Cedeño</td>\n",
       "      <td>94.5</td>\n",
       "      <td>1.66</td>\n",
       "      <td>M</td>\n",
       "      <td>42</td>\n",
       "      <td>Quito</td>\n",
       "      <td>166.0</td>\n",
       "    </tr>\n",
       "    <tr>\n",
       "      <th>3</th>\n",
       "      <td>4</td>\n",
       "      <td>113406285</td>\n",
       "      <td>José</td>\n",
       "      <td>Ramírez</td>\n",
       "      <td>69.4</td>\n",
       "      <td>1.45</td>\n",
       "      <td>F</td>\n",
       "      <td>32</td>\n",
       "      <td>Cuenca</td>\n",
       "      <td>145.0</td>\n",
       "    </tr>\n",
       "    <tr>\n",
       "      <th>4</th>\n",
       "      <td>5</td>\n",
       "      <td>1787050581</td>\n",
       "      <td>María</td>\n",
       "      <td>Herrera</td>\n",
       "      <td>83.5</td>\n",
       "      <td>1.70</td>\n",
       "      <td>M</td>\n",
       "      <td>20</td>\n",
       "      <td>Quito</td>\n",
       "      <td>170.0</td>\n",
       "    </tr>\n",
       "  </tbody>\n",
       "</table>\n",
       "</div>"
      ],
      "text/plain": [
       "   id_persona  numero_cedula  nombre apellido  peso  altura sexo  edad  \\\n",
       "0           1      991946723  Camila  Ramírez  65.4    1.72    M    32   \n",
       "1           2      176600841     Ana  Herrera  68.0    1.46    F    27   \n",
       "2           3     1717009159  Camila   Cedeño  94.5    1.66    M    42   \n",
       "3           4      113406285    José  Ramírez  69.4    1.45    F    32   \n",
       "4           5     1787050581   María  Herrera  83.5    1.70    M    20   \n",
       "\n",
       "      ciudad  altura_cm  \n",
       "0  Guayaquil      172.0  \n",
       "1     Cuenca      146.0  \n",
       "2      Quito      166.0  \n",
       "3     Cuenca      145.0  \n",
       "4      Quito      170.0  "
      ]
     },
     "execution_count": 184,
     "metadata": {},
     "output_type": "execute_result"
    }
   ],
   "source": [
    "personas_ecuador['altura_cm'] = personas_ecuador['altura'] * 100\n",
    "personas_ecuador.head()"
   ]
  },
  {
   "cell_type": "markdown",
   "id": "89a52b27",
   "metadata": {},
   "source": [
    "### **6️⃣ Peso promedio del dataset**\n",
    "Calcula el **peso promedio** de todas las personas del dataset."
   ]
  },
  {
   "cell_type": "code",
   "execution_count": 185,
   "id": "b36944e6",
   "metadata": {},
   "outputs": [
    {
     "name": "stdout",
     "output_type": "stream",
     "text": [
      "Peso promedio: 71.53\n"
     ]
    }
   ],
   "source": [
    "peso_promedio = personas_ecuador['peso'].mean()\n",
    "print(f\"Peso promedio: {peso_promedio:.2f}\")"
   ]
  },
  {
   "cell_type": "markdown",
   "id": "4338e6fd",
   "metadata": {},
   "source": [
    "### **7️⃣ Edad promedio**\n",
    "Calcula la **edad promedio** de las personas del dataset."
   ]
  },
  {
   "cell_type": "code",
   "execution_count": 186,
   "id": "83cd7d86",
   "metadata": {},
   "outputs": [
    {
     "name": "stdout",
     "output_type": "stream",
     "text": [
      "Edad promedio: 34.02\n"
     ]
    }
   ],
   "source": [
    "edad_promedio = personas_ecuador['edad'].mean()\n",
    "print(f\"Edad promedio: {edad_promedio:.2f}\")"
   ]
  },
  {
   "cell_type": "markdown",
   "id": "96852a17",
   "metadata": {},
   "source": [
    "### **8️⃣ Cuántas ciudades hay en el dataset**\n",
    "Muestra cuántas ciudades diferentes existen en la columna `ciudad`."
   ]
  },
  {
   "cell_type": "code",
   "execution_count": 187,
   "id": "901f0bad",
   "metadata": {},
   "outputs": [
    {
     "name": "stdout",
     "output_type": "stream",
     "text": [
      "Cantidad de ciudades diferentes: 3\n"
     ]
    }
   ],
   "source": [
    "ciudades_diferentes = personas_ecuador['ciudad'].nunique()\n",
    "print(f\"Cantidad de ciudades diferentes: {ciudades_diferentes}\")"
   ]
  },
  {
   "cell_type": "markdown",
   "id": "abfec131",
   "metadata": {},
   "source": [
    "### **9️⃣ Porcentaje de personas por ciudad**\n",
    "Calcula qué porcentaje de personas pertenece a **Guayaquil, Quito y Cuenca**."
   ]
  },
  {
   "cell_type": "code",
   "execution_count": 188,
   "id": "5312382a",
   "metadata": {},
   "outputs": [
    {
     "name": "stdout",
     "output_type": "stream",
     "text": [
      "Porcentaje de personas por ciudad: ciudad\n",
      "Guayaquil    43.0\n",
      "Quito        35.0\n",
      "Cuenca       22.0\n",
      "Name: proportion, dtype: float64\n"
     ]
    }
   ],
   "source": [
    "# normalize=True --> convierte los conteos en proporciones (dividiendo el conteo total por cada ciudad)\n",
    "# Multiplicar por 100 para obtener porcentajes\n",
    "porcentaje_por_ciudad = personas_ecuador['ciudad'].value_counts(normalize=True) * 100\n",
    "\n",
    "print(f\"Porcentaje de personas por ciudad: {porcentaje_por_ciudad}\")"
   ]
  },
  {
   "cell_type": "markdown",
   "id": "68a14681",
   "metadata": {},
   "source": [
    "### **🔟 Edad mínima y máxima**\n",
    "Encuentra la **edad mínima y máxima** del dataset."
   ]
  },
  {
   "cell_type": "code",
   "execution_count": 189,
   "id": "943ca6e7",
   "metadata": {},
   "outputs": [
    {
     "name": "stdout",
     "output_type": "stream",
     "text": [
      "Edad minima: 18\n",
      "Edad máxima: 50\n"
     ]
    }
   ],
   "source": [
    "edad_minima = personas_ecuador['edad'].min()\n",
    "edad_maxima = personas_ecuador['edad'].max()\n",
    "\n",
    "print(f\"Edad minima: {edad_minima}\")\n",
    "print(f\"Edad máxima: {edad_maxima}\")"
   ]
  },
  {
   "cell_type": "markdown",
   "id": "bafb9a81",
   "metadata": {},
   "source": [
    "### **11️⃣ Hombres con altura mayor al promedio**\n",
    "Calcula cuántos **hombres** tienen una **altura mayor al promedio general**."
   ]
  },
  {
   "cell_type": "code",
   "execution_count": 190,
   "id": "5f34066b",
   "metadata": {},
   "outputs": [
    {
     "name": "stdout",
     "output_type": "stream",
     "text": [
      "Cantidad de Hombres que tienen una altura mayor al promedio general: 3947\n"
     ]
    }
   ],
   "source": [
    "altura_promedio = personas_ecuador['altura'].mean()\n",
    "hombres_mayor_altura_promedio = personas_ecuador[(personas_ecuador['sexo'] == 'M') & (personas_ecuador['altura'] > altura_promedio)].shape[0] # Obtener la cantidad de filas del df filtrado\n",
    "\n",
    "print(f\"Cantidad de Hombres que tienen una altura mayor al promedio general: {hombres_mayor_altura_promedio}\")"
   ]
  },
  {
   "cell_type": "markdown",
   "id": "ff11aa7a",
   "metadata": {},
   "source": [
    "### **12️⃣ Calcular el BMI (Índice de Masa Corporal)**\n",
    "Agrega una nueva columna que calcule el BMI.\n",
    "💡 Fórmula:  \n",
    "$BMI = \\frac{peso}{altura^2}$"
   ]
  },
  {
   "cell_type": "code",
   "execution_count": 191,
   "id": "04a73d6b",
   "metadata": {},
   "outputs": [
    {
     "data": {
      "text/html": [
       "<div>\n",
       "<style scoped>\n",
       "    .dataframe tbody tr th:only-of-type {\n",
       "        vertical-align: middle;\n",
       "    }\n",
       "\n",
       "    .dataframe tbody tr th {\n",
       "        vertical-align: top;\n",
       "    }\n",
       "\n",
       "    .dataframe thead th {\n",
       "        text-align: right;\n",
       "    }\n",
       "</style>\n",
       "<table border=\"1\" class=\"dataframe\">\n",
       "  <thead>\n",
       "    <tr style=\"text-align: right;\">\n",
       "      <th></th>\n",
       "      <th>id_persona</th>\n",
       "      <th>numero_cedula</th>\n",
       "      <th>nombre</th>\n",
       "      <th>apellido</th>\n",
       "      <th>peso</th>\n",
       "      <th>altura</th>\n",
       "      <th>sexo</th>\n",
       "      <th>edad</th>\n",
       "      <th>ciudad</th>\n",
       "      <th>altura_cm</th>\n",
       "      <th>bmi</th>\n",
       "    </tr>\n",
       "  </thead>\n",
       "  <tbody>\n",
       "    <tr>\n",
       "      <th>0</th>\n",
       "      <td>1</td>\n",
       "      <td>991946723</td>\n",
       "      <td>Camila</td>\n",
       "      <td>Ramírez</td>\n",
       "      <td>65.4</td>\n",
       "      <td>1.72</td>\n",
       "      <td>M</td>\n",
       "      <td>32</td>\n",
       "      <td>Guayaquil</td>\n",
       "      <td>172.0</td>\n",
       "      <td>22.106544</td>\n",
       "    </tr>\n",
       "    <tr>\n",
       "      <th>1</th>\n",
       "      <td>2</td>\n",
       "      <td>176600841</td>\n",
       "      <td>Ana</td>\n",
       "      <td>Herrera</td>\n",
       "      <td>68.0</td>\n",
       "      <td>1.46</td>\n",
       "      <td>F</td>\n",
       "      <td>27</td>\n",
       "      <td>Cuenca</td>\n",
       "      <td>146.0</td>\n",
       "      <td>31.900919</td>\n",
       "    </tr>\n",
       "    <tr>\n",
       "      <th>2</th>\n",
       "      <td>3</td>\n",
       "      <td>1717009159</td>\n",
       "      <td>Camila</td>\n",
       "      <td>Cedeño</td>\n",
       "      <td>94.5</td>\n",
       "      <td>1.66</td>\n",
       "      <td>M</td>\n",
       "      <td>42</td>\n",
       "      <td>Quito</td>\n",
       "      <td>166.0</td>\n",
       "      <td>34.293802</td>\n",
       "    </tr>\n",
       "    <tr>\n",
       "      <th>3</th>\n",
       "      <td>4</td>\n",
       "      <td>113406285</td>\n",
       "      <td>José</td>\n",
       "      <td>Ramírez</td>\n",
       "      <td>69.4</td>\n",
       "      <td>1.45</td>\n",
       "      <td>F</td>\n",
       "      <td>32</td>\n",
       "      <td>Cuenca</td>\n",
       "      <td>145.0</td>\n",
       "      <td>33.008323</td>\n",
       "    </tr>\n",
       "    <tr>\n",
       "      <th>4</th>\n",
       "      <td>5</td>\n",
       "      <td>1787050581</td>\n",
       "      <td>María</td>\n",
       "      <td>Herrera</td>\n",
       "      <td>83.5</td>\n",
       "      <td>1.70</td>\n",
       "      <td>M</td>\n",
       "      <td>20</td>\n",
       "      <td>Quito</td>\n",
       "      <td>170.0</td>\n",
       "      <td>28.892734</td>\n",
       "    </tr>\n",
       "  </tbody>\n",
       "</table>\n",
       "</div>"
      ],
      "text/plain": [
       "   id_persona  numero_cedula  nombre apellido  peso  altura sexo  edad  \\\n",
       "0           1      991946723  Camila  Ramírez  65.4    1.72    M    32   \n",
       "1           2      176600841     Ana  Herrera  68.0    1.46    F    27   \n",
       "2           3     1717009159  Camila   Cedeño  94.5    1.66    M    42   \n",
       "3           4      113406285    José  Ramírez  69.4    1.45    F    32   \n",
       "4           5     1787050581   María  Herrera  83.5    1.70    M    20   \n",
       "\n",
       "      ciudad  altura_cm        bmi  \n",
       "0  Guayaquil      172.0  22.106544  \n",
       "1     Cuenca      146.0  31.900919  \n",
       "2      Quito      166.0  34.293802  \n",
       "3     Cuenca      145.0  33.008323  \n",
       "4      Quito      170.0  28.892734  "
      ]
     },
     "execution_count": 191,
     "metadata": {},
     "output_type": "execute_result"
    }
   ],
   "source": [
    "personas_ecuador['bmi'] = personas_ecuador['peso'] / (personas_ecuador['altura'] ** 2)\n",
    "\n",
    "personas_ecuador.head()"
   ]
  },
  {
   "cell_type": "markdown",
   "id": "6940746a",
   "metadata": {},
   "source": [
    "### **13️⃣ Crear columna booleana de sobrepeso**\n",
    "Crea una columna llamada `tiene_sobrepeso` que sea **True** si el BMI es mayor o igual a 25, y **False** si no lo es."
   ]
  },
  {
   "cell_type": "code",
   "execution_count": 192,
   "id": "74abc905",
   "metadata": {},
   "outputs": [
    {
     "data": {
      "text/html": [
       "<div>\n",
       "<style scoped>\n",
       "    .dataframe tbody tr th:only-of-type {\n",
       "        vertical-align: middle;\n",
       "    }\n",
       "\n",
       "    .dataframe tbody tr th {\n",
       "        vertical-align: top;\n",
       "    }\n",
       "\n",
       "    .dataframe thead th {\n",
       "        text-align: right;\n",
       "    }\n",
       "</style>\n",
       "<table border=\"1\" class=\"dataframe\">\n",
       "  <thead>\n",
       "    <tr style=\"text-align: right;\">\n",
       "      <th></th>\n",
       "      <th>id_persona</th>\n",
       "      <th>numero_cedula</th>\n",
       "      <th>nombre</th>\n",
       "      <th>apellido</th>\n",
       "      <th>peso</th>\n",
       "      <th>altura</th>\n",
       "      <th>sexo</th>\n",
       "      <th>edad</th>\n",
       "      <th>ciudad</th>\n",
       "      <th>altura_cm</th>\n",
       "      <th>bmi</th>\n",
       "      <th>tiene_sobrepreso</th>\n",
       "    </tr>\n",
       "  </thead>\n",
       "  <tbody>\n",
       "    <tr>\n",
       "      <th>0</th>\n",
       "      <td>1</td>\n",
       "      <td>991946723</td>\n",
       "      <td>Camila</td>\n",
       "      <td>Ramírez</td>\n",
       "      <td>65.4</td>\n",
       "      <td>1.72</td>\n",
       "      <td>M</td>\n",
       "      <td>32</td>\n",
       "      <td>Guayaquil</td>\n",
       "      <td>172.0</td>\n",
       "      <td>22.106544</td>\n",
       "      <td>False</td>\n",
       "    </tr>\n",
       "    <tr>\n",
       "      <th>1</th>\n",
       "      <td>2</td>\n",
       "      <td>176600841</td>\n",
       "      <td>Ana</td>\n",
       "      <td>Herrera</td>\n",
       "      <td>68.0</td>\n",
       "      <td>1.46</td>\n",
       "      <td>F</td>\n",
       "      <td>27</td>\n",
       "      <td>Cuenca</td>\n",
       "      <td>146.0</td>\n",
       "      <td>31.900919</td>\n",
       "      <td>True</td>\n",
       "    </tr>\n",
       "    <tr>\n",
       "      <th>2</th>\n",
       "      <td>3</td>\n",
       "      <td>1717009159</td>\n",
       "      <td>Camila</td>\n",
       "      <td>Cedeño</td>\n",
       "      <td>94.5</td>\n",
       "      <td>1.66</td>\n",
       "      <td>M</td>\n",
       "      <td>42</td>\n",
       "      <td>Quito</td>\n",
       "      <td>166.0</td>\n",
       "      <td>34.293802</td>\n",
       "      <td>True</td>\n",
       "    </tr>\n",
       "    <tr>\n",
       "      <th>3</th>\n",
       "      <td>4</td>\n",
       "      <td>113406285</td>\n",
       "      <td>José</td>\n",
       "      <td>Ramírez</td>\n",
       "      <td>69.4</td>\n",
       "      <td>1.45</td>\n",
       "      <td>F</td>\n",
       "      <td>32</td>\n",
       "      <td>Cuenca</td>\n",
       "      <td>145.0</td>\n",
       "      <td>33.008323</td>\n",
       "      <td>True</td>\n",
       "    </tr>\n",
       "    <tr>\n",
       "      <th>4</th>\n",
       "      <td>5</td>\n",
       "      <td>1787050581</td>\n",
       "      <td>María</td>\n",
       "      <td>Herrera</td>\n",
       "      <td>83.5</td>\n",
       "      <td>1.70</td>\n",
       "      <td>M</td>\n",
       "      <td>20</td>\n",
       "      <td>Quito</td>\n",
       "      <td>170.0</td>\n",
       "      <td>28.892734</td>\n",
       "      <td>True</td>\n",
       "    </tr>\n",
       "  </tbody>\n",
       "</table>\n",
       "</div>"
      ],
      "text/plain": [
       "   id_persona  numero_cedula  nombre apellido  peso  altura sexo  edad  \\\n",
       "0           1      991946723  Camila  Ramírez  65.4    1.72    M    32   \n",
       "1           2      176600841     Ana  Herrera  68.0    1.46    F    27   \n",
       "2           3     1717009159  Camila   Cedeño  94.5    1.66    M    42   \n",
       "3           4      113406285    José  Ramírez  69.4    1.45    F    32   \n",
       "4           5     1787050581   María  Herrera  83.5    1.70    M    20   \n",
       "\n",
       "      ciudad  altura_cm        bmi  tiene_sobrepreso  \n",
       "0  Guayaquil      172.0  22.106544             False  \n",
       "1     Cuenca      146.0  31.900919              True  \n",
       "2      Quito      166.0  34.293802              True  \n",
       "3     Cuenca      145.0  33.008323              True  \n",
       "4      Quito      170.0  28.892734              True  "
      ]
     },
     "execution_count": 192,
     "metadata": {},
     "output_type": "execute_result"
    }
   ],
   "source": [
    "personas_ecuador['tiene_sobrepreso'] = personas_ecuador['bmi'] >= 25\n",
    "\n",
    "personas_ecuador.head()"
   ]
  },
  {
   "cell_type": "markdown",
   "id": "b5fc6ac5",
   "metadata": {},
   "source": [
    "### **14️⃣ Porcentaje de personas con sobrepeso en Guayaquil**\n",
    "De las personas que tienen sobrepeso (`tiene_sobrepeso == True`), calcula **qué porcentaje vive en Guayaquil**."
   ]
  },
  {
   "cell_type": "code",
   "execution_count": 193,
   "id": "48dc0037",
   "metadata": {},
   "outputs": [
    {
     "name": "stdout",
     "output_type": "stream",
     "text": [
      "Porcentaje de personas con sobrepeso en Guayaquil: 42.95%\n"
     ]
    }
   ],
   "source": [
    "personas_sobrepeso = personas_ecuador[personas_ecuador['tiene_sobrepreso'] == True]\n",
    "\n",
    "porcentaje_sobrepeso_gye = (personas_sobrepeso['ciudad'] == 'Guayaquil').sum() / personas_sobrepeso.shape[0] * 100\n",
    "\n",
    "print(f\"Porcentaje de personas con sobrepeso en Guayaquil: {porcentaje_sobrepeso_gye:.2f}%\")"
   ]
  },
  {
   "cell_type": "markdown",
   "id": "d710f56b",
   "metadata": {},
   "source": [
    "### **15️⃣ Diferencia entre la altura promedio de hombres y mujeres**\n",
    "Calcula la diferencia en **altura promedio** entre hombres y mujeres."
   ]
  },
  {
   "cell_type": "code",
   "execution_count": 194,
   "id": "0b9a5754",
   "metadata": {},
   "outputs": [
    {
     "name": "stdout",
     "output_type": "stream",
     "text": [
      "Altura promedio hombres: 1.75\n",
      "Altura promedio mujeres: 1.62\n",
      "Diferencia: 0.13\n"
     ]
    }
   ],
   "source": [
    "altura_promedio_hombres = personas_ecuador[personas_ecuador['sexo'] == 'M']['altura'].mean()\n",
    "altura_promedio_mujeres = personas_ecuador[personas_ecuador['sexo'] == 'F']['altura'].mean()\n",
    "\n",
    "diferencia_altura = altura_promedio_hombres - altura_promedio_mujeres\n",
    "\n",
    "print(f\"Altura promedio hombres: {altura_promedio_hombres:.2f}\")\n",
    "print(f\"Altura promedio mujeres: {altura_promedio_mujeres:.2f}\")\n",
    "print(f\"Diferencia: {diferencia_altura:.2f}\")"
   ]
  },
  {
   "cell_type": "markdown",
   "id": "a59b4d17",
   "metadata": {},
   "source": [
    "### **16️⃣ Promedio de edad de las personas con sobrepeso**\n",
    "Calcula el **promedio de edad** solo de las personas con sobrepeso."
   ]
  },
  {
   "cell_type": "code",
   "execution_count": 195,
   "id": "564d4026",
   "metadata": {},
   "outputs": [
    {
     "name": "stdout",
     "output_type": "stream",
     "text": [
      "Promedio de edad de las personas con sobrepeso: 33.85\n"
     ]
    }
   ],
   "source": [
    "promedio_edad_sobrepreso = personas_ecuador[personas_ecuador['tiene_sobrepreso'] == True]['edad'].mean()\n",
    "\n",
    "print(f\"Promedio de edad de las personas con sobrepeso: {promedio_edad_sobrepreso:.2f}\")"
   ]
  }
 ],
 "metadata": {
  "kernelspec": {
   "display_name": "Python 3",
   "language": "python",
   "name": "python3"
  },
  "language_info": {
   "codemirror_mode": {
    "name": "ipython",
    "version": 3
   },
   "file_extension": ".py",
   "mimetype": "text/x-python",
   "name": "python",
   "nbconvert_exporter": "python",
   "pygments_lexer": "ipython3",
   "version": "3.13.7"
  }
 },
 "nbformat": 4,
 "nbformat_minor": 5
}

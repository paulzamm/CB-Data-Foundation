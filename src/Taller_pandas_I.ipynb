{
 "cells": [
  {
   "cell_type": "markdown",
   "id": "f6a17eb0",
   "metadata": {},
   "source": [
    "# Taller de Análisis de Datos - OnlineRetail.csv\n",
    "\n",
    "## 1. Leer el archivo correctamente\n",
    "\n",
    "Para el taller utilizarán el archivo: OnlineRetail.csv"
   ]
  },
  {
   "cell_type": "code",
   "execution_count": 1,
   "id": "b4e53b82",
   "metadata": {},
   "outputs": [
    {
     "data": {
      "text/html": [
       "<div>\n",
       "<style scoped>\n",
       "    .dataframe tbody tr th:only-of-type {\n",
       "        vertical-align: middle;\n",
       "    }\n",
       "\n",
       "    .dataframe tbody tr th {\n",
       "        vertical-align: top;\n",
       "    }\n",
       "\n",
       "    .dataframe thead th {\n",
       "        text-align: right;\n",
       "    }\n",
       "</style>\n",
       "<table border=\"1\" class=\"dataframe\">\n",
       "  <thead>\n",
       "    <tr style=\"text-align: right;\">\n",
       "      <th></th>\n",
       "      <th>InvoiceNo</th>\n",
       "      <th>StockCode</th>\n",
       "      <th>Description</th>\n",
       "      <th>Quantity</th>\n",
       "      <th>InvoiceDate</th>\n",
       "      <th>UnitPrice</th>\n",
       "      <th>CustomerID</th>\n",
       "      <th>Country</th>\n",
       "    </tr>\n",
       "  </thead>\n",
       "  <tbody>\n",
       "    <tr>\n",
       "      <th>0</th>\n",
       "      <td>536365</td>\n",
       "      <td>85123A</td>\n",
       "      <td>WHITE HANGING HEART T-LIGHT HOLDER</td>\n",
       "      <td>6</td>\n",
       "      <td>12/1/2010 8:26</td>\n",
       "      <td>2.55</td>\n",
       "      <td>17850.0</td>\n",
       "      <td>United Kingdom</td>\n",
       "    </tr>\n",
       "    <tr>\n",
       "      <th>1</th>\n",
       "      <td>536365</td>\n",
       "      <td>71053</td>\n",
       "      <td>WHITE METAL LANTERN</td>\n",
       "      <td>6</td>\n",
       "      <td>12/1/2010 8:26</td>\n",
       "      <td>3.39</td>\n",
       "      <td>17850.0</td>\n",
       "      <td>United Kingdom</td>\n",
       "    </tr>\n",
       "    <tr>\n",
       "      <th>2</th>\n",
       "      <td>536365</td>\n",
       "      <td>84406B</td>\n",
       "      <td>CREAM CUPID HEARTS COAT HANGER</td>\n",
       "      <td>8</td>\n",
       "      <td>12/1/2010 8:26</td>\n",
       "      <td>2.75</td>\n",
       "      <td>17850.0</td>\n",
       "      <td>United Kingdom</td>\n",
       "    </tr>\n",
       "    <tr>\n",
       "      <th>3</th>\n",
       "      <td>536365</td>\n",
       "      <td>84029G</td>\n",
       "      <td>KNITTED UNION FLAG HOT WATER BOTTLE</td>\n",
       "      <td>6</td>\n",
       "      <td>12/1/2010 8:26</td>\n",
       "      <td>3.39</td>\n",
       "      <td>17850.0</td>\n",
       "      <td>United Kingdom</td>\n",
       "    </tr>\n",
       "    <tr>\n",
       "      <th>4</th>\n",
       "      <td>536365</td>\n",
       "      <td>84029E</td>\n",
       "      <td>RED WOOLLY HOTTIE WHITE HEART.</td>\n",
       "      <td>6</td>\n",
       "      <td>12/1/2010 8:26</td>\n",
       "      <td>3.39</td>\n",
       "      <td>17850.0</td>\n",
       "      <td>United Kingdom</td>\n",
       "    </tr>\n",
       "  </tbody>\n",
       "</table>\n",
       "</div>"
      ],
      "text/plain": [
       "  InvoiceNo StockCode                          Description  Quantity  \\\n",
       "0    536365    85123A   WHITE HANGING HEART T-LIGHT HOLDER         6   \n",
       "1    536365     71053                  WHITE METAL LANTERN         6   \n",
       "2    536365    84406B       CREAM CUPID HEARTS COAT HANGER         8   \n",
       "3    536365    84029G  KNITTED UNION FLAG HOT WATER BOTTLE         6   \n",
       "4    536365    84029E       RED WOOLLY HOTTIE WHITE HEART.         6   \n",
       "\n",
       "      InvoiceDate  UnitPrice  CustomerID         Country  \n",
       "0  12/1/2010 8:26       2.55     17850.0  United Kingdom  \n",
       "1  12/1/2010 8:26       3.39     17850.0  United Kingdom  \n",
       "2  12/1/2010 8:26       2.75     17850.0  United Kingdom  \n",
       "3  12/1/2010 8:26       3.39     17850.0  United Kingdom  \n",
       "4  12/1/2010 8:26       3.39     17850.0  United Kingdom  "
      ]
     },
     "execution_count": 1,
     "metadata": {},
     "output_type": "execute_result"
    }
   ],
   "source": [
    "import pandas as pd\n",
    "\n",
    "df = pd.read_csv(\"../data/OnlineRetail.csv\", encoding='latin-1')\n",
    "df.head()"
   ]
  },
  {
   "cell_type": "markdown",
   "id": "4d23533b",
   "metadata": {},
   "source": [
    "## 2. ¿Cuántos productos diferentes hay?"
   ]
  },
  {
   "cell_type": "code",
   "execution_count": 2,
   "id": "ade3ff26",
   "metadata": {},
   "outputs": [
    {
     "name": "stdout",
     "output_type": "stream",
     "text": [
      "Cantidad de productos diferentes:  4223\n"
     ]
    }
   ],
   "source": [
    "print(\"Cantidad de productos diferentes: \", df['Description'].nunique())"
   ]
  },
  {
   "cell_type": "markdown",
   "id": "b691623e",
   "metadata": {},
   "source": [
    "## 3. ¿Cuántos clientes hay?"
   ]
  },
  {
   "cell_type": "code",
   "execution_count": 3,
   "id": "1fac50de",
   "metadata": {},
   "outputs": [
    {
     "name": "stdout",
     "output_type": "stream",
     "text": [
      "Cantidad de clientes:  4372\n"
     ]
    }
   ],
   "source": [
    "print(\"Cantidad de clientes: \", df['CustomerID'].nunique())"
   ]
  },
  {
   "cell_type": "markdown",
   "id": "864af024",
   "metadata": {},
   "source": [
    "## 4. Identifique el país con mayor cantidad de facturas"
   ]
  },
  {
   "cell_type": "code",
   "execution_count": 4,
   "id": "5a7158b1",
   "metadata": {},
   "outputs": [
    {
     "name": "stdout",
     "output_type": "stream",
     "text": [
      "País con mayor cantidad de facturas: United Kingdom\n"
     ]
    }
   ],
   "source": [
    "facturas_por_pais = df.groupby('Country')['InvoiceNo'].nunique().sort_values(ascending=False)\n",
    "print(\"País con mayor cantidad de facturas:\", facturas_por_pais.index[0])\n"
   ]
  },
  {
   "cell_type": "markdown",
   "id": "152df974",
   "metadata": {},
   "source": [
    "## 5. Reporte a nivel de clientes\n",
    "\n",
    "Preparar un reporte a nivel de clientes que incluya:\n",
    "- La cantidad de facturas que tiene el cliente (hint: para hacer conteo único utilizamos nunique en lugar de count)\n",
    "- El monto total comprado del cliente (hint: Revisar bien qué campo están usando👀)\n",
    "- Cuándo fue su última compra"
   ]
  },
  {
   "cell_type": "code",
   "execution_count": 5,
   "id": "dd50580c",
   "metadata": {},
   "outputs": [
    {
     "name": "stdout",
     "output_type": "stream",
     "text": [
      "   CustomerID  CantidadFacturas  MontoTotal     UltimaCompra\n",
      "0     12346.0                 2        0.00  1/18/2011 10:17\n",
      "1     12347.0                 7     4310.00    8/2/2011 8:48\n",
      "2     12348.0                 4     1797.24  9/25/2011 13:13\n",
      "3     12349.0                 1     1757.55  11/21/2011 9:51\n",
      "4     12350.0                 1      334.40   2/2/2011 16:01\n",
      "5     12352.0                11     1545.41  9/28/2011 14:58\n",
      "6     12353.0                 1       89.00  5/19/2011 17:47\n",
      "7     12354.0                 1     1079.40  4/21/2011 13:11\n",
      "8     12355.0                 1      459.40   5/9/2011 13:49\n",
      "9     12356.0                 3     2811.43   4/8/2011 12:33\n"
     ]
    }
   ],
   "source": [
    "df['TotalAmount'] = df['Quantity'] * df['UnitPrice']\n",
    "\n",
    "# Agrupar por CustomerID y crear el reporte\n",
    "reporte_clientes = df.groupby('CustomerID').agg({\n",
    "    'InvoiceNo': 'nunique',  # Cantidad de facturas únicas\n",
    "    'TotalAmount': 'sum',     # Monto total comprado\n",
    "    'InvoiceDate': 'max'      # Última compra\n",
    "}).reset_index()\n",
    "\n",
    "# Renombrar columnas\n",
    "reporte_clientes.columns = ['CustomerID', 'CantidadFacturas', 'MontoTotal', 'UltimaCompra']\n",
    "\n",
    "print(reporte_clientes.head(10))"
   ]
  },
  {
   "cell_type": "markdown",
   "id": "457aa987",
   "metadata": {},
   "source": [
    "## 6. Filtrado y ordenamiento del reporte\n",
    "\n",
    "Utilizando el reporte generado anteriormente:\n",
    "- Filtrar dejando solo los clientes con un monto de compra mayor al promedio\n",
    "- Y con una cantidad de facturas mayor a 1\n",
    "- Ordenarlos de mayor a menor según el monto"
   ]
  },
  {
   "cell_type": "code",
   "execution_count": 8,
   "id": "98a8242b",
   "metadata": {},
   "outputs": [
    {
     "name": "stdout",
     "output_type": "stream",
     "text": [
      "Monto promedio: 1898.46\n",
      "\n",
      "Clientes filtrados: 907\n",
      "\n",
      "Reporte filtrado y ordenado:\n",
      "      CustomerID  CantidadFacturas  MontoTotal     UltimaCompra\n",
      "1703     14646.0                77   279489.02   9/8/2011 11:28\n",
      "4233     18102.0                62   256438.49  9/28/2011 16:17\n",
      "3758     17450.0                55   187482.17   9/5/2011 13:52\n",
      "1895     14911.0               248   132572.62   9/9/2011 11:57\n",
      "55       12415.0                26   123725.45   9/1/2011 13:51\n",
      "1345     14156.0                66   113384.14   9/7/2011 16:00\n",
      "3801     17511.0                46    88125.38   9/7/2011 11:41\n",
      "3202     16684.0                31    65892.08  7/29/2011 15:12\n",
      "1005     13694.0                60    62653.10  9/29/2011 10:22\n",
      "2192     15311.0               118    59419.34   9/6/2011 14:38\n"
     ]
    }
   ],
   "source": [
    "monto_promedio = reporte_clientes['MontoTotal'].mean()\n",
    "\n",
    "reporte_filtrado = reporte_clientes[\n",
    "    (reporte_clientes['MontoTotal'] > monto_promedio) & \n",
    "    (reporte_clientes['CantidadFacturas'] > 1)\n",
    "]\n",
    "\n",
    "# Ordenar de mayor a menor según el monto\n",
    "reporte_filtrado = reporte_filtrado.sort_values('MontoTotal', ascending=False)\n",
    "\n",
    "print(f\"Monto promedio: {monto_promedio.round(2)}\")\n",
    "print(f\"\\nClientes filtrados: {len(reporte_filtrado)}\")\n",
    "print(\"\\nReporte filtrado y ordenado:\")\n",
    "print(reporte_filtrado.head(10))"
   ]
  },
  {
   "cell_type": "markdown",
   "id": "dcb2b064",
   "metadata": {},
   "source": [
    "## Bonus: 7. Pregunta personalizada\n",
    "\n",
    "Formule y responda una pregunta que involucre al menos 2 conceptos aprendidos en pandas. (3 puntos adicionales)"
   ]
  },
  {
   "cell_type": "code",
   "execution_count": 7,
   "id": "3e601c35",
   "metadata": {
    "vscode": {
     "languageId": "ruby"
    }
   },
   "outputs": [
    {
     "name": "stdout",
     "output_type": "stream",
     "text": [
      "Top 5 productos más vendidos en United Kingdom:\n",
      "\n",
      "                          Producto  CantidadVendida  IngresoTotal\n",
      " WORLD WAR 2 GLIDERS ASSTD DESIGNS            48326      12055.96\n",
      "           JUMBO BAG RED RETROSPOT            43167      84516.44\n",
      "                    POPCORN HOLDER            34365      32425.81\n",
      "     ASSORTED COLOUR BIRD ORNAMENT            33679      54662.15\n",
      "WHITE HANGING HEART T-LIGHT HOLDER            33193      93953.07\n",
      "\n",
      "Ingreso total combinado de estos 5 productos: 277613.43\n"
     ]
    }
   ],
   "source": [
    "# Pregunta: ¿Cuáles son los 5 productos más vendidos (por cantidad) en el país con mayor cantidad de facturas, \n",
    "# y cuál es el ingreso total generado por cada uno de estos productos?\n",
    "\n",
    "# Realizamos filtrado, agrupación, ordenamiento y operaciones de agregación\n",
    "\n",
    "# Paso 1: Filtrar por el país con mayor cantidad de facturas (United Kingdom)\n",
    "df_uk = df[df['Country'] == 'United Kingdom']\n",
    "\n",
    "# Paso 2: Agrupar por producto y calcular cantidad total vendida e ingreso total\n",
    "productos_top = df_uk.groupby('Description').agg({\n",
    "    'Quantity': 'sum',\n",
    "    'TotalAmount': 'sum'\n",
    "}).reset_index()\n",
    "\n",
    "# Paso 3: Ordenar por cantidad y obtener el top 5\n",
    "productos_top = productos_top.sort_values('Quantity', ascending=False).head(5)\n",
    "\n",
    "# Renombrar columnas\n",
    "productos_top.columns = ['Producto', 'CantidadVendida', 'IngresoTotal']\n",
    "\n",
    "print(f\"Top 5 productos más vendidos en {facturas_por_pais.index[0]}:\\n\")\n",
    "print(productos_top.to_string(index=False))\n",
    "print(f\"\\nIngreso total combinado de estos 5 productos: {productos_top['IngresoTotal'].sum()}\")"
   ]
  }
 ],
 "metadata": {
  "kernelspec": {
   "display_name": "Python 3",
   "language": "python",
   "name": "python3"
  },
  "language_info": {
   "codemirror_mode": {
    "name": "ipython",
    "version": 3
   },
   "file_extension": ".py",
   "mimetype": "text/x-python",
   "name": "python",
   "nbconvert_exporter": "python",
   "pygments_lexer": "ipython3",
   "version": "3.13.7"
  }
 },
 "nbformat": 4,
 "nbformat_minor": 5
}

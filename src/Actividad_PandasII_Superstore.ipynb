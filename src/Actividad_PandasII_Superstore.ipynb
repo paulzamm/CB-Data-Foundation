{
 "cells": [
  {
   "cell_type": "markdown",
   "id": "6e31dd6f",
   "metadata": {},
   "source": [
    "# 🧩 Actividad: Pandas II – Análisis con el Superstore Dataset"
   ]
  },
  {
   "cell_type": "markdown",
   "id": "3f3fca0f",
   "metadata": {},
   "source": [
    "## 🧱 Nivel 1 – Exploración del dataset\n",
    "\n",
    "Lea el archivo *Superstore.csv* , dentro de la función para leer el archivo coloque el parámetro **encoding = \"latin-1\"**\n",
    "1️⃣ Muestra cuántas filas y columnas tiene el dataset.\n",
    "\n",
    "2️⃣ Actualiza el DataFrame seleccionando únicamente las columnas:\n",
    "```\n",
    "['Category', 'Sub-Category', 'Region', 'Segment', 'Sales', 'Profit', 'Discount']\n",
    "```\n",
    "Guarda el resultado en una nueva variable.\n",
    "\n",
    "3️⃣ Muestra los valores únicos de las columnas Category, Region y Segment.\n",
    "\n",
    "4️⃣ Calcula cuántos registros hay por cada Region.\n",
    "\n",
    "5️⃣ Calcula el porcentaje que representa cada Segment respecto al total de registros."
   ]
  },
  {
   "cell_type": "code",
   "execution_count": 98,
   "id": "9d31b28a",
   "metadata": {},
   "outputs": [],
   "source": [
    "import pandas as pd"
   ]
  },
  {
   "cell_type": "code",
   "execution_count": 99,
   "id": "b9fcc0bb",
   "metadata": {},
   "outputs": [],
   "source": [
    "df = pd.read_csv(\"../data/Superstore.csv\", encoding = \"latin-1\")"
   ]
  },
  {
   "cell_type": "code",
   "execution_count": 100,
   "id": "17831918",
   "metadata": {},
   "outputs": [
    {
     "name": "stdout",
     "output_type": "stream",
     "text": [
      "El dataframe tiene 9994 filas y 21 columnas\n"
     ]
    }
   ],
   "source": [
    "# 1️⃣ Muestra cuántas filas y columnas tiene el dataset.\n",
    "print(f\"El dataframe tiene {df.shape[0]} filas y {df.shape[1]} columnas\")"
   ]
  },
  {
   "cell_type": "code",
   "execution_count": 101,
   "id": "1b32a0e3",
   "metadata": {},
   "outputs": [
    {
     "data": {
      "text/html": [
       "<div>\n",
       "<style scoped>\n",
       "    .dataframe tbody tr th:only-of-type {\n",
       "        vertical-align: middle;\n",
       "    }\n",
       "\n",
       "    .dataframe tbody tr th {\n",
       "        vertical-align: top;\n",
       "    }\n",
       "\n",
       "    .dataframe thead th {\n",
       "        text-align: right;\n",
       "    }\n",
       "</style>\n",
       "<table border=\"1\" class=\"dataframe\">\n",
       "  <thead>\n",
       "    <tr style=\"text-align: right;\">\n",
       "      <th></th>\n",
       "      <th>Category</th>\n",
       "      <th>Sub-Category</th>\n",
       "      <th>Region</th>\n",
       "      <th>Segment</th>\n",
       "      <th>Sales</th>\n",
       "      <th>Profit</th>\n",
       "      <th>Discount</th>\n",
       "    </tr>\n",
       "  </thead>\n",
       "  <tbody>\n",
       "    <tr>\n",
       "      <th>0</th>\n",
       "      <td>Furniture</td>\n",
       "      <td>Bookcases</td>\n",
       "      <td>South</td>\n",
       "      <td>Consumer</td>\n",
       "      <td>261.9600</td>\n",
       "      <td>41.9136</td>\n",
       "      <td>0.00</td>\n",
       "    </tr>\n",
       "    <tr>\n",
       "      <th>1</th>\n",
       "      <td>Furniture</td>\n",
       "      <td>Chairs</td>\n",
       "      <td>South</td>\n",
       "      <td>Consumer</td>\n",
       "      <td>731.9400</td>\n",
       "      <td>219.5820</td>\n",
       "      <td>0.00</td>\n",
       "    </tr>\n",
       "    <tr>\n",
       "      <th>2</th>\n",
       "      <td>Office Supplies</td>\n",
       "      <td>Labels</td>\n",
       "      <td>West</td>\n",
       "      <td>Corporate</td>\n",
       "      <td>14.6200</td>\n",
       "      <td>6.8714</td>\n",
       "      <td>0.00</td>\n",
       "    </tr>\n",
       "    <tr>\n",
       "      <th>3</th>\n",
       "      <td>Furniture</td>\n",
       "      <td>Tables</td>\n",
       "      <td>South</td>\n",
       "      <td>Consumer</td>\n",
       "      <td>957.5775</td>\n",
       "      <td>-383.0310</td>\n",
       "      <td>0.45</td>\n",
       "    </tr>\n",
       "    <tr>\n",
       "      <th>4</th>\n",
       "      <td>Office Supplies</td>\n",
       "      <td>Storage</td>\n",
       "      <td>South</td>\n",
       "      <td>Consumer</td>\n",
       "      <td>22.3680</td>\n",
       "      <td>2.5164</td>\n",
       "      <td>0.20</td>\n",
       "    </tr>\n",
       "  </tbody>\n",
       "</table>\n",
       "</div>"
      ],
      "text/plain": [
       "          Category Sub-Category Region    Segment     Sales    Profit  \\\n",
       "0        Furniture    Bookcases  South   Consumer  261.9600   41.9136   \n",
       "1        Furniture       Chairs  South   Consumer  731.9400  219.5820   \n",
       "2  Office Supplies       Labels   West  Corporate   14.6200    6.8714   \n",
       "3        Furniture       Tables  South   Consumer  957.5775 -383.0310   \n",
       "4  Office Supplies      Storage  South   Consumer   22.3680    2.5164   \n",
       "\n",
       "   Discount  \n",
       "0      0.00  \n",
       "1      0.00  \n",
       "2      0.00  \n",
       "3      0.45  \n",
       "4      0.20  "
      ]
     },
     "execution_count": 101,
     "metadata": {},
     "output_type": "execute_result"
    }
   ],
   "source": [
    "# 2️⃣ Actualiza el DataFrame seleccionando únicamente las columnas especificadas\n",
    "df_selected = df[['Category', 'Sub-Category', 'Region', 'Segment', 'Sales', 'Profit', 'Discount']]\n",
    "df_selected.head()"
   ]
  },
  {
   "cell_type": "code",
   "execution_count": 102,
   "id": "81824bcf",
   "metadata": {},
   "outputs": [
    {
     "name": "stdout",
     "output_type": "stream",
     "text": [
      "Valores únicos de Category:\n",
      "['Furniture' 'Office Supplies' 'Technology']\n",
      "\n",
      "\n",
      "Valores únicos de Region:\n",
      "['South' 'West' 'Central' 'East']\n",
      "\n",
      "Valores únicos de Segment:\n",
      "['Consumer' 'Corporate' 'Home Office']\n"
     ]
    }
   ],
   "source": [
    "\n",
    "# 3️⃣ Muestra los valores únicos de las columnas Category, Region y Segment\n",
    "print(\"Valores únicos de Category:\")\n",
    "print(df_selected['Category'].unique())\n",
    "print()\n",
    "\n",
    "print(\"\\nValores únicos de Region:\")\n",
    "print(df_selected['Region'].unique())\n",
    "\n",
    "print(\"\\nValores únicos de Segment:\")\n",
    "print(df_selected['Segment'].unique())"
   ]
  },
  {
   "cell_type": "code",
   "execution_count": 103,
   "id": "6db66e9d",
   "metadata": {},
   "outputs": [
    {
     "name": "stdout",
     "output_type": "stream",
     "text": [
      "Registros por Region:\n",
      "Region\n",
      "West       3203\n",
      "East       2848\n",
      "Central    2323\n",
      "South      1620\n",
      "Name: count, dtype: int64\n"
     ]
    }
   ],
   "source": [
    "# 4️⃣ Calcula cuántos registros hay por cada Region\n",
    "print(\"Registros por Region:\")\n",
    "print(df_selected['Region'].value_counts())"
   ]
  },
  {
   "cell_type": "code",
   "execution_count": 104,
   "id": "6c5d1b0e",
   "metadata": {},
   "outputs": [
    {
     "name": "stdout",
     "output_type": "stream",
     "text": [
      "Porcentaje por Segment:\n",
      "Segment\n",
      "Consumer       51.941165\n",
      "Corporate      30.218131\n",
      "Home Office    17.840704\n",
      "Name: proportion, dtype: float64\n"
     ]
    }
   ],
   "source": [
    "# 5️⃣ Calcula el porcentaje que representa cada Segment respecto al total de registros\n",
    "print(\"Porcentaje por Segment:\")\n",
    "print(df_selected['Segment'].value_counts(normalize=True) * 100)"
   ]
  },
  {
   "cell_type": "markdown",
   "id": "25cd7758",
   "metadata": {},
   "source": [
    "## ⚙️ Nivel 2 – Filtros simples \n",
    "(No los guarden en ninguna variable, ni actualicen el dataframe)  \n",
    "6️⃣ Filtra los datos para mostrar solo los registros donde la categoría sea Furniture.\n",
    "\n",
    "7️⃣ Muestra los registros donde las ventas sean mayores a 500.\n",
    "\n",
    "8️⃣ Muestra las filas donde el descuento sea igual a 0."
   ]
  },
  {
   "cell_type": "code",
   "execution_count": 105,
   "id": "ee1a9b60",
   "metadata": {},
   "outputs": [
    {
     "name": "stdout",
     "output_type": "stream",
     "text": [
      "Registros donde la categoría es Furniture:\n",
      "       Category Sub-Category   Region      Segment      Sales    Profit  \\\n",
      "0     Furniture    Bookcases    South     Consumer   261.9600   41.9136   \n",
      "1     Furniture       Chairs    South     Consumer   731.9400  219.5820   \n",
      "3     Furniture       Tables    South     Consumer   957.5775 -383.0310   \n",
      "5     Furniture  Furnishings     West     Consumer    48.8600   14.1694   \n",
      "10    Furniture       Tables     West     Consumer  1706.1840   85.3092   \n",
      "...         ...          ...      ...          ...        ...       ...   \n",
      "9962  Furniture    Bookcases  Central  Home Office   383.4656  -67.6704   \n",
      "9964  Furniture  Furnishings     East    Corporate    13.4000    6.4320   \n",
      "9980  Furniture       Tables    South     Consumer    85.9800   22.3548   \n",
      "9989  Furniture  Furnishings    South     Consumer    25.2480    4.1028   \n",
      "9990  Furniture  Furnishings     West     Consumer    91.9600   15.6332   \n",
      "\n",
      "      Discount  \n",
      "0         0.00  \n",
      "1         0.00  \n",
      "3         0.45  \n",
      "5         0.00  \n",
      "10        0.20  \n",
      "...        ...  \n",
      "9962      0.32  \n",
      "9964      0.00  \n",
      "9980      0.00  \n",
      "9989      0.20  \n",
      "9990      0.00  \n",
      "\n",
      "[2121 rows x 7 columns]\n"
     ]
    }
   ],
   "source": [
    "# 6️⃣ Filtra los datos para mostrar solo los registros donde la categoría sea Furniture\n",
    "print(\"Registros donde la categoría es Furniture:\")\n",
    "print(df_selected[df_selected['Category'] == 'Furniture'])"
   ]
  },
  {
   "cell_type": "code",
   "execution_count": 106,
   "id": "0f8a3795",
   "metadata": {},
   "outputs": [
    {
     "name": "stdout",
     "output_type": "stream",
     "text": [
      "\n",
      "Registros donde las ventas son mayores a 500:\n",
      "             Category Sub-Category   Region    Segment      Sales    Profit  \\\n",
      "1           Furniture       Chairs    South   Consumer   731.9400  219.5820   \n",
      "3           Furniture       Tables    South   Consumer   957.5775 -383.0310   \n",
      "7          Technology       Phones     West   Consumer   907.1520   90.7152   \n",
      "10          Furniture       Tables     West   Consumer  1706.1840   85.3092   \n",
      "11         Technology       Phones     West   Consumer   911.4240   68.3568   \n",
      "...               ...          ...      ...        ...        ...       ...   \n",
      "9931        Furniture    Bookcases     West   Consumer   683.3320  -40.1960   \n",
      "9942  Office Supplies      Storage     West   Consumer   998.8200   29.9646   \n",
      "9947        Furniture       Chairs  Central  Corporate  1925.8800  539.2464   \n",
      "9948  Office Supplies   Appliances  Central  Corporate  2405.2000  793.7160   \n",
      "9968  Office Supplies      Binders     East   Consumer   735.9800  331.1910   \n",
      "\n",
      "      Discount  \n",
      "1         0.00  \n",
      "3         0.45  \n",
      "7         0.20  \n",
      "10        0.20  \n",
      "11        0.20  \n",
      "...        ...  \n",
      "9931      0.15  \n",
      "9942      0.00  \n",
      "9947      0.00  \n",
      "9948      0.00  \n",
      "9968      0.00  \n",
      "\n",
      "[1162 rows x 7 columns]\n"
     ]
    }
   ],
   "source": [
    "# 7️⃣ Muestra los registros donde las ventas sean mayores a 500\n",
    "print(\"\\nRegistros donde las ventas son mayores a 500:\")\n",
    "print(df_selected[df_selected['Sales'] > 500])"
   ]
  },
  {
   "cell_type": "code",
   "execution_count": 107,
   "id": "0bf8f91a",
   "metadata": {},
   "outputs": [
    {
     "name": "stdout",
     "output_type": "stream",
     "text": [
      "\n",
      "Registros donde el descuento es igual a 0:\n",
      "             Category Sub-Category Region    Segment   Sales    Profit  \\\n",
      "0           Furniture    Bookcases  South   Consumer  261.96   41.9136   \n",
      "1           Furniture       Chairs  South   Consumer  731.94  219.5820   \n",
      "2     Office Supplies       Labels   West  Corporate   14.62    6.8714   \n",
      "5           Furniture  Furnishings   West   Consumer   48.86   14.1694   \n",
      "6     Office Supplies          Art   West   Consumer    7.28    1.9656   \n",
      "...               ...          ...    ...        ...     ...       ...   \n",
      "9987       Technology  Accessories  South  Corporate   79.99   28.7964   \n",
      "9988       Technology       Phones  South  Corporate  206.10   55.6470   \n",
      "9990        Furniture  Furnishings   West   Consumer   91.96   15.6332   \n",
      "9992  Office Supplies        Paper   West   Consumer   29.60   13.3200   \n",
      "9993  Office Supplies   Appliances   West   Consumer  243.16   72.9480   \n",
      "\n",
      "      Discount  \n",
      "0          0.0  \n",
      "1          0.0  \n",
      "2          0.0  \n",
      "5          0.0  \n",
      "6          0.0  \n",
      "...        ...  \n",
      "9987       0.0  \n",
      "9988       0.0  \n",
      "9990       0.0  \n",
      "9992       0.0  \n",
      "9993       0.0  \n",
      "\n",
      "[4798 rows x 7 columns]\n"
     ]
    }
   ],
   "source": [
    "# 8️⃣ Muestra las filas donde el descuento sea igual a 0\n",
    "print(\"\\nRegistros donde el descuento es igual a 0:\")\n",
    "print(df_selected[df_selected['Discount'] == 0])"
   ]
  },
  {
   "cell_type": "markdown",
   "id": "a8fff9d9",
   "metadata": {},
   "source": [
    "## 🧮 Nivel 3 – Filtros con operadores lógicos\n",
    "9️⃣ Muestra las filas donde la ganancia sea mayor a 50 y el descuento menor a 0.2.\n",
    "\n",
    "🔟 Muestra los registros donde la categoría sea Technology o la región sea West.\n",
    "\n",
    "11️⃣ Muestra todas las filas que no pertenezcan a la categoría Office Supplies."
   ]
  },
  {
   "cell_type": "code",
   "execution_count": 108,
   "id": "5e95d18b",
   "metadata": {},
   "outputs": [
    {
     "name": "stdout",
     "output_type": "stream",
     "text": [
      "Registros donde la ganancia > 50 y descuento < 0.2:\n",
      "             Category Sub-Category Region      Segment    Sales    Profit  \\\n",
      "1           Furniture       Chairs  South     Consumer   731.94  219.5820   \n",
      "24          Furniture       Tables   West     Consumer  1044.63  240.2649   \n",
      "54         Technology       Phones   East    Corporate  1029.95  298.6855   \n",
      "55    Office Supplies      Storage   East     Consumer   208.56   52.1400   \n",
      "64    Office Supplies        Paper   West     Consumer   146.73   68.9631   \n",
      "...               ...          ...    ...          ...      ...       ...   \n",
      "9966  Office Supplies    Envelopes   East    Corporate   109.69   51.5543   \n",
      "9968  Office Supplies      Binders   East     Consumer   735.98  331.1910   \n",
      "9970  Office Supplies      Binders  South  Home Office   119.56   54.9976   \n",
      "9988       Technology       Phones  South    Corporate   206.10   55.6470   \n",
      "9993  Office Supplies   Appliances   West     Consumer   243.16   72.9480   \n",
      "\n",
      "      Discount  \n",
      "1          0.0  \n",
      "24         0.0  \n",
      "54         0.0  \n",
      "55         0.0  \n",
      "64         0.0  \n",
      "...        ...  \n",
      "9966       0.0  \n",
      "9968       0.0  \n",
      "9970       0.0  \n",
      "9988       0.0  \n",
      "9993       0.0  \n",
      "\n",
      "[1267 rows x 7 columns]\n"
     ]
    }
   ],
   "source": [
    "# 9️⃣ Muestra las filas donde la ganancia sea mayor a 50 y el descuento menor a 0.2\n",
    "print(\"Registros donde la ganancia > 50 y descuento < 0.2:\")\n",
    "print(df_selected[(df_selected['Profit'] > 50) & (df_selected['Discount'] < 0.2)])"
   ]
  },
  {
   "cell_type": "code",
   "execution_count": 109,
   "id": "5b89e2d3",
   "metadata": {},
   "outputs": [
    {
     "name": "stdout",
     "output_type": "stream",
     "text": [
      "Registros donde la categoría es Technology o la región es West:\n",
      "             Category Sub-Category Region    Segment    Sales   Profit  \\\n",
      "2     Office Supplies       Labels   West  Corporate   14.620   6.8714   \n",
      "5           Furniture  Furnishings   West   Consumer   48.860  14.1694   \n",
      "6     Office Supplies          Art   West   Consumer    7.280   1.9656   \n",
      "7          Technology       Phones   West   Consumer  907.152  90.7152   \n",
      "8     Office Supplies      Binders   West   Consumer   18.504   5.7825   \n",
      "...               ...          ...    ...        ...      ...      ...   \n",
      "9988       Technology       Phones  South  Corporate  206.100  55.6470   \n",
      "9990        Furniture  Furnishings   West   Consumer   91.960  15.6332   \n",
      "9991       Technology       Phones   West   Consumer  258.576  19.3932   \n",
      "9992  Office Supplies        Paper   West   Consumer   29.600  13.3200   \n",
      "9993  Office Supplies   Appliances   West   Consumer  243.160  72.9480   \n",
      "\n",
      "      Discount  \n",
      "2          0.0  \n",
      "5          0.0  \n",
      "6          0.0  \n",
      "7          0.2  \n",
      "8          0.2  \n",
      "...        ...  \n",
      "9988       0.0  \n",
      "9990       0.0  \n",
      "9991       0.2  \n",
      "9992       0.0  \n",
      "9993       0.0  \n",
      "\n",
      "[4451 rows x 7 columns]\n"
     ]
    }
   ],
   "source": [
    "# 🔟 Muestra los registros donde la categoría sea Technology o la región sea West\n",
    "print(\"Registros donde la categoría es Technology o la región es West:\")\n",
    "print(df_selected[(df_selected['Category'] == 'Technology') | (df_selected['Region'] == 'West')])"
   ]
  },
  {
   "cell_type": "code",
   "execution_count": 110,
   "id": "61a04416",
   "metadata": {},
   "outputs": [
    {
     "name": "stdout",
     "output_type": "stream",
     "text": [
      "Registros que no pertenecen a la categoría Office Supplies:\n",
      "        Category Sub-Category Region    Segment     Sales    Profit  Discount\n",
      "0      Furniture    Bookcases  South   Consumer  261.9600   41.9136      0.00\n",
      "1      Furniture       Chairs  South   Consumer  731.9400  219.5820      0.00\n",
      "3      Furniture       Tables  South   Consumer  957.5775 -383.0310      0.45\n",
      "5      Furniture  Furnishings   West   Consumer   48.8600   14.1694      0.00\n",
      "7     Technology       Phones   West   Consumer  907.1520   90.7152      0.20\n",
      "...          ...          ...    ...        ...       ...       ...       ...\n",
      "9987  Technology  Accessories  South  Corporate   79.9900   28.7964      0.00\n",
      "9988  Technology       Phones  South  Corporate  206.1000   55.6470      0.00\n",
      "9989   Furniture  Furnishings  South   Consumer   25.2480    4.1028      0.20\n",
      "9990   Furniture  Furnishings   West   Consumer   91.9600   15.6332      0.00\n",
      "9991  Technology       Phones   West   Consumer  258.5760   19.3932      0.20\n",
      "\n",
      "[3968 rows x 7 columns]\n"
     ]
    }
   ],
   "source": [
    "# 11️⃣ Muestra todas las filas que no pertenezcan a la categoría Office Supplies\n",
    "print(\"Registros que no pertenecen a la categoría Office Supplies:\")\n",
    "print(df_selected[df_selected['Category'] != 'Office Supplies'])"
   ]
  },
  {
   "cell_type": "markdown",
   "id": "27f62573",
   "metadata": {},
   "source": [
    "## 🎯 Nivel 4 – Inclusiones\n",
    "12️⃣ Muestra las filas donde la categoría esté entre Furniture, Technology u Office Supplies.\n",
    "\n",
    "13️⃣ Muestra las filas donde la región esté entre East y West."
   ]
  },
  {
   "cell_type": "code",
   "execution_count": 111,
   "id": "1a322038",
   "metadata": {},
   "outputs": [
    {
     "name": "stdout",
     "output_type": "stream",
     "text": [
      "Registros donde la categoría está entre Furniture, Technology u Office Supplies:\n",
      "             Category Sub-Category Region    Segment     Sales    Profit  \\\n",
      "0           Furniture    Bookcases  South   Consumer  261.9600   41.9136   \n",
      "1           Furniture       Chairs  South   Consumer  731.9400  219.5820   \n",
      "2     Office Supplies       Labels   West  Corporate   14.6200    6.8714   \n",
      "3           Furniture       Tables  South   Consumer  957.5775 -383.0310   \n",
      "4     Office Supplies      Storage  South   Consumer   22.3680    2.5164   \n",
      "...               ...          ...    ...        ...       ...       ...   \n",
      "9989        Furniture  Furnishings  South   Consumer   25.2480    4.1028   \n",
      "9990        Furniture  Furnishings   West   Consumer   91.9600   15.6332   \n",
      "9991       Technology       Phones   West   Consumer  258.5760   19.3932   \n",
      "9992  Office Supplies        Paper   West   Consumer   29.6000   13.3200   \n",
      "9993  Office Supplies   Appliances   West   Consumer  243.1600   72.9480   \n",
      "\n",
      "      Discount  \n",
      "0         0.00  \n",
      "1         0.00  \n",
      "2         0.00  \n",
      "3         0.45  \n",
      "4         0.20  \n",
      "...        ...  \n",
      "9989      0.20  \n",
      "9990      0.00  \n",
      "9991      0.20  \n",
      "9992      0.00  \n",
      "9993      0.00  \n",
      "\n",
      "[9994 rows x 7 columns]\n"
     ]
    }
   ],
   "source": [
    "# 12️⃣ Muestra las filas donde la categoría esté entre Furniture, Technology u Office Supplies\n",
    "print(\"Registros donde la categoría está entre Furniture, Technology u Office Supplies:\")\n",
    "print(df_selected[df_selected['Category'].isin(['Furniture', 'Technology', 'Office Supplies'])])"
   ]
  },
  {
   "cell_type": "code",
   "execution_count": 112,
   "id": "49961f5e",
   "metadata": {},
   "outputs": [
    {
     "name": "stdout",
     "output_type": "stream",
     "text": [
      "Registros donde la región está entre East y West:\n",
      "             Category Sub-Category Region    Segment    Sales   Profit  \\\n",
      "2     Office Supplies       Labels   West  Corporate   14.620   6.8714   \n",
      "5           Furniture  Furnishings   West   Consumer   48.860  14.1694   \n",
      "6     Office Supplies          Art   West   Consumer    7.280   1.9656   \n",
      "7          Technology       Phones   West   Consumer  907.152  90.7152   \n",
      "8     Office Supplies      Binders   West   Consumer   18.504   5.7825   \n",
      "...               ...          ...    ...        ...      ...      ...   \n",
      "9986       Technology  Accessories   West   Consumer   36.240  15.2208   \n",
      "9990        Furniture  Furnishings   West   Consumer   91.960  15.6332   \n",
      "9991       Technology       Phones   West   Consumer  258.576  19.3932   \n",
      "9992  Office Supplies        Paper   West   Consumer   29.600  13.3200   \n",
      "9993  Office Supplies   Appliances   West   Consumer  243.160  72.9480   \n",
      "\n",
      "      Discount  \n",
      "2          0.0  \n",
      "5          0.0  \n",
      "6          0.0  \n",
      "7          0.2  \n",
      "8          0.2  \n",
      "...        ...  \n",
      "9986       0.0  \n",
      "9990       0.0  \n",
      "9991       0.2  \n",
      "9992       0.0  \n",
      "9993       0.0  \n",
      "\n",
      "[6051 rows x 7 columns]\n"
     ]
    }
   ],
   "source": [
    "# 13️⃣ Muestra las filas donde la región esté entre East y West\n",
    "print(\"Registros donde la región está entre East y West:\")\n",
    "print(df_selected[df_selected['Region'].isin(['East', 'West'])])"
   ]
  },
  {
   "cell_type": "markdown",
   "id": "cc56a314",
   "metadata": {},
   "source": [
    "## 📊 Nivel 5 – Agrupaciones y agregaciones\n",
    "14️⃣ Calcula el total de ventas por categoría de producto.\n",
    "\n",
    "15️⃣ Calcula el promedio de ganancia por región.\n",
    "\n",
    "16️⃣ Calcula cuántos registros existen por segmento de cliente.\n",
    "\n",
    "17️⃣ Calcula el promedio de ventas y de ganancia por categoría de producto y región.\n",
    "\n",
    "18️⃣ Calcula el total de ventas por subcategoría y ordénalo de mayor a menor."
   ]
  },
  {
   "cell_type": "code",
   "execution_count": 113,
   "id": "db964c43",
   "metadata": {},
   "outputs": [
    {
     "name": "stdout",
     "output_type": "stream",
     "text": [
      "Total de ventas por categoría:\n",
      "Category\n",
      "Furniture          741999.7953\n",
      "Office Supplies    719047.0320\n",
      "Technology         836154.0330\n",
      "Name: Sales, dtype: float64\n"
     ]
    }
   ],
   "source": [
    "# 14️⃣ Calcula el total de ventas por categoría de producto\n",
    "print(\"Total de ventas por categoría:\")\n",
    "print(df_selected.groupby('Category')['Sales'].sum())"
   ]
  },
  {
   "cell_type": "code",
   "execution_count": 114,
   "id": "9d881de4",
   "metadata": {},
   "outputs": [
    {
     "name": "stdout",
     "output_type": "stream",
     "text": [
      "Promedio de ganancia por región:\n",
      "Region\n",
      "Central    17.092709\n",
      "East       32.135808\n",
      "South      28.857673\n",
      "West       33.849032\n",
      "Name: Profit, dtype: float64\n"
     ]
    }
   ],
   "source": [
    "# 15️⃣ Calcula el promedio de ganancia por región\n",
    "print(\"Promedio de ganancia por región:\")\n",
    "print(df_selected.groupby('Region')['Profit'].mean())"
   ]
  },
  {
   "cell_type": "code",
   "execution_count": 115,
   "id": "c21c7fae",
   "metadata": {},
   "outputs": [
    {
     "name": "stdout",
     "output_type": "stream",
     "text": [
      "Cantidad de registros por segmento de cliente:\n",
      "Segment\n",
      "Consumer       5191\n",
      "Corporate      3020\n",
      "Home Office    1783\n",
      "dtype: int64\n"
     ]
    }
   ],
   "source": [
    "# 16️⃣ Calcula cuántos registros existen por segmento de cliente\n",
    "print(\"Cantidad de registros por segmento de cliente:\")\n",
    "print(df_selected.groupby('Segment').size())"
   ]
  },
  {
   "cell_type": "code",
   "execution_count": 116,
   "id": "64388b2e",
   "metadata": {},
   "outputs": [
    {
     "name": "stdout",
     "output_type": "stream",
     "text": [
      "Promedio de ventas y ganancia por categoría y región:\n",
      "                              Sales     Profit\n",
      "Category        Region                        \n",
      "Furniture       Central  340.534644  -5.968918\n",
      "                East     346.574383   5.068496\n",
      "                South    353.309289  20.395199\n",
      "                West     357.302325  16.272914\n",
      "Office Supplies Central  117.458801   6.244712\n",
      "                East     120.044425  23.957114\n",
      "                South    126.282727  20.086827\n",
      "                West     116.422377  27.733183\n",
      "Technology      Central  405.753124  80.231981\n",
      "                East     495.278469  88.714084\n",
      "                South    507.753952  68.231506\n",
      "                West     420.687533  73.962687\n"
     ]
    }
   ],
   "source": [
    "# 17️⃣ Calcula el promedio de ventas y de ganancia por categoría de producto y región\n",
    "print(\"Promedio de ventas y ganancia por categoría y región:\")\n",
    "print(df_selected.groupby(['Category', 'Region'])[['Sales', 'Profit']].mean())"
   ]
  },
  {
   "cell_type": "code",
   "execution_count": 117,
   "id": "89c7d1e3",
   "metadata": {},
   "outputs": [
    {
     "name": "stdout",
     "output_type": "stream",
     "text": [
      "Total de ventas por subcategoría (ordenado de mayor a menor):\n",
      "Sub-Category\n",
      "Phones         330007.0540\n",
      "Chairs         328449.1030\n",
      "Storage        223843.6080\n",
      "Tables         206965.5320\n",
      "Binders        203412.7330\n",
      "Machines       189238.6310\n",
      "Accessories    167380.3180\n",
      "Copiers        149528.0300\n",
      "Bookcases      114879.9963\n",
      "Appliances     107532.1610\n",
      "Furnishings     91705.1640\n",
      "Paper           78479.2060\n",
      "Supplies        46673.5380\n",
      "Art             27118.7920\n",
      "Envelopes       16476.4020\n",
      "Labels          12486.3120\n",
      "Fasteners        3024.2800\n",
      "Name: Sales, dtype: float64\n"
     ]
    }
   ],
   "source": [
    "# 18️⃣ Calcula el total de ventas por subcategoría y ordénalo de mayor a menor\n",
    "print(\"Total de ventas por subcategoría (ordenado de mayor a menor):\")\n",
    "print(df_selected.groupby('Sub-Category')['Sales'].sum().sort_values(ascending=False))"
   ]
  },
  {
   "cell_type": "markdown",
   "id": "e0befee0",
   "metadata": {},
   "source": [
    "## 🧠 Nivel 6 – Combinando filtros y agrupaciones\n",
    "19️⃣ Filtra los registros donde la ganancia sea mayor a 0 y el descuento menor a 0.1. Luego calcula el total de ventas por categoría.\n",
    "\n",
    "20️⃣ Filtra los registros donde el descuento sea mayor a 0.2 y calcula el promedio de ganancia por subcategoría.\n",
    "\n",
    "21️⃣ Filtra los registros donde el segmento sea Consumer y muestra las tres subcategorías con mayores ventas."
   ]
  },
  {
   "cell_type": "code",
   "execution_count": 118,
   "id": "f28ff8bb",
   "metadata": {},
   "outputs": [
    {
     "name": "stdout",
     "output_type": "stream",
     "text": [
      "Total de ventas por categoría (con ganancia > 0 y descuento < 0.1):\n",
      "Category\n",
      "Furniture          256025.27\n",
      "Office Supplies    434293.96\n",
      "Technology         389517.88\n",
      "Name: Sales, dtype: float64\n"
     ]
    }
   ],
   "source": [
    "# 19️⃣ Filtra los registros donde la ganancia sea mayor a 0 y el descuento menor a 0.1. Luego calcula el total de ventas por categoría\n",
    "df_filtrado = df_selected[(df_selected['Profit'] > 0) & (df_selected['Discount'] < 0.1)]\n",
    "print(\"Total de ventas por categoría (con ganancia > 0 y descuento < 0.1):\")\n",
    "print(df_filtrado.groupby('Category')['Sales'].sum())"
   ]
  },
  {
   "cell_type": "code",
   "execution_count": 119,
   "id": "7d512ffc",
   "metadata": {},
   "outputs": [
    {
     "name": "stdout",
     "output_type": "stream",
     "text": [
      "Promedio de ganancia por subcategoría (con descuento > 0.2):\n",
      "Sub-Category\n",
      "Appliances    -128.800615\n",
      "Binders        -62.822996\n",
      "Bookcases     -158.539449\n",
      "Chairs         -42.639979\n",
      "Copiers        242.552800\n",
      "Furnishings    -43.077212\n",
      "Machines      -557.648153\n",
      "Phones         -58.585187\n",
      "Tables        -174.421720\n",
      "Name: Profit, dtype: float64\n"
     ]
    }
   ],
   "source": [
    "# 20️⃣ Filtra los registros donde el descuento sea mayor a 0.2 y calcula el promedio de ganancia por subcategoría\n",
    "df_filtrado_20 = df_selected[df_selected['Discount'] > 0.2]\n",
    "print(\"Promedio de ganancia por subcategoría (con descuento > 0.2):\")\n",
    "print(df_filtrado_20.groupby('Sub-Category')['Profit'].mean())"
   ]
  },
  {
   "cell_type": "code",
   "execution_count": 120,
   "id": "766294ca",
   "metadata": {
    "vscode": {
     "languageId": "ruby"
    }
   },
   "outputs": [
    {
     "name": "stdout",
     "output_type": "stream",
     "text": [
      "Las tres subcategorías con mayores ventas en el segmento Consumer:\n",
      "Sub-Category\n",
      "Chairs     172862.742\n",
      "Phones     169932.764\n",
      "Binders    118161.009\n",
      "Name: Sales, dtype: float64\n"
     ]
    }
   ],
   "source": [
    "# 21️⃣ Filtra los registros donde el segmento sea Consumer y muestra las tres subcategorías con mayores ventas\n",
    "filtrado_consumer = df_selected[df_selected['Segment'] == 'Consumer']\n",
    "print(\"Las tres subcategorías con mayores ventas en el segmento Consumer:\")\n",
    "print(filtrado_consumer.groupby('Sub-Category')['Sales'].sum().sort_values(ascending=False).head(3))"
   ]
  },
  {
   "cell_type": "markdown",
   "id": "d5d917fd",
   "metadata": {},
   "source": [
    "## 💬 Nivel 7 – Análisis libre y pensamiento crítico\n",
    "22️⃣ Usando filtros y agrupaciones, formula una pregunta de análisis propia sobre el dataset y respóndela con código y una breve interpretación.\n",
    "\n",
    "23️⃣ Formula una segunda pregunta distinta, combinando al menos dos conceptos aprendidos hoy (por ejemplo: filtros, inclusiones, agrupaciones u ordenamientos)."
   ]
  },
  {
   "cell_type": "code",
   "execution_count": 121,
   "id": "c3ba3108",
   "metadata": {},
   "outputs": [
    {
     "name": "stdout",
     "output_type": "stream",
     "text": [
      "Pregunta: ¿Cuál es la región más rentable para cada categoría de producto?\n",
      "\n",
      "Región más rentable por categoría:\n",
      "          Category Region     Profit\n",
      "2        Furniture  South  20.395199\n",
      "7  Office Supplies   West  27.733183\n",
      "9       Technology   East  88.714084\n",
      "\n",
      "Breve Interpretación:\n",
      "- Para Furniture, la región más rentable es: South\n",
      "- Para Office Supplies, la región más rentable es: West\n",
      "- Para Technology, la región más rentable es: East\n",
      "\n",
      "Esto nos permite identificar en qué regiones la empresa debe enfocarse para maximizar ganancias por categoría.\n"
     ]
    }
   ],
   "source": [
    "# 22️⃣ Usando filtros y agrupaciones, formula una pregunta de análisis propia sobre el dataset y respóndela con código y una breve interpretación.\n",
    "\n",
    "print(\"Pregunta: ¿Cuál es la región más rentable para cada categoría de producto?\\n\")\n",
    "\n",
    "# Ganancia promedio por categoría y región\n",
    "ganancia_por_cat_region = df_selected.groupby(['Category', 'Region'])['Profit'].mean().reset_index()\n",
    "\n",
    "# Para cada categoría, encontramos la región con mayor ganancia promedio\n",
    "region_mas_rentable = ganancia_por_cat_region.loc[ganancia_por_cat_region.groupby('Category')['Profit'].idxmax()]\n",
    "\n",
    "print(\"Región más rentable por categoría:\")\n",
    "print(region_mas_rentable)\n",
    "\n",
    "print(\"\\nBreve Interpretación:\")\n",
    "print(\"- Para Furniture, la región más rentable es:\", region_mas_rentable[region_mas_rentable['Category'] == 'Furniture']['Region'].values[0])\n",
    "print(\"- Para Office Supplies, la región más rentable es:\", region_mas_rentable[region_mas_rentable['Category'] == 'Office Supplies']['Region'].values[0])\n",
    "print(\"- Para Technology, la región más rentable es:\", region_mas_rentable[region_mas_rentable['Category'] == 'Technology']['Region'].values[0])\n",
    "print(\"\\nEsto nos permite identificar en qué regiones la empresa debe enfocarse para maximizar ganancias por categoría.\")"
   ]
  },
  {
   "cell_type": "code",
   "execution_count": 122,
   "id": "3b8c428b",
   "metadata": {
    "vscode": {
     "languageId": "ruby"
    }
   },
   "outputs": [
    {
     "name": "stdout",
     "output_type": "stream",
     "text": [
      "Pregunta: ¿Cuáles son las 5 subcategorías con mayores ventas totales en las regiones East y West, considerando solo los productos con descuento menor o igual a 0.1?\n",
      "\n",
      "Top 5 subcategorías con mayores ventas (regiones East y West, descuento <= 0.1):\n",
      "Sub-Category\n",
      "Storage        115127.700\n",
      "Accessories     83780.880\n",
      "Chairs          67390.807\n",
      "Phones          66277.630\n",
      "Machines        54994.210\n",
      "Name: Sales, dtype: float64\n",
      "\n",
      "Breve Interpretación:\n",
      "Al combinar filtros (regiones East y West, descuento <= 0.1), inclusiones (.isin()) y agrupaciones con ordenamiento,\n",
      "podemos identificar las subcategorías más vendidas en estas regiones específicas cuando los descuentos son bajos.\n",
      "Esto ayuda a entender qué productos generan mayores ventas sin necesidad de aplicar descuentos significativos,\n",
      "lo cual es valioso para estrategias de pricing y maximización de márgenes.\n"
     ]
    }
   ],
   "source": [
    "# 23️⃣ Formula una segunda pregunta distinta, combinando al menos dos conceptos aprendidos hoy\n",
    "\n",
    "print(\"Pregunta: ¿Cuáles son las 5 subcategorías con mayores ventas totales en las regiones East y West, considerando solo los productos con descuento menor o igual a 0.1?\\n\")\n",
    "\n",
    "# Filtrar registros de las regiones East y West con descuento <= 0.1\n",
    "df_filtrado_23 = df_selected[(df_selected['Region'].isin(['East', 'West'])) & (df_selected['Discount'] <= 0.1)]\n",
    "\n",
    "# Agrupar por subcategoría y sumar las ventas\n",
    "ventas_por_subcat = df_filtrado_23.groupby('Sub-Category')['Sales'].sum().sort_values(ascending=False)\n",
    "\n",
    "# Mostrar las top 5 subcategorías\n",
    "top_5_subcategorias = ventas_por_subcat.head(5)\n",
    "\n",
    "print(\"Top 5 subcategorías con mayores ventas (regiones East y West, descuento <= 0.1):\")\n",
    "print(top_5_subcategorias)\n",
    "\n",
    "print(\"\\nBreve Interpretación:\")\n",
    "print(\"Al combinar filtros (regiones East y West, descuento <= 0.1), inclusiones (.isin()) y agrupaciones con ordenamiento,\")\n",
    "print(\"podemos identificar las subcategorías más vendidas en estas regiones específicas cuando los descuentos son bajos.\")\n",
    "print(\"Esto ayuda a entender qué productos generan mayores ventas sin necesidad de aplicar descuentos significativos,\")\n",
    "print(\"lo cual es valioso para estrategias de pricing y maximización de márgenes.\")"
   ]
  }
 ],
 "metadata": {
  "kernelspec": {
   "display_name": "Python 3",
   "language": "python",
   "name": "python3"
  },
  "language_info": {
   "codemirror_mode": {
    "name": "ipython",
    "version": 3
   },
   "file_extension": ".py",
   "mimetype": "text/x-python",
   "name": "python",
   "nbconvert_exporter": "python",
   "pygments_lexer": "ipython3",
   "version": "3.13.7"
  }
 },
 "nbformat": 4,
 "nbformat_minor": 5
}

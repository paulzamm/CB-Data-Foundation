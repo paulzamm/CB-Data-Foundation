{
 "cells": [
  {
   "cell_type": "code",
   "execution_count": 36,
   "id": "789be026",
   "metadata": {},
   "outputs": [
    {
     "data": {
      "text/html": [
       "<div>\n",
       "<style scoped>\n",
       "    .dataframe tbody tr th:only-of-type {\n",
       "        vertical-align: middle;\n",
       "    }\n",
       "\n",
       "    .dataframe tbody tr th {\n",
       "        vertical-align: top;\n",
       "    }\n",
       "\n",
       "    .dataframe thead th {\n",
       "        text-align: right;\n",
       "    }\n",
       "</style>\n",
       "<table border=\"1\" class=\"dataframe\">\n",
       "  <thead>\n",
       "    <tr style=\"text-align: right;\">\n",
       "      <th></th>\n",
       "      <th>Producto</th>\n",
       "      <th>CategoriaProducto</th>\n",
       "      <th>Precio</th>\n",
       "      <th>Descuento</th>\n",
       "      <th>PrecioFinal</th>\n",
       "      <th>Ventas</th>\n",
       "      <th>IngresoTotal</th>\n",
       "    </tr>\n",
       "  </thead>\n",
       "  <tbody>\n",
       "    <tr>\n",
       "      <th>0</th>\n",
       "      <td>Bufanda</td>\n",
       "      <td>Accesorio</td>\n",
       "      <td>464.10</td>\n",
       "      <td>16.04</td>\n",
       "      <td>448.06</td>\n",
       "      <td>18</td>\n",
       "      <td>8065.08</td>\n",
       "    </tr>\n",
       "    <tr>\n",
       "      <th>1</th>\n",
       "      <td>Pantalón</td>\n",
       "      <td>Ropa</td>\n",
       "      <td>87.66</td>\n",
       "      <td>35.64</td>\n",
       "      <td>52.02</td>\n",
       "      <td>7</td>\n",
       "      <td>364.14</td>\n",
       "    </tr>\n",
       "    <tr>\n",
       "      <th>2</th>\n",
       "      <td>Sandalias</td>\n",
       "      <td>Calzado</td>\n",
       "      <td>197.91</td>\n",
       "      <td>34.77</td>\n",
       "      <td>163.14</td>\n",
       "      <td>11</td>\n",
       "      <td>1794.54</td>\n",
       "    </tr>\n",
       "    <tr>\n",
       "      <th>3</th>\n",
       "      <td>Pantalón</td>\n",
       "      <td>Ropa</td>\n",
       "      <td>408.50</td>\n",
       "      <td>20.15</td>\n",
       "      <td>388.35</td>\n",
       "      <td>2</td>\n",
       "      <td>776.70</td>\n",
       "    </tr>\n",
       "    <tr>\n",
       "      <th>4</th>\n",
       "      <td>Zapatos</td>\n",
       "      <td>Calzado</td>\n",
       "      <td>213.42</td>\n",
       "      <td>29.74</td>\n",
       "      <td>183.68</td>\n",
       "      <td>10</td>\n",
       "      <td>1836.80</td>\n",
       "    </tr>\n",
       "  </tbody>\n",
       "</table>\n",
       "</div>"
      ],
      "text/plain": [
       "    Producto CategoriaProducto  Precio  Descuento  PrecioFinal  Ventas  \\\n",
       "0    Bufanda         Accesorio  464.10      16.04       448.06      18   \n",
       "1   Pantalón              Ropa   87.66      35.64        52.02       7   \n",
       "2  Sandalias           Calzado  197.91      34.77       163.14      11   \n",
       "3   Pantalón              Ropa  408.50      20.15       388.35       2   \n",
       "4    Zapatos           Calzado  213.42      29.74       183.68      10   \n",
       "\n",
       "   IngresoTotal  \n",
       "0       8065.08  \n",
       "1        364.14  \n",
       "2       1794.54  \n",
       "3        776.70  \n",
       "4       1836.80  "
      ]
     },
     "execution_count": 36,
     "metadata": {},
     "output_type": "execute_result"
    }
   ],
   "source": [
    "import pandas as pd\n",
    "\n",
    "df = pd.read_excel('../data/dataset_ventas_2025.xlsx')\n",
    "df.head()"
   ]
  },
  {
   "cell_type": "markdown",
   "id": "6198d45a",
   "metadata": {},
   "source": [
    "**AP1: Método apply()**\n",
    "\n",
    "Ejercicio 1: Usa apply() para que la columna Producto tenga la primera letra en mayúscula y el resto en minúscula.\n",
    "\n",
    "Ejercicio 2: Usa apply() con axis=1 para crear una nueva columna \"PrecioConDescuento\" que reste la columna Descuento al Precio.\n",
    "\n",
    "Ejercicio 3: Crea una columna \"CategoriaVentas\" que clasifique los productos según la columna Ventas:\n",
    "\n",
    "- \"Baja\" si tiene menos de 10 ventas\n",
    "- \"Media\" si tiene entre 10 y 15 ventas\n",
    "- \"Alta\" si tiene más de 15 ventas"
   ]
  },
  {
   "cell_type": "code",
   "execution_count": 37,
   "id": "2d0d9624",
   "metadata": {},
   "outputs": [
    {
     "name": "stdout",
     "output_type": "stream",
     "text": [
      "Productos capitalizados:\n"
     ]
    },
    {
     "data": {
      "text/plain": [
       "0      Bufanda\n",
       "1     Pantalón\n",
       "2    Sandalias\n",
       "3     Pantalón\n",
       "4      Zapatos\n",
       "Name: Producto, dtype: object"
      ]
     },
     "execution_count": 37,
     "metadata": {},
     "output_type": "execute_result"
    }
   ],
   "source": [
    "# Ejercicio 1: Aplicar formato capitalizado (primera letra mayúscula, resto minúscula)\n",
    "# str.capitalize() convierte la primera letra en mayúscula y el resto en minúscula\n",
    "df['Producto'] = df['Producto'].apply(lambda x: x.capitalize())\n",
    "print(\"Productos capitalizados:\")\n",
    "df['Producto'].head()"
   ]
  },
  {
   "cell_type": "code",
   "execution_count": 38,
   "id": "2e3d7670",
   "metadata": {},
   "outputs": [
    {
     "name": "stdout",
     "output_type": "stream",
     "text": [
      "Precio con Descuento:\n"
     ]
    },
    {
     "data": {
      "text/html": [
       "<div>\n",
       "<style scoped>\n",
       "    .dataframe tbody tr th:only-of-type {\n",
       "        vertical-align: middle;\n",
       "    }\n",
       "\n",
       "    .dataframe tbody tr th {\n",
       "        vertical-align: top;\n",
       "    }\n",
       "\n",
       "    .dataframe thead th {\n",
       "        text-align: right;\n",
       "    }\n",
       "</style>\n",
       "<table border=\"1\" class=\"dataframe\">\n",
       "  <thead>\n",
       "    <tr style=\"text-align: right;\">\n",
       "      <th></th>\n",
       "      <th>Producto</th>\n",
       "      <th>Precio</th>\n",
       "      <th>Descuento</th>\n",
       "      <th>PrecioConDescuento</th>\n",
       "    </tr>\n",
       "  </thead>\n",
       "  <tbody>\n",
       "    <tr>\n",
       "      <th>0</th>\n",
       "      <td>Bufanda</td>\n",
       "      <td>464.10</td>\n",
       "      <td>16.04</td>\n",
       "      <td>448.06</td>\n",
       "    </tr>\n",
       "    <tr>\n",
       "      <th>1</th>\n",
       "      <td>Pantalón</td>\n",
       "      <td>87.66</td>\n",
       "      <td>35.64</td>\n",
       "      <td>52.02</td>\n",
       "    </tr>\n",
       "    <tr>\n",
       "      <th>2</th>\n",
       "      <td>Sandalias</td>\n",
       "      <td>197.91</td>\n",
       "      <td>34.77</td>\n",
       "      <td>163.14</td>\n",
       "    </tr>\n",
       "    <tr>\n",
       "      <th>3</th>\n",
       "      <td>Pantalón</td>\n",
       "      <td>408.50</td>\n",
       "      <td>20.15</td>\n",
       "      <td>388.35</td>\n",
       "    </tr>\n",
       "    <tr>\n",
       "      <th>4</th>\n",
       "      <td>Zapatos</td>\n",
       "      <td>213.42</td>\n",
       "      <td>29.74</td>\n",
       "      <td>183.68</td>\n",
       "    </tr>\n",
       "  </tbody>\n",
       "</table>\n",
       "</div>"
      ],
      "text/plain": [
       "    Producto  Precio  Descuento  PrecioConDescuento\n",
       "0    Bufanda  464.10      16.04              448.06\n",
       "1   Pantalón   87.66      35.64               52.02\n",
       "2  Sandalias  197.91      34.77              163.14\n",
       "3   Pantalón  408.50      20.15              388.35\n",
       "4    Zapatos  213.42      29.74              183.68"
      ]
     },
     "execution_count": 38,
     "metadata": {},
     "output_type": "execute_result"
    }
   ],
   "source": [
    "# Ejercicio 2: Crear columna PrecioConDescuento\n",
    "# axis=1 indica que apply() se aplica por fila (horizontal)\n",
    "# Restamos el descuento al precio para obtener el precio con descuento\n",
    "df['PrecioConDescuento'] = df.apply(lambda fila: fila['Precio'] - fila['Descuento'], axis=1)\n",
    "print(\"Precio con Descuento:\")\n",
    "df[['Producto', 'Precio', 'Descuento', 'PrecioConDescuento']].head()"
   ]
  },
  {
   "cell_type": "code",
   "execution_count": 39,
   "id": "2e44d008",
   "metadata": {},
   "outputs": [
    {
     "name": "stdout",
     "output_type": "stream",
     "text": [
      "Categoría de Ventas:\n",
      "    Producto  Ventas CategoriaVentas\n",
      "0    Bufanda      18            Alta\n",
      "1   Pantalón       7            Baja\n",
      "2  Sandalias      11           Media\n",
      "3   Pantalón       2            Baja\n",
      "4    Zapatos      10           Media\n",
      "5      Gorra      11           Media\n",
      "6      Reloj      20            Alta\n",
      "7      Reloj      11           Media\n",
      "8    Bufanda      15           Media\n",
      "9   Pantalón      20            Alta\n",
      "\n",
      "\n",
      "Distribución de categorías:\n",
      "CategoriaVentas\n",
      "Baja     80\n",
      "Media    72\n",
      "Alta     48\n",
      "Name: count, dtype: int64\n"
     ]
    }
   ],
   "source": [
    "# Ejercicio 3: Crear columna CategoriaVentas según el número de ventas\n",
    "# Condicionales para clasificar las ventas en tres categorías\n",
    "def clasificar_ventas(ventas):\n",
    "    if ventas < 10:\n",
    "        return \"Baja\"\n",
    "    elif ventas <= 15:  # Entre 10 y 15\n",
    "        return \"Media\"\n",
    "    else:  # Más de 15\n",
    "        return \"Alta\"\n",
    "\n",
    "df['CategoriaVentas'] = df['Ventas'].apply(clasificar_ventas)\n",
    "print(\"Categoría de Ventas:\")\n",
    "print(df[['Producto', 'Ventas', 'CategoriaVentas']].head(10))\n",
    "print(\"\\n\")\n",
    "\n",
    "# Verificar el resultado con value_counts()\n",
    "print(\"Distribución de categorías:\")\n",
    "print(df['CategoriaVentas'].value_counts())"
   ]
  },
  {
   "cell_type": "markdown",
   "id": "91e239a3",
   "metadata": {},
   "source": [
    "**AP2: Funciones lambda con apply()**\n",
    "\n",
    "\n",
    "Ejercicio 4: Usa una función lambda con apply() para que en la columna PrecioFinal reste 50 solo a los precios mayores a 200.\n",
    "\n",
    "Ejercicio 5: Crea una nueva columna \"Etiqueta\" que:\n",
    "\n",
    "- Ponga la primera letra del producto en mayúscula\n",
    "- El resto en minúscula\n",
    "- Agregue al final el texto \" - En venta\"\n",
    "\n",
    "\n",
    "Ejemplo: \"Camisa - En venta\""
   ]
  },
  {
   "cell_type": "code",
   "execution_count": 40,
   "id": "8a9d1c5a",
   "metadata": {},
   "outputs": [
    {
     "name": "stdout",
     "output_type": "stream",
     "text": [
      "Precio Final (descuento de 50 si precio > 200):\n",
      "    Producto  Precio  PrecioFinal\n",
      "0    Bufanda  464.10       414.10\n",
      "1   Pantalón   87.66        87.66\n",
      "2  Sandalias  197.91       197.91\n",
      "3   Pantalón  408.50       358.50\n",
      "4    Zapatos  213.42       163.42\n",
      "5      Gorra  383.50       333.50\n",
      "6      Reloj  108.68       108.68\n",
      "7      Reloj   32.59        32.59\n",
      "8    Bufanda  237.38       187.38\n",
      "9   Pantalón   62.40        62.40\n",
      "\n",
      "\n",
      "Productos con descuento aplicado:\n",
      "   Producto  Precio  PrecioFinal\n",
      "0   Bufanda  464.10       414.10\n",
      "3  Pantalón  408.50       358.50\n",
      "4   Zapatos  213.42       163.42\n",
      "5     Gorra  383.50       333.50\n",
      "8   Bufanda  237.38       187.38\n"
     ]
    }
   ],
   "source": [
    "# Ejercicio 4: Crear columna PrecioFinal con lambda\n",
    "# Si el precio es mayor a 200, restamos 50, de lo contrario dejamos el precio original\n",
    "df['PrecioFinal'] = df['Precio'].apply(lambda x: x - 50 if x > 200 else x)\n",
    "print(\"Precio Final (descuento de 50 si precio > 200):\")\n",
    "print(df[['Producto', 'Precio', 'PrecioFinal']].head(10))\n",
    "print(\"\\n\")\n",
    "\n",
    "# Mostrar solo los productos con descuento aplicado\n",
    "productos_con_descuento = df[df['Precio'] > 200][['Producto', 'Precio', 'PrecioFinal']]\n",
    "print(\"Productos con descuento aplicado:\")\n",
    "print(productos_con_descuento.head())"
   ]
  },
  {
   "cell_type": "code",
   "execution_count": 41,
   "id": "2732991f",
   "metadata": {},
   "outputs": [
    {
     "name": "stdout",
     "output_type": "stream",
     "text": [
      "Ejercicio 5 - Etiqueta de productos:\n",
      "0      Bufanda - En venta\n",
      "1     Pantalón - En venta\n",
      "2    Sandalias - En venta\n",
      "3     Pantalón - En venta\n",
      "4      Zapatos - En venta\n",
      "5        Gorra - En venta\n",
      "6        Reloj - En venta\n",
      "7        Reloj - En venta\n",
      "8      Bufanda - En venta\n",
      "9     Pantalón - En venta\n",
      "Name: Etiqueta, dtype: object\n",
      "\n",
      "\n",
      "Vista general del dataframe actualizado:\n",
      "    Producto              Etiqueta  Precio  PrecioFinal\n",
      "0    Bufanda    Bufanda - En venta  464.10       414.10\n",
      "1   Pantalón   Pantalón - En venta   87.66        87.66\n",
      "2  Sandalias  Sandalias - En venta  197.91       197.91\n",
      "3   Pantalón   Pantalón - En venta  408.50       358.50\n",
      "4    Zapatos    Zapatos - En venta  213.42       163.42\n"
     ]
    }
   ],
   "source": [
    "# Ejercicio 5: Crear columna Etiqueta con formato especial\n",
    "# Aplicamos capitalize() y agregamos \" - En venta\" al final\n",
    "df['Etiqueta'] = df['Producto'].apply(lambda x: x.capitalize() + \" - En venta\")\n",
    "print(\"Ejercicio 5 - Etiqueta de productos:\")\n",
    "print(df['Etiqueta'].head(10))\n",
    "print(\"\\n\")\n",
    "\n",
    "# Mostrar dataframe con las nuevas columnas\n",
    "print(\"Vista general del dataframe actualizado:\")\n",
    "print(df[['Producto', 'Etiqueta', 'Precio', 'PrecioFinal']].head())"
   ]
  },
  {
   "cell_type": "markdown",
   "id": "fa50b87a",
   "metadata": {},
   "source": [
    "**AP3: pd.cut()**\n",
    "\n",
    "\n",
    "Ejercicio 6: Usa pd.cut() para crear una columna \"CategoriaIngreso\" que clasifique la columna IngresoTotal en:\n",
    "\n",
    "- 0–3000 → \"Bajo\"\n",
    "- 3001–6000 → \"Medio\"\n",
    "- 6001–10000 → \"Alto\"\n",
    "\n",
    "Ejercicio 7: Usa pd.cut() para crear una columna \"RangoVentas\" que clasifique la columna Ventas en:\n",
    "\n",
    "- 0–5 → \"Muy Bajo\"\n",
    "- 6–10 → \"Bajo\"\n",
    "- 11–15 → \"Medio\"\n",
    "- 16–20 → \"Alto\"\n"
   ]
  },
  {
   "cell_type": "code",
   "execution_count": 42,
   "id": "6a25cdfc",
   "metadata": {},
   "outputs": [
    {
     "name": "stdout",
     "output_type": "stream",
     "text": [
      "Categoría de Ingreso:\n",
      "    Producto  IngresoTotal CategoriaIngreso\n",
      "0    Bufanda       8065.08             Alto\n",
      "1   Pantalón        364.14             Bajo\n",
      "2  Sandalias       1794.54             Bajo\n",
      "3   Pantalón        776.70             Bajo\n",
      "4    Zapatos       1836.80             Bajo\n",
      "5      Gorra       3703.26            Medio\n",
      "6      Reloj       1271.00             Bajo\n",
      "7      Reloj        354.42             Bajo\n",
      "8    Bufanda       2911.80             Bajo\n",
      "9   Pantalón        706.00             Bajo\n",
      "\n",
      "\n",
      "Distribución de Categoría de Ingreso:\n",
      "CategoriaIngreso\n",
      "Bajo     132\n",
      "Medio     44\n",
      "Alto      24\n",
      "Name: count, dtype: int64\n"
     ]
    }
   ],
   "source": [
    "# Ejercicio 6: Clasificar IngresoTotal en categorías usando pd.cut()\n",
    "# pd.cut() divide una columna numérica en intervalos (bins)\n",
    "# bins: define los límites de cada intervalo\n",
    "# labels: define las etiquetas para cada intervalo\n",
    "# include_lowest=True: incluye el valor mínimo en el primer intervalo\n",
    "\n",
    "bins_ingreso = [0, 3000, 6000, 10000]\n",
    "labels_ingreso = ['Bajo', 'Medio', 'Alto']\n",
    "df['CategoriaIngreso'] = pd.cut(df['IngresoTotal'], bins=bins_ingreso, labels=labels_ingreso, include_lowest=True)\n",
    "\n",
    "print(\"Categoría de Ingreso:\")\n",
    "print(df[['Producto', 'IngresoTotal', 'CategoriaIngreso']].head(10))\n",
    "print(\"\\n\")\n",
    "\n",
    "# Verificar la distribución de categorías de ingreso\n",
    "print(\"Distribución de Categoría de Ingreso:\")\n",
    "print(df['CategoriaIngreso'].value_counts().sort_index())"
   ]
  },
  {
   "cell_type": "code",
   "execution_count": 43,
   "id": "5a2f27f2",
   "metadata": {},
   "outputs": [
    {
     "name": "stdout",
     "output_type": "stream",
     "text": [
      "Rango de Ventas:\n",
      "    Producto  Ventas RangoVentas\n",
      "0    Bufanda      18        Alto\n",
      "1   Pantalón       7        Bajo\n",
      "2  Sandalias      11       Medio\n",
      "3   Pantalón       2    Muy Bajo\n",
      "4    Zapatos      10        Bajo\n",
      "5      Gorra      11       Medio\n",
      "6      Reloj      20        Alto\n",
      "7      Reloj      11       Medio\n",
      "8    Bufanda      15       Medio\n",
      "9   Pantalón      20        Alto\n",
      "\n",
      "\n",
      "Distribución de Rango de Ventas:\n",
      "RangoVentas\n",
      "Muy Bajo    44\n",
      "Bajo        48\n",
      "Medio       60\n",
      "Alto        48\n",
      "Name: count, dtype: int64\n"
     ]
    }
   ],
   "source": [
    "# Ejercicio 7: Clasificar Ventas en rangos usando pd.cut()\n",
    "# Creamos 4 intervalos para clasificar las ventas\n",
    "bins_ventas = [0, 5, 10, 15, 20]\n",
    "labels_ventas = ['Muy Bajo', 'Bajo', 'Medio', 'Alto']\n",
    "df['RangoVentas'] = pd.cut(df['Ventas'], bins=bins_ventas, labels=labels_ventas, include_lowest=True)\n",
    "\n",
    "print(\"Rango de Ventas:\")\n",
    "print(df[['Producto', 'Ventas', 'RangoVentas']].head(10))\n",
    "print(\"\\n\")\n",
    "\n",
    "# Verificar la distribución de rangos de ventas\n",
    "print(\"Distribución de Rango de Ventas:\")\n",
    "print(df['RangoVentas'].value_counts().sort_index())"
   ]
  },
  {
   "cell_type": "code",
   "execution_count": 44,
   "id": "84077364",
   "metadata": {},
   "outputs": [
    {
     "name": "stdout",
     "output_type": "stream",
     "text": [
      "Vista general final del dataframe con todas las columnas creadas\n",
      "Columnas creadas exitosamente:\n",
      "['Producto', 'CategoriaProducto', 'Precio', 'Descuento', 'PrecioFinal', 'Ventas', 'IngresoTotal', 'PrecioConDescuento', 'CategoriaVentas', 'Etiqueta', 'CategoriaIngreso', 'RangoVentas']\n",
      "\n",
      "\n",
      "Muestra de datos completos:\n",
      "    Producto CategoriaProducto  Precio  Descuento  PrecioFinal  Ventas  \\\n",
      "0    Bufanda         Accesorio  464.10      16.04       414.10      18   \n",
      "1   Pantalón              Ropa   87.66      35.64        87.66       7   \n",
      "2  Sandalias           Calzado  197.91      34.77       197.91      11   \n",
      "3   Pantalón              Ropa  408.50      20.15       358.50       2   \n",
      "4    Zapatos           Calzado  213.42      29.74       163.42      10   \n",
      "\n",
      "   IngresoTotal  PrecioConDescuento CategoriaVentas              Etiqueta  \\\n",
      "0       8065.08              448.06            Alta    Bufanda - En venta   \n",
      "1        364.14               52.02            Baja   Pantalón - En venta   \n",
      "2       1794.54              163.14           Media  Sandalias - En venta   \n",
      "3        776.70              388.35            Baja   Pantalón - En venta   \n",
      "4       1836.80              183.68           Media    Zapatos - En venta   \n",
      "\n",
      "  CategoriaIngreso RangoVentas  \n",
      "0             Alto        Alto  \n",
      "1             Bajo        Bajo  \n",
      "2             Bajo       Medio  \n",
      "3             Bajo    Muy Bajo  \n",
      "4             Bajo        Bajo  \n"
     ]
    }
   ],
   "source": [
    "# Vista general final del dataframe con todas las columnas creadas\n",
    "print(\"Vista general final del dataframe con todas las columnas creadas\")\n",
    "print(\"Columnas creadas exitosamente:\")\n",
    "print(df.columns.tolist())\n",
    "print(\"\\n\")\n",
    "print(\"Muestra de datos completos:\")\n",
    "print(df.head())"
   ]
  }
 ],
 "metadata": {
  "kernelspec": {
   "display_name": "Python 3",
   "language": "python",
   "name": "python3"
  },
  "language_info": {
   "codemirror_mode": {
    "name": "ipython",
    "version": 3
   },
   "file_extension": ".py",
   "mimetype": "text/x-python",
   "name": "python",
   "nbconvert_exporter": "python",
   "pygments_lexer": "ipython3",
   "version": "3.13.7"
  }
 },
 "nbformat": 4,
 "nbformat_minor": 5
}

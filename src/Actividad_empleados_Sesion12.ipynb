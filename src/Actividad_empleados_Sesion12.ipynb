{
 "cells": [
  {
   "cell_type": "markdown",
   "id": "b3e77b98",
   "metadata": {},
   "source": [
    "#### Actividad 1: \n",
    "\n",
    "Obtener una primera visión general de la estructura y el contenido de tus datos, utilizando .info().¿Son los tipos de datos (Dtype) apropiados para cada columna?"
   ]
  },
  {
   "cell_type": "code",
   "execution_count": 84,
   "id": "ce9b85d4",
   "metadata": {},
   "outputs": [
    {
     "name": "stdout",
     "output_type": "stream",
     "text": [
      "<class 'pandas.core.frame.DataFrame'>\n",
      "RangeIndex: 20 entries, 0 to 19\n",
      "Data columns (total 4 columns):\n",
      " #   Column           Non-Null Count  Dtype \n",
      "---  ------           --------------  ----- \n",
      " 0   EmpleadoID       20 non-null     int64 \n",
      " 1   Departamento     20 non-null     object\n",
      " 2   AñosExperiencia  20 non-null     int64 \n",
      " 3   SalarioAnual     20 non-null     int64 \n",
      "dtypes: int64(3), object(1)\n",
      "memory usage: 772.0+ bytes\n"
     ]
    }
   ],
   "source": [
    "import pandas as pd\n",
    "\n",
    "df = pd.read_excel('../data/empleados_sesion12.xlsx')\n",
    "df.info()"
   ]
  },
  {
   "cell_type": "code",
   "execution_count": 85,
   "id": "9fa784b7",
   "metadata": {},
   "outputs": [
    {
     "name": "stdout",
     "output_type": "stream",
     "text": [
      "Análisis de tipos de datos:\n",
      "----------------------------------------------------------------------\n",
      "--> EmpleadoID (int64): Apropiado, es un identificador numérico\n",
      "--> Departamento (object): Apropiado, es un texto categórico\n",
      "--> AñosExperiencia (int64): Apropiado, es un valor numérico entero\n",
      "--> SalarioAnual (int64): Apropiado, es un valor numérico entero\n",
      "\n",
      "Conclusión: Los tipos de datos son apropiados para cada columna.\n",
      "\n",
      "Recomendación: 'Departamento' podría convertirse a tipo 'category'\n",
      "para optimizar memoria si el dataset fuera más grande.\n"
     ]
    }
   ],
   "source": [
    "print(\"Análisis de tipos de datos:\")\n",
    "print(\"-\" * 70)\n",
    "print(\"--> EmpleadoID (int64): Apropiado, es un identificador numérico\")\n",
    "print(\"--> Departamento (object): Apropiado, es un texto categórico\")\n",
    "print(\"--> AñosExperiencia (int64): Apropiado, es un valor numérico entero\")\n",
    "print(\"--> SalarioAnual (int64): Apropiado, es un valor numérico entero\")\n",
    "print(\"\\nConclusión: Los tipos de datos son apropiados para cada columna.\")\n",
    "print(\"\\nRecomendación: 'Departamento' podría convertirse a tipo 'category'\")\n",
    "print(\"para optimizar memoria si el dataset fuera más grande.\")"
   ]
  },
  {
   "cell_type": "markdown",
   "id": "52cf1afe",
   "metadata": {},
   "source": [
    "#### Actividad 2: \n",
    "\n",
    "Calcular las estadísticas descriptivas básicas para todas las columnas numéricas."
   ]
  },
  {
   "cell_type": "code",
   "execution_count": 86,
   "id": "fca4c02b",
   "metadata": {},
   "outputs": [
    {
     "data": {
      "text/html": [
       "<div>\n",
       "<style scoped>\n",
       "    .dataframe tbody tr th:only-of-type {\n",
       "        vertical-align: middle;\n",
       "    }\n",
       "\n",
       "    .dataframe tbody tr th {\n",
       "        vertical-align: top;\n",
       "    }\n",
       "\n",
       "    .dataframe thead th {\n",
       "        text-align: right;\n",
       "    }\n",
       "</style>\n",
       "<table border=\"1\" class=\"dataframe\">\n",
       "  <thead>\n",
       "    <tr style=\"text-align: right;\">\n",
       "      <th></th>\n",
       "      <th>EmpleadoID</th>\n",
       "      <th>AñosExperiencia</th>\n",
       "      <th>SalarioAnual</th>\n",
       "    </tr>\n",
       "  </thead>\n",
       "  <tbody>\n",
       "    <tr>\n",
       "      <th>count</th>\n",
       "      <td>20.00000</td>\n",
       "      <td>20.00000</td>\n",
       "      <td>20.000000</td>\n",
       "    </tr>\n",
       "    <tr>\n",
       "      <th>mean</th>\n",
       "      <td>10.50000</td>\n",
       "      <td>6.55000</td>\n",
       "      <td>83400.000000</td>\n",
       "    </tr>\n",
       "    <tr>\n",
       "      <th>std</th>\n",
       "      <td>5.91608</td>\n",
       "      <td>4.80652</td>\n",
       "      <td>48562.927164</td>\n",
       "    </tr>\n",
       "    <tr>\n",
       "      <th>min</th>\n",
       "      <td>1.00000</td>\n",
       "      <td>1.00000</td>\n",
       "      <td>25000.000000</td>\n",
       "    </tr>\n",
       "    <tr>\n",
       "      <th>25%</th>\n",
       "      <td>5.75000</td>\n",
       "      <td>3.00000</td>\n",
       "      <td>51500.000000</td>\n",
       "    </tr>\n",
       "    <tr>\n",
       "      <th>50%</th>\n",
       "      <td>10.50000</td>\n",
       "      <td>5.50000</td>\n",
       "      <td>76500.000000</td>\n",
       "    </tr>\n",
       "    <tr>\n",
       "      <th>75%</th>\n",
       "      <td>15.25000</td>\n",
       "      <td>8.25000</td>\n",
       "      <td>97500.000000</td>\n",
       "    </tr>\n",
       "    <tr>\n",
       "      <th>max</th>\n",
       "      <td>20.00000</td>\n",
       "      <td>22.00000</td>\n",
       "      <td>250000.000000</td>\n",
       "    </tr>\n",
       "  </tbody>\n",
       "</table>\n",
       "</div>"
      ],
      "text/plain": [
       "       EmpleadoID  AñosExperiencia   SalarioAnual\n",
       "count    20.00000         20.00000      20.000000\n",
       "mean     10.50000          6.55000   83400.000000\n",
       "std       5.91608          4.80652   48562.927164\n",
       "min       1.00000          1.00000   25000.000000\n",
       "25%       5.75000          3.00000   51500.000000\n",
       "50%      10.50000          5.50000   76500.000000\n",
       "75%      15.25000          8.25000   97500.000000\n",
       "max      20.00000         22.00000  250000.000000"
      ]
     },
     "execution_count": 86,
     "metadata": {},
     "output_type": "execute_result"
    }
   ],
   "source": [
    "df.describe()"
   ]
  },
  {
   "cell_type": "markdown",
   "id": "e45dba89",
   "metadata": {},
   "source": [
    "#### Actividad 3: \n",
    "\n",
    "Calcular la media, mediana y moda para entender el \"centro\" de la distribución de salarios. Cuál de los dos valores es mayor? Basado en lo que aprendiste sobre cómo los outliers afectan a estas medidas, ¿qué sospechas que está ocurriendo con los datos de salarios que causa esta diferencia?"
   ]
  },
  {
   "cell_type": "code",
   "execution_count": 87,
   "id": "9c09c252",
   "metadata": {},
   "outputs": [
    {
     "name": "stdout",
     "output_type": "stream",
     "text": [
      "Media: $83400.0\n",
      "Mediana: $76500.0\n",
      "Moda: \n",
      "0      25000\n",
      "1      40000\n",
      "2      45000\n",
      "3      48000\n",
      "4      50000\n",
      "5      52000\n",
      "6      55000\n",
      "7      58000\n",
      "8      70000\n",
      "9      75000\n",
      "10     78000\n",
      "11     80000\n",
      "12     85000\n",
      "13     92000\n",
      "14     95000\n",
      "15    105000\n",
      "16    115000\n",
      "17    120000\n",
      "18    130000\n",
      "19    250000\n",
      "Name: SalarioAnual, dtype: int64\n",
      "\n",
      "En la moda se encuentran 20 valores debido a que todos esos valores tienen una frecuencia igual a 1.\n",
      "La media ($83400.0) es mayor que la mediana ($76500.0)\n",
      "Se puede observar la presencia de outliers (valores atípicos o aberrantes) que están elevando el promedio, \n",
      "mientras que la mediana no se ve afectada por estos valores extremos.\n"
     ]
    }
   ],
   "source": [
    "media = df['SalarioAnual'].mean()\n",
    "mediana = df['SalarioAnual'].median()\n",
    "moda = df['SalarioAnual'].mode()\n",
    "\n",
    "print(f\"Media: ${media}\")\n",
    "print(f\"Mediana: ${mediana}\")\n",
    "print(f\"Moda: \\n{moda}\")\n",
    "print(\"\\nEn la moda se encuentran 20 valores debido a que todos esos valores tienen una frecuencia igual a 1.\")\n",
    "print(f\"La media (${media}) es mayor que la mediana (${mediana})\")\n",
    "print(\"Se puede observar la presencia de outliers (valores atípicos o aberrantes) que están elevando el promedio, \")\n",
    "print(\"mientras que la mediana no se ve afectada por estos valores extremos.\")"
   ]
  },
  {
   "cell_type": "markdown",
   "id": "ee5bfeef",
   "metadata": {},
   "source": [
    "#### Actividad 4: \n",
    "\n",
    "Utilizar un gráfico para identificar visualmente la presencia de valores atípicos en los salarios. ¿Cuántos puntos aparecen fuera de los \"bigotes\" del diagrama? ¿Qué crees que representan esos puntos en el contexto de los salarios de la empresa?"
   ]
  },
  {
   "cell_type": "code",
   "execution_count": 88,
   "id": "7357a3e1",
   "metadata": {},
   "outputs": [
    {
     "data": {
      "image/png": "[encoded data removed]",
      "text/plain": [
       "<Figure size 640x480 with 1 Axes>"
      ]
     },
     "metadata": {},
     "output_type": "display_data"
    },
    {
     "name": "stdout",
     "output_type": "stream",
     "text": [
      "Análisis del boxplot de Salario Anual:\n",
      "------------------------------------------------------------------------------------------\n",
      "En el gráfico se puede observar un punto fuera del bigote en el extremo derecho,\n",
      "lo que indica la presencia de un outlier en los datos de salario anual.\n",
      "\n",
      "Valor del outlier aproximado: $250,000\n",
      "Este outlier representa a un empleado con un salario significativamente más alto que el resto.\n",
      "Problemas al tener este outlier:\n",
      "- Elevar la media del salario general anual.\n",
      "- Distorsiona la percepción de la estructura salarial normal.\n",
      "- Puede afectar decisiones de compensación y contratación.\n"
     ]
    }
   ],
   "source": [
    "import seaborn as sns\n",
    "import matplotlib.pyplot as plt\n",
    "\n",
    "sns.boxplot(data=df, x='SalarioAnual')\n",
    "plt.title('Boxplot de Salario Anual')\n",
    "plt.show()\n",
    "\n",
    "print(\"Análisis del boxplot de Salario Anual:\")\n",
    "print(\"-\" * 90)\n",
    "print(\"En el gráfico se puede observar un punto fuera del bigote en el extremo derecho,\")\n",
    "print(\"lo que indica la presencia de un outlier en los datos de salario anual.\")\n",
    "print(\"\\nValor del outlier aproximado: $250,000\")\n",
    "print(\"Este outlier representa a un empleado con un salario significativamente más alto que el resto.\")\n",
    "print(\"Problemas al tener este outlier:\")\n",
    "print(\"- Elevar la media del salario general anual.\")\n",
    "print(\"- Distorsiona la percepción de la estructura salarial normal.\")\n",
    "print(\"- Puede afectar decisiones de compensación y contratación.\")"
   ]
  },
  {
   "cell_type": "markdown",
   "id": "c8ad69af",
   "metadata": {},
   "source": [
    "#### Actividad 5: \n",
    "\n",
    "Confirmar matemáticamente la presencia de outliers usando el método del Rango Intercuartílico (IQR)."
   ]
  },
  {
   "cell_type": "code",
   "execution_count": 89,
   "id": "16d4d11c",
   "metadata": {},
   "outputs": [
    {
     "name": "stdout",
     "output_type": "stream",
     "text": [
      "Q1 (Percentil 25): $51500.0\n",
      "Q3 (Percentil 75): $97500.0\n",
      "IQR (Rango Intercuartílico): $46000.0\n",
      "\n",
      "Límite inferior: $-17500.0\n",
      "Límite superior: $166500.0\n",
      "\n",
      "Número de outliers detectados: 1\n",
      "\n",
      "Outliers encontrados:\n"
     ]
    },
    {
     "data": {
      "text/html": [
       "<div>\n",
       "<style scoped>\n",
       "    .dataframe tbody tr th:only-of-type {\n",
       "        vertical-align: middle;\n",
       "    }\n",
       "\n",
       "    .dataframe tbody tr th {\n",
       "        vertical-align: top;\n",
       "    }\n",
       "\n",
       "    .dataframe thead th {\n",
       "        text-align: right;\n",
       "    }\n",
       "</style>\n",
       "<table border=\"1\" class=\"dataframe\">\n",
       "  <thead>\n",
       "    <tr style=\"text-align: right;\">\n",
       "      <th></th>\n",
       "      <th>EmpleadoID</th>\n",
       "      <th>Departamento</th>\n",
       "      <th>AñosExperiencia</th>\n",
       "      <th>SalarioAnual</th>\n",
       "    </tr>\n",
       "  </thead>\n",
       "  <tbody>\n",
       "    <tr>\n",
       "      <th>12</th>\n",
       "      <td>13</td>\n",
       "      <td>Ventas</td>\n",
       "      <td>22</td>\n",
       "      <td>250000</td>\n",
       "    </tr>\n",
       "  </tbody>\n",
       "</table>\n",
       "</div>"
      ],
      "text/plain": [
       "    EmpleadoID Departamento  AñosExperiencia  SalarioAnual\n",
       "12          13       Ventas               22        250000"
      ]
     },
     "execution_count": 89,
     "metadata": {},
     "output_type": "execute_result"
    }
   ],
   "source": [
    "Q1 = df['SalarioAnual'].quantile(0.25)\n",
    "Q3 = df['SalarioAnual'].quantile(0.75)\n",
    "IQR = Q3 - Q1 # Representa el 50% central de los datos\n",
    "\n",
    "# Límites para outliers\n",
    "limite_inferior = Q1 - 1.5 * IQR\n",
    "limite_superior = Q3 + 1.5 * IQR\n",
    "\n",
    "print(f\"Q1 (Percentil 25): ${Q1}\")\n",
    "print(f\"Q3 (Percentil 75): ${Q3}\")\n",
    "print(f\"IQR (Rango Intercuartílico): ${IQR}\")\n",
    "print(f\"\\nLímite inferior: ${limite_inferior}\")\n",
    "print(f\"Límite superior: ${limite_superior}\")\n",
    "\n",
    "# Identificar outliers\n",
    "outliers = df[(df['SalarioAnual'] < limite_inferior) | (df['SalarioAnual'] > limite_superior)]\n",
    "print(f\"\\nNúmero de outliers detectados: {len(outliers)}\")\n",
    "print(\"\\nOutliers encontrados:\")\n",
    "outliers.head()"
   ]
  },
  {
   "cell_type": "markdown",
   "id": "10175490",
   "metadata": {},
   "source": [
    "#### Actividad 6: \n",
    "\n",
    "Crear un nuevo conjunto de datos sin los valores atípicos para poder realizar un análisis más representativo. ¿Crees que al quitar estos datos estamos perdiendo información valiosa o, por el contrario, estamos haciendo el análisis más justo y representativo de un empleado \"típico\" en la empresa."
   ]
  },
  {
   "cell_type": "code",
   "execution_count": 90,
   "id": "f35bfc42",
   "metadata": {},
   "outputs": [
    {
     "name": "stdout",
     "output_type": "stream",
     "text": [
      "\n",
      "Dataset limpio de outliers:\n",
      "       EmpleadoID  AñosExperiencia   SalarioAnual\n",
      "count   19.000000        19.000000      19.000000\n",
      "mean    10.368421         5.736842   74631.578947\n",
      "std      6.048053         3.229071   29432.050796\n",
      "min      1.000000         1.000000   25000.000000\n",
      "25%      5.500000         3.000000   51000.000000\n",
      "50%     10.000000         5.000000   75000.000000\n",
      "75%     15.500000         8.000000   93500.000000\n",
      "max     20.000000        12.000000  130000.000000\n",
      "------------------------------------------------------------------------------------------\n",
      "Al eliminar los outliers, estamos haciendo el análisis más ajustado y representativo.\n",
      "No estamos perdiendo información valiosa, ya que:\n",
      "- Se mantiene el dataset original para consultas específicas.\n",
      "- Podemos analizar los outliers por separado si es necesario.\n"
     ]
    }
   ],
   "source": [
    "df_clean = df[~df['SalarioAnual'].isin(outliers['SalarioAnual'])] # (~) Negar la condición para filtrar outliers\n",
    "print(\"\\nDataset limpio de outliers:\")\n",
    "print(df_clean.describe())\n",
    "\n",
    "print(\"-\" * 90)\n",
    "print(\"Al eliminar los outliers, estamos haciendo el análisis más ajustado y representativo.\")\n",
    "print(\"No estamos perdiendo información valiosa, ya que:\")\n",
    "print(\"- Se mantiene el dataset original para consultas específicas.\")\n",
    "print(\"- Podemos analizar los outliers por separado si es necesario.\")"
   ]
  },
  {
   "cell_type": "markdown",
   "id": "41234233",
   "metadata": {},
   "source": [
    "#### Actividad 7: \n",
    "\n",
    "Observa la mean (media) y la std (desviación estándar) del salario antes y después de eliminar los outliers. ¿Cómo cambiaron? ¿Por qué crees que este cambio es tan importante para un analista de datos antes de presentar sus conclusiones?"
   ]
  },
  {
   "cell_type": "code",
   "execution_count": 91,
   "id": "682f0582",
   "metadata": {},
   "outputs": [
    {
     "name": "stdout",
     "output_type": "stream",
     "text": [
      "\n",
      "Comparación de estadísticas:\n",
      "------------------------------------------------------------------------------------------\n",
      "---Media---\n",
      "Media antes: 83400.0\n",
      "Media después: 74631.57894736843\n",
      "\n",
      "---Mediana---\n",
      "Mediana antes: 76500.0\n",
      "Mediana después: 75000.0\n",
      "\n",
      "---Desviación Estándar---\n",
      "Desviación estándar antes: 48562.92716400899\n",
      "Desviación estándar después: 29432.05079560525\n"
     ]
    }
   ],
   "source": [
    "print(\"\\nComparación de estadísticas:\")\n",
    "print(\"-\" * 90)\n",
    "print(\"---Media---\")\n",
    "media_antes = df['SalarioAnual'].mean()\n",
    "media_despues = df_clean['SalarioAnual'].mean()\n",
    "print(f\"Media antes: {media_antes}\")\n",
    "print(f\"Media después: {media_despues}\")\n",
    "\n",
    "print(\"\\n---Mediana---\")\n",
    "mediana_antes = df['SalarioAnual'].median()\n",
    "mediana_despues = df_clean['SalarioAnual'].median()\n",
    "print(f\"Mediana antes: {mediana_antes}\")\n",
    "print(f\"Mediana después: {mediana_despues}\")\n",
    "\n",
    "print(\"\\n---Desviación Estándar---\")\n",
    "std_antes = df['SalarioAnual'].std()\n",
    "std_despues = df_clean['SalarioAnual'].std()\n",
    "print(f\"Desviación estándar antes: {std_antes}\")\n",
    "print(f\"Desviación estándar después: {std_despues}\")"
   ]
  },
  {
   "cell_type": "code",
   "execution_count": 92,
   "id": "78dd3fc1",
   "metadata": {},
   "outputs": [
    {
     "name": "stdout",
     "output_type": "stream",
     "text": [
      "\n",
      "Análisis de los cambios:\n",
      "------------------------------------------------------------------------------------------\n",
      "1. La media disminuyó de $83400.0 a $74631.58 (diferencia: $8768.42)\n",
      "   - La media se acerca más a la mediana ($75000.0)\n",
      "   - Esto indica una distribución más simétrica y representativa del salario típico\n",
      "\n",
      "2. La desviación estándar disminuyó de $48562.93 a $29432.05 (diferencia: $19130.88)\n",
      "   - Reducción de $19130.88 en la variabilidad\n",
      "   - Los salarios ahora están más concentrados alrededor de la media\n",
      "\n",
      "3. Importancia para un analista de datos:\n",
      "   - Evita conclusiones sesgadas (la media original se dispersó por el outlier)\n",
      "   - Decisiones más justas (políticas salariales basadas en datos representativos)\n",
      "   - Información más precisa y confiable\n",
      "   - Predicciones más exactas\n"
     ]
    }
   ],
   "source": [
    "print(\"\\nAnálisis de los cambios:\")\n",
    "print(\"-\" * 90)\n",
    "print(f\"1. La media disminuyó de ${media_antes.round(2)} a ${media_despues.round(2)} (diferencia: ${(media_antes - media_despues).round(2)})\")\n",
    "print(f\"   - La media se acerca más a la mediana (${mediana_despues.round(2)})\")\n",
    "print(f\"   - Esto indica una distribución más simétrica y representativa del salario típico\")\n",
    "\n",
    "print(f\"\\n2. La desviación estándar disminuyó de ${std_antes.round(2)} a ${std_despues.round(2)} (diferencia: ${(std_antes - std_despues).round(2)})\")\n",
    "print(f\"   - Reducción de ${(std_antes - std_despues).round(2)} en la variabilidad\")\n",
    "print(f\"   - Los salarios ahora están más concentrados alrededor de la media\")\n",
    "\n",
    "print(\"\\n3. Importancia para un analista de datos:\")\n",
    "print(\"   - Evita conclusiones sesgadas (la media original se dispersó por el outlier)\")\n",
    "print(\"   - Decisiones más justas (políticas salariales basadas en datos representativos)\")\n",
    "print(\"   - Información más precisa y confiable\")\n",
    "print(\"   - Predicciones más exactas\")"
   ]
  },
  {
   "cell_type": "markdown",
   "id": "e24bfa7c",
   "metadata": {},
   "source": [
    "#### Actividad 8: \n",
    "\n",
    "Análisis por Departamento. Explorar si la variabilidad de salarios se comporta de manera diferente entre departamentos. Observa los boxplots para cada departamento ¿Qué nos está presentando estos estos gráficos?"
   ]
  },
  {
   "cell_type": "code",
   "execution_count": 102,
   "id": "83199137",
   "metadata": {},
   "outputs": [
    {
     "data": {
      "image/png": "[encoded data removed]",
      "text/plain": [
       "<Figure size 640x480 with 1 Axes>"
      ]
     },
     "metadata": {},
     "output_type": "display_data"
    },
    {
     "name": "stdout",
     "output_type": "stream",
     "text": [
      "Análisis del boxplot de Salario Anual por Departamento:\n",
      "----------------------------------------------------------------------\n",
      "\n",
      "Recursos Humanos:\n",
      "   • Distribución compacta y homogénea (entre $40K-$50K)\n",
      "   • Sin outliers, Baja variabilidad\n",
      "\n",
      "Marketing:\n",
      "   • Salarios moderados (entre $70K-$90K)\n",
      "   • Sin outliers, Variabilidad media\n",
      "\n",
      "TI:\n",
      "   • Salarios más altos (entre $80K-$130K)\n",
      "   • Mayor dispersión, Alta variabilidad por especialización\n",
      "\n",
      "Ventas:\n",
      "   • 2 outliers: inferior (entre $35K) y superior (entre $250K)\n",
      "   • El outlier superior distorsiona la distribución general\n",
      "   • Mediana concentrada pero valores extremos\n",
      "\n",
      "Conclusión:\n",
      "   La variabilidad salarial es diferente entre departamentos.\n",
      "   TI tiene mayor dispersión natural; Ventas tiene outliers extremos.\n"
     ]
    }
   ],
   "source": [
    "sns.boxplot(data=df, x='SalarioAnual', y='Departamento')\n",
    "plt.title('Boxplot de Salario Anual por Departamento')\n",
    "plt.show()\n",
    "\n",
    "print(\"Análisis del boxplot de Salario Anual por Departamento:\")\n",
    "print(\"-\" * 70)\n",
    "\n",
    "print(\"\\nRecursos Humanos:\")\n",
    "print(\"   • Distribución compacta y homogénea (entre $40K-$50K)\")\n",
    "print(\"   • Sin outliers, Baja variabilidad\")\n",
    "\n",
    "print(\"\\nMarketing:\")\n",
    "print(\"   • Salarios moderados (entre $70K-$90K)\")\n",
    "print(\"   • Sin outliers, Variabilidad media\")\n",
    "\n",
    "print(\"\\nTI:\")\n",
    "print(\"   • Salarios más altos (entre $80K-$130K)\")\n",
    "print(\"   • Mayor dispersión, Alta variabilidad por especialización\")\n",
    "\n",
    "print(\"\\nVentas:\")\n",
    "print(\"   • 2 outliers: inferior (entre $35K) y superior (entre $250K)\")\n",
    "print(\"   • El outlier superior distorsiona la distribución general\")\n",
    "print(\"   • Mediana concentrada pero valores extremos\")\n",
    "\n",
    "print(\"\\nConclusión:\")\n",
    "print(\"   La variabilidad salarial es diferente entre departamentos.\")\n",
    "print(\"   TI tiene mayor dispersión natural; Ventas tiene outliers extremos.\")\n"
   ]
  }
 ],
 "metadata": {
  "kernelspec": {
   "display_name": "Python 3",
   "language": "python",
   "name": "python3"
  },
  "language_info": {
   "codemirror_mode": {
    "name": "ipython",
    "version": 3
   },
   "file_extension": ".py",
   "mimetype": "text/x-python",
   "name": "python",
   "nbconvert_exporter": "python",
   "pygments_lexer": "ipython3",
   "version": "3.13.7"
  }
 },
 "nbformat": 4,
 "nbformat_minor": 5
}

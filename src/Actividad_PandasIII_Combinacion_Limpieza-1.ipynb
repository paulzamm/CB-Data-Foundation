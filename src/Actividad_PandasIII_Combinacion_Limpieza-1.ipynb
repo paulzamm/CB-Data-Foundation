{
 "cells": [
  {
   "cell_type": "markdown",
   "id": "fd13c8a2",
   "metadata": {},
   "source": [
    "# 🧠 ESPOL – Bootcamp de Data Analytics\n",
    "## Taller: Pandas III – Combinación y Limpieza de Datos \n",
    "**Objetivo:** Aplicar técnicas de unión, concatenación y limpieza de datos utilizando pandas.\n",
    "\n",
    "**Archivos utilizados:** `pedidos_enero.csv`, `pedidos_febrero.csv`, `pedidos_marzo.csv`, `devoluciones.csv`\n",
    "\n",
    "---"
   ]
  },
  {
   "cell_type": "markdown",
   "id": "5b70dec6",
   "metadata": {},
   "source": [
    "## 🔹 Nivel 1 – Carga y combinación de datasets"
   ]
  },
  {
   "cell_type": "markdown",
   "id": "0c8ad1ac",
   "metadata": {},
   "source": [
    "### 1️⃣ Leer los archivos CSV\n",
    "Lee correctamente los tres archivos de pedidos y el de devoluciones. Verifica su estructura con `.head()`."
   ]
  },
  {
   "cell_type": "code",
   "execution_count": 78,
   "id": "4369cdc6",
   "metadata": {},
   "outputs": [],
   "source": [
    "import pandas as pd\n",
    "\n",
    "df_pedidos_enero = pd.read_csv('../data/pedidos_enero.csv')\n",
    "df_pedidos_febrero = pd.read_csv('../data/pedidos_febrero.csv')\n",
    "df_pedidos_marzo = pd.read_csv('../data/pedidos_marzo.csv')\n",
    "df_devoluciones = pd.read_csv('../data/devoluciones.csv')"
   ]
  },
  {
   "cell_type": "code",
   "execution_count": 79,
   "id": "d4522a64",
   "metadata": {},
   "outputs": [
    {
     "data": {
      "text/html": [
       "<div>\n",
       "<style scoped>\n",
       "    .dataframe tbody tr th:only-of-type {\n",
       "        vertical-align: middle;\n",
       "    }\n",
       "\n",
       "    .dataframe tbody tr th {\n",
       "        vertical-align: top;\n",
       "    }\n",
       "\n",
       "    .dataframe thead th {\n",
       "        text-align: right;\n",
       "    }\n",
       "</style>\n",
       "<table border=\"1\" class=\"dataframe\">\n",
       "  <thead>\n",
       "    <tr style=\"text-align: right;\">\n",
       "      <th></th>\n",
       "      <th>id_pedido</th>\n",
       "      <th>fecha</th>\n",
       "      <th>cliente</th>\n",
       "      <th>pais</th>\n",
       "      <th>producto</th>\n",
       "      <th>cantidad</th>\n",
       "      <th>precio_unitario</th>\n",
       "      <th>total</th>\n",
       "    </tr>\n",
       "  </thead>\n",
       "  <tbody>\n",
       "    <tr>\n",
       "      <th>0</th>\n",
       "      <td>A0001</td>\n",
       "      <td>2025-01-12</td>\n",
       "      <td>Paula del Oliva</td>\n",
       "      <td>Ecuador</td>\n",
       "      <td>Laptop</td>\n",
       "      <td>4</td>\n",
       "      <td>950</td>\n",
       "      <td>3800</td>\n",
       "    </tr>\n",
       "    <tr>\n",
       "      <th>1</th>\n",
       "      <td>A0002</td>\n",
       "      <td>2025-01-01</td>\n",
       "      <td>Imelda Pozo Expósito</td>\n",
       "      <td>Perú</td>\n",
       "      <td>Monitor</td>\n",
       "      <td>5</td>\n",
       "      <td>200</td>\n",
       "      <td>1000</td>\n",
       "    </tr>\n",
       "    <tr>\n",
       "      <th>2</th>\n",
       "      <td>A0003</td>\n",
       "      <td>2025-01-23</td>\n",
       "      <td>Patricia Esteve Armas</td>\n",
       "      <td>Chile</td>\n",
       "      <td>Teclado</td>\n",
       "      <td>3</td>\n",
       "      <td>35</td>\n",
       "      <td>105</td>\n",
       "    </tr>\n",
       "    <tr>\n",
       "      <th>3</th>\n",
       "      <td>A0004</td>\n",
       "      <td>2025-01-18</td>\n",
       "      <td>Emma Acero Cáceres</td>\n",
       "      <td>Ecuador</td>\n",
       "      <td>Tablet</td>\n",
       "      <td>5</td>\n",
       "      <td>250</td>\n",
       "      <td>1250</td>\n",
       "    </tr>\n",
       "    <tr>\n",
       "      <th>4</th>\n",
       "      <td>A0005</td>\n",
       "      <td>2025-01-06</td>\n",
       "      <td>Jeremías del Río</td>\n",
       "      <td>Ecuador</td>\n",
       "      <td>Silla ergonómica</td>\n",
       "      <td>5</td>\n",
       "      <td>150</td>\n",
       "      <td>750</td>\n",
       "    </tr>\n",
       "  </tbody>\n",
       "</table>\n",
       "</div>"
      ],
      "text/plain": [
       "  id_pedido       fecha                cliente     pais          producto  \\\n",
       "0     A0001  2025-01-12        Paula del Oliva  Ecuador            Laptop   \n",
       "1     A0002  2025-01-01   Imelda Pozo Expósito     Perú           Monitor   \n",
       "2     A0003  2025-01-23  Patricia Esteve Armas    Chile           Teclado   \n",
       "3     A0004  2025-01-18     Emma Acero Cáceres  Ecuador            Tablet   \n",
       "4     A0005  2025-01-06       Jeremías del Río  Ecuador  Silla ergonómica   \n",
       "\n",
       "   cantidad  precio_unitario  total  \n",
       "0         4              950   3800  \n",
       "1         5              200   1000  \n",
       "2         3               35    105  \n",
       "3         5              250   1250  \n",
       "4         5              150    750  "
      ]
     },
     "execution_count": 79,
     "metadata": {},
     "output_type": "execute_result"
    }
   ],
   "source": [
    "# Estructura pedidos_enero\n",
    "df_pedidos_enero.head()"
   ]
  },
  {
   "cell_type": "code",
   "execution_count": 80,
   "id": "84c3de8b",
   "metadata": {},
   "outputs": [
    {
     "data": {
      "text/html": [
       "<div>\n",
       "<style scoped>\n",
       "    .dataframe tbody tr th:only-of-type {\n",
       "        vertical-align: middle;\n",
       "    }\n",
       "\n",
       "    .dataframe tbody tr th {\n",
       "        vertical-align: top;\n",
       "    }\n",
       "\n",
       "    .dataframe thead th {\n",
       "        text-align: right;\n",
       "    }\n",
       "</style>\n",
       "<table border=\"1\" class=\"dataframe\">\n",
       "  <thead>\n",
       "    <tr style=\"text-align: right;\">\n",
       "      <th></th>\n",
       "      <th>id_pedido</th>\n",
       "      <th>fecha</th>\n",
       "      <th>cliente</th>\n",
       "      <th>pais</th>\n",
       "      <th>producto</th>\n",
       "      <th>cantidad</th>\n",
       "      <th>precio_unitario</th>\n",
       "      <th>total</th>\n",
       "    </tr>\n",
       "  </thead>\n",
       "  <tbody>\n",
       "    <tr>\n",
       "      <th>0</th>\n",
       "      <td>B0001</td>\n",
       "      <td>2025-02-23</td>\n",
       "      <td>Ruth Ferrándiz Valbuena</td>\n",
       "      <td>Argentina</td>\n",
       "      <td>Impresora</td>\n",
       "      <td>4</td>\n",
       "      <td>300</td>\n",
       "      <td>1200</td>\n",
       "    </tr>\n",
       "    <tr>\n",
       "      <th>1</th>\n",
       "      <td>B0002</td>\n",
       "      <td>2025-02-19</td>\n",
       "      <td>Sosimo Ramis León</td>\n",
       "      <td>Chile</td>\n",
       "      <td>Silla ergonómica</td>\n",
       "      <td>4</td>\n",
       "      <td>150</td>\n",
       "      <td>600</td>\n",
       "    </tr>\n",
       "    <tr>\n",
       "      <th>2</th>\n",
       "      <td>B0003</td>\n",
       "      <td>2025-02-26</td>\n",
       "      <td>Isabela Cámara Zaragoza</td>\n",
       "      <td>Colombia</td>\n",
       "      <td>Silla ergonómica</td>\n",
       "      <td>4</td>\n",
       "      <td>150</td>\n",
       "      <td>600</td>\n",
       "    </tr>\n",
       "    <tr>\n",
       "      <th>3</th>\n",
       "      <td>B0004</td>\n",
       "      <td>2025-02-20</td>\n",
       "      <td>Herberto Malo Galán</td>\n",
       "      <td>Ecuador</td>\n",
       "      <td>Router</td>\n",
       "      <td>4</td>\n",
       "      <td>100</td>\n",
       "      <td>400</td>\n",
       "    </tr>\n",
       "    <tr>\n",
       "      <th>4</th>\n",
       "      <td>B0005</td>\n",
       "      <td>2025-02-17</td>\n",
       "      <td>Dulce de Bautista</td>\n",
       "      <td>Argentina</td>\n",
       "      <td>Impresora</td>\n",
       "      <td>5</td>\n",
       "      <td>300</td>\n",
       "      <td>1500</td>\n",
       "    </tr>\n",
       "  </tbody>\n",
       "</table>\n",
       "</div>"
      ],
      "text/plain": [
       "  id_pedido       fecha                  cliente       pais          producto  \\\n",
       "0     B0001  2025-02-23  Ruth Ferrándiz Valbuena  Argentina         Impresora   \n",
       "1     B0002  2025-02-19        Sosimo Ramis León      Chile  Silla ergonómica   \n",
       "2     B0003  2025-02-26  Isabela Cámara Zaragoza   Colombia  Silla ergonómica   \n",
       "3     B0004  2025-02-20      Herberto Malo Galán    Ecuador            Router   \n",
       "4     B0005  2025-02-17        Dulce de Bautista  Argentina         Impresora   \n",
       "\n",
       "   cantidad  precio_unitario  total  \n",
       "0         4              300   1200  \n",
       "1         4              150    600  \n",
       "2         4              150    600  \n",
       "3         4              100    400  \n",
       "4         5              300   1500  "
      ]
     },
     "execution_count": 80,
     "metadata": {},
     "output_type": "execute_result"
    }
   ],
   "source": [
    "# Estructura pedidos_febrero\n",
    "df_pedidos_febrero.head()"
   ]
  },
  {
   "cell_type": "code",
   "execution_count": 81,
   "id": "9555ee1f",
   "metadata": {},
   "outputs": [
    {
     "data": {
      "text/html": [
       "<div>\n",
       "<style scoped>\n",
       "    .dataframe tbody tr th:only-of-type {\n",
       "        vertical-align: middle;\n",
       "    }\n",
       "\n",
       "    .dataframe tbody tr th {\n",
       "        vertical-align: top;\n",
       "    }\n",
       "\n",
       "    .dataframe thead th {\n",
       "        text-align: right;\n",
       "    }\n",
       "</style>\n",
       "<table border=\"1\" class=\"dataframe\">\n",
       "  <thead>\n",
       "    <tr style=\"text-align: right;\">\n",
       "      <th></th>\n",
       "      <th>id_pedido</th>\n",
       "      <th>fecha</th>\n",
       "      <th>cliente</th>\n",
       "      <th>pais</th>\n",
       "      <th>producto</th>\n",
       "      <th>cantidad</th>\n",
       "      <th>precio_unitario</th>\n",
       "      <th>total</th>\n",
       "    </tr>\n",
       "  </thead>\n",
       "  <tbody>\n",
       "    <tr>\n",
       "      <th>0</th>\n",
       "      <td>C0001</td>\n",
       "      <td>2025-03-02</td>\n",
       "      <td>Albano Vigil Diaz</td>\n",
       "      <td>Perú</td>\n",
       "      <td>Impresora</td>\n",
       "      <td>4</td>\n",
       "      <td>300</td>\n",
       "      <td>1200</td>\n",
       "    </tr>\n",
       "    <tr>\n",
       "      <th>1</th>\n",
       "      <td>C0002</td>\n",
       "      <td>2025-03-10</td>\n",
       "      <td>Lupe Ayuso</td>\n",
       "      <td>Colombia</td>\n",
       "      <td>Webcam</td>\n",
       "      <td>3</td>\n",
       "      <td>70</td>\n",
       "      <td>210</td>\n",
       "    </tr>\n",
       "    <tr>\n",
       "      <th>2</th>\n",
       "      <td>C0003</td>\n",
       "      <td>2025-03-23</td>\n",
       "      <td>Nélida Lobo Hernández</td>\n",
       "      <td>Perú</td>\n",
       "      <td>Router</td>\n",
       "      <td>2</td>\n",
       "      <td>100</td>\n",
       "      <td>200</td>\n",
       "    </tr>\n",
       "    <tr>\n",
       "      <th>3</th>\n",
       "      <td>C0004</td>\n",
       "      <td>2025-03-16</td>\n",
       "      <td>Adelina Moles Duran</td>\n",
       "      <td>Perú</td>\n",
       "      <td>Monitor</td>\n",
       "      <td>1</td>\n",
       "      <td>200</td>\n",
       "      <td>200</td>\n",
       "    </tr>\n",
       "    <tr>\n",
       "      <th>4</th>\n",
       "      <td>C0005</td>\n",
       "      <td>2025-03-19</td>\n",
       "      <td>Febe Méndez</td>\n",
       "      <td>Colombia</td>\n",
       "      <td>Impresora</td>\n",
       "      <td>5</td>\n",
       "      <td>300</td>\n",
       "      <td>1500</td>\n",
       "    </tr>\n",
       "  </tbody>\n",
       "</table>\n",
       "</div>"
      ],
      "text/plain": [
       "  id_pedido       fecha                cliente      pais   producto  cantidad  \\\n",
       "0     C0001  2025-03-02      Albano Vigil Diaz      Perú  Impresora         4   \n",
       "1     C0002  2025-03-10             Lupe Ayuso  Colombia     Webcam         3   \n",
       "2     C0003  2025-03-23  Nélida Lobo Hernández      Perú     Router         2   \n",
       "3     C0004  2025-03-16    Adelina Moles Duran      Perú    Monitor         1   \n",
       "4     C0005  2025-03-19            Febe Méndez  Colombia  Impresora         5   \n",
       "\n",
       "   precio_unitario  total  \n",
       "0              300   1200  \n",
       "1               70    210  \n",
       "2              100    200  \n",
       "3              200    200  \n",
       "4              300   1500  "
      ]
     },
     "execution_count": 81,
     "metadata": {},
     "output_type": "execute_result"
    }
   ],
   "source": [
    "# Estructura pedidos_marzo\n",
    "df_pedidos_marzo.head()"
   ]
  },
  {
   "cell_type": "code",
   "execution_count": 82,
   "id": "7b4f32c0",
   "metadata": {},
   "outputs": [
    {
     "data": {
      "text/html": [
       "<div>\n",
       "<style scoped>\n",
       "    .dataframe tbody tr th:only-of-type {\n",
       "        vertical-align: middle;\n",
       "    }\n",
       "\n",
       "    .dataframe tbody tr th {\n",
       "        vertical-align: top;\n",
       "    }\n",
       "\n",
       "    .dataframe thead th {\n",
       "        text-align: right;\n",
       "    }\n",
       "</style>\n",
       "<table border=\"1\" class=\"dataframe\">\n",
       "  <thead>\n",
       "    <tr style=\"text-align: right;\">\n",
       "      <th></th>\n",
       "      <th>id_pedido</th>\n",
       "      <th>fecha_devolucion</th>\n",
       "      <th>motivo</th>\n",
       "    </tr>\n",
       "  </thead>\n",
       "  <tbody>\n",
       "    <tr>\n",
       "      <th>0</th>\n",
       "      <td>B0802</td>\n",
       "      <td>2025-01-17</td>\n",
       "      <td>No especificado</td>\n",
       "    </tr>\n",
       "    <tr>\n",
       "      <th>1</th>\n",
       "      <td>B0191</td>\n",
       "      <td>2025-02-20</td>\n",
       "      <td>Cambio de modelo</td>\n",
       "    </tr>\n",
       "    <tr>\n",
       "      <th>2</th>\n",
       "      <td>B0818</td>\n",
       "      <td>2025-02-13</td>\n",
       "      <td>No especificado</td>\n",
       "    </tr>\n",
       "    <tr>\n",
       "      <th>3</th>\n",
       "      <td>A0252</td>\n",
       "      <td>2025-01-29</td>\n",
       "      <td>No especificado</td>\n",
       "    </tr>\n",
       "    <tr>\n",
       "      <th>4</th>\n",
       "      <td>C0506</td>\n",
       "      <td>2025-02-02</td>\n",
       "      <td>No especificado</td>\n",
       "    </tr>\n",
       "  </tbody>\n",
       "</table>\n",
       "</div>"
      ],
      "text/plain": [
       "  id_pedido fecha_devolucion            motivo\n",
       "0     B0802       2025-01-17   No especificado\n",
       "1     B0191       2025-02-20  Cambio de modelo\n",
       "2     B0818       2025-02-13   No especificado\n",
       "3     A0252       2025-01-29   No especificado\n",
       "4     C0506       2025-02-02   No especificado"
      ]
     },
     "execution_count": 82,
     "metadata": {},
     "output_type": "execute_result"
    }
   ],
   "source": [
    "# Estructura devoluciones\n",
    "df_devoluciones.head()"
   ]
  },
  {
   "cell_type": "markdown",
   "id": "7824e487",
   "metadata": {},
   "source": [
    "### 2️⃣ Combinar pedidos de los tres meses\n",
    "Utiliza `pd.concat()` para unir los pedidos de enero, febrero y marzo en un solo DataFrame llamado `pedidos_total`."
   ]
  },
  {
   "cell_type": "code",
   "execution_count": 83,
   "id": "20ba7ae0",
   "metadata": {},
   "outputs": [
    {
     "data": {
      "text/html": [
       "<div>\n",
       "<style scoped>\n",
       "    .dataframe tbody tr th:only-of-type {\n",
       "        vertical-align: middle;\n",
       "    }\n",
       "\n",
       "    .dataframe tbody tr th {\n",
       "        vertical-align: top;\n",
       "    }\n",
       "\n",
       "    .dataframe thead th {\n",
       "        text-align: right;\n",
       "    }\n",
       "</style>\n",
       "<table border=\"1\" class=\"dataframe\">\n",
       "  <thead>\n",
       "    <tr style=\"text-align: right;\">\n",
       "      <th></th>\n",
       "      <th>id_pedido</th>\n",
       "      <th>fecha</th>\n",
       "      <th>cliente</th>\n",
       "      <th>pais</th>\n",
       "      <th>producto</th>\n",
       "      <th>cantidad</th>\n",
       "      <th>precio_unitario</th>\n",
       "      <th>total</th>\n",
       "    </tr>\n",
       "  </thead>\n",
       "  <tbody>\n",
       "    <tr>\n",
       "      <th>0</th>\n",
       "      <td>A0001</td>\n",
       "      <td>2025-01-12</td>\n",
       "      <td>Paula del Oliva</td>\n",
       "      <td>Ecuador</td>\n",
       "      <td>Laptop</td>\n",
       "      <td>4</td>\n",
       "      <td>950</td>\n",
       "      <td>3800</td>\n",
       "    </tr>\n",
       "    <tr>\n",
       "      <th>1</th>\n",
       "      <td>A0002</td>\n",
       "      <td>2025-01-01</td>\n",
       "      <td>Imelda Pozo Expósito</td>\n",
       "      <td>Perú</td>\n",
       "      <td>Monitor</td>\n",
       "      <td>5</td>\n",
       "      <td>200</td>\n",
       "      <td>1000</td>\n",
       "    </tr>\n",
       "    <tr>\n",
       "      <th>2</th>\n",
       "      <td>A0003</td>\n",
       "      <td>2025-01-23</td>\n",
       "      <td>Patricia Esteve Armas</td>\n",
       "      <td>Chile</td>\n",
       "      <td>Teclado</td>\n",
       "      <td>3</td>\n",
       "      <td>35</td>\n",
       "      <td>105</td>\n",
       "    </tr>\n",
       "    <tr>\n",
       "      <th>3</th>\n",
       "      <td>A0004</td>\n",
       "      <td>2025-01-18</td>\n",
       "      <td>Emma Acero Cáceres</td>\n",
       "      <td>Ecuador</td>\n",
       "      <td>Tablet</td>\n",
       "      <td>5</td>\n",
       "      <td>250</td>\n",
       "      <td>1250</td>\n",
       "    </tr>\n",
       "    <tr>\n",
       "      <th>4</th>\n",
       "      <td>A0005</td>\n",
       "      <td>2025-01-06</td>\n",
       "      <td>Jeremías del Río</td>\n",
       "      <td>Ecuador</td>\n",
       "      <td>Silla ergonómica</td>\n",
       "      <td>5</td>\n",
       "      <td>150</td>\n",
       "      <td>750</td>\n",
       "    </tr>\n",
       "  </tbody>\n",
       "</table>\n",
       "</div>"
      ],
      "text/plain": [
       "  id_pedido       fecha                cliente     pais          producto  \\\n",
       "0     A0001  2025-01-12        Paula del Oliva  Ecuador            Laptop   \n",
       "1     A0002  2025-01-01   Imelda Pozo Expósito     Perú           Monitor   \n",
       "2     A0003  2025-01-23  Patricia Esteve Armas    Chile           Teclado   \n",
       "3     A0004  2025-01-18     Emma Acero Cáceres  Ecuador            Tablet   \n",
       "4     A0005  2025-01-06       Jeremías del Río  Ecuador  Silla ergonómica   \n",
       "\n",
       "   cantidad  precio_unitario  total  \n",
       "0         4              950   3800  \n",
       "1         5              200   1000  \n",
       "2         3               35    105  \n",
       "3         5              250   1250  \n",
       "4         5              150    750  "
      ]
     },
     "execution_count": 83,
     "metadata": {},
     "output_type": "execute_result"
    }
   ],
   "source": [
    "pedidos_total = pd.concat([df_pedidos_enero, df_pedidos_febrero, df_pedidos_marzo])\n",
    "pedidos_total.head()"
   ]
  },
  {
   "cell_type": "markdown",
   "id": "f5184a4f",
   "metadata": {},
   "source": [
    "### 3️⃣ Verificar el tamaño y estructura\n",
    "Muestra cuántas filas y columnas tiene el nuevo DataFrame usando `.shape` y verifica algunas filas."
   ]
  },
  {
   "cell_type": "code",
   "execution_count": 84,
   "id": "9b94e37e",
   "metadata": {},
   "outputs": [
    {
     "name": "stdout",
     "output_type": "stream",
     "text": [
      "pedidos_total: 3000 filas, 8 columnas\n"
     ]
    }
   ],
   "source": [
    "print(f\"pedidos_total: {pedidos_total.shape[0]} filas, {pedidos_total.shape[1]} columnas\")"
   ]
  },
  {
   "cell_type": "markdown",
   "id": "a28ae89d",
   "metadata": {},
   "source": [
    "## 🔹 Nivel 2 – Unión de datos con merge() y join()"
   ]
  },
  {
   "cell_type": "markdown",
   "id": "695424b9",
   "metadata": {},
   "source": [
    "### 4️⃣ Unir pedidos con devoluciones\n",
    "Usa `merge()` para combinar el DataFrame `pedidos_total` con el de `devoluciones` utilizando la columna `id_pedido`.\n",
    "Asegúrate de mantener todos los pedidos, incluso los que no tienen devolución."
   ]
  },
  {
   "cell_type": "code",
   "execution_count": 85,
   "id": "267d1d52",
   "metadata": {},
   "outputs": [
    {
     "data": {
      "text/html": [
       "<div>\n",
       "<style scoped>\n",
       "    .dataframe tbody tr th:only-of-type {\n",
       "        vertical-align: middle;\n",
       "    }\n",
       "\n",
       "    .dataframe tbody tr th {\n",
       "        vertical-align: top;\n",
       "    }\n",
       "\n",
       "    .dataframe thead th {\n",
       "        text-align: right;\n",
       "    }\n",
       "</style>\n",
       "<table border=\"1\" class=\"dataframe\">\n",
       "  <thead>\n",
       "    <tr style=\"text-align: right;\">\n",
       "      <th></th>\n",
       "      <th>id_pedido</th>\n",
       "      <th>fecha</th>\n",
       "      <th>cliente</th>\n",
       "      <th>pais</th>\n",
       "      <th>producto</th>\n",
       "      <th>cantidad</th>\n",
       "      <th>precio_unitario</th>\n",
       "      <th>total</th>\n",
       "    </tr>\n",
       "  </thead>\n",
       "  <tbody>\n",
       "    <tr>\n",
       "      <th>0</th>\n",
       "      <td>A0001</td>\n",
       "      <td>2025-01-12</td>\n",
       "      <td>Paula del Oliva</td>\n",
       "      <td>Ecuador</td>\n",
       "      <td>Laptop</td>\n",
       "      <td>4</td>\n",
       "      <td>950</td>\n",
       "      <td>3800</td>\n",
       "    </tr>\n",
       "    <tr>\n",
       "      <th>1</th>\n",
       "      <td>A0002</td>\n",
       "      <td>2025-01-01</td>\n",
       "      <td>Imelda Pozo Expósito</td>\n",
       "      <td>Perú</td>\n",
       "      <td>Monitor</td>\n",
       "      <td>5</td>\n",
       "      <td>200</td>\n",
       "      <td>1000</td>\n",
       "    </tr>\n",
       "    <tr>\n",
       "      <th>2</th>\n",
       "      <td>A0003</td>\n",
       "      <td>2025-01-23</td>\n",
       "      <td>Patricia Esteve Armas</td>\n",
       "      <td>Chile</td>\n",
       "      <td>Teclado</td>\n",
       "      <td>3</td>\n",
       "      <td>35</td>\n",
       "      <td>105</td>\n",
       "    </tr>\n",
       "    <tr>\n",
       "      <th>3</th>\n",
       "      <td>A0004</td>\n",
       "      <td>2025-01-18</td>\n",
       "      <td>Emma Acero Cáceres</td>\n",
       "      <td>Ecuador</td>\n",
       "      <td>Tablet</td>\n",
       "      <td>5</td>\n",
       "      <td>250</td>\n",
       "      <td>1250</td>\n",
       "    </tr>\n",
       "    <tr>\n",
       "      <th>4</th>\n",
       "      <td>A0005</td>\n",
       "      <td>2025-01-06</td>\n",
       "      <td>Jeremías del Río</td>\n",
       "      <td>Ecuador</td>\n",
       "      <td>Silla ergonómica</td>\n",
       "      <td>5</td>\n",
       "      <td>150</td>\n",
       "      <td>750</td>\n",
       "    </tr>\n",
       "  </tbody>\n",
       "</table>\n",
       "</div>"
      ],
      "text/plain": [
       "  id_pedido       fecha                cliente     pais          producto  \\\n",
       "0     A0001  2025-01-12        Paula del Oliva  Ecuador            Laptop   \n",
       "1     A0002  2025-01-01   Imelda Pozo Expósito     Perú           Monitor   \n",
       "2     A0003  2025-01-23  Patricia Esteve Armas    Chile           Teclado   \n",
       "3     A0004  2025-01-18     Emma Acero Cáceres  Ecuador            Tablet   \n",
       "4     A0005  2025-01-06       Jeremías del Río  Ecuador  Silla ergonómica   \n",
       "\n",
       "   cantidad  precio_unitario  total  \n",
       "0         4              950   3800  \n",
       "1         5              200   1000  \n",
       "2         3               35    105  \n",
       "3         5              250   1250  \n",
       "4         5              150    750  "
      ]
     },
     "execution_count": 85,
     "metadata": {},
     "output_type": "execute_result"
    }
   ],
   "source": [
    "pedidos_merge = pd.merge(pedidos_total, df_devoluciones, on='id_pedido',how='left')\n",
    "pedidos_total.head()"
   ]
  },
  {
   "cell_type": "markdown",
   "id": "d66af913",
   "metadata": {},
   "source": [
    "### 5️⃣ Verificar valores nulos\n",
    "Identifica cuántos pedidos **no** tienen información de devolución utilizando `.isnull().sum()`."
   ]
  },
  {
   "cell_type": "code",
   "execution_count": 86,
   "id": "ee0ea08f",
   "metadata": {},
   "outputs": [
    {
     "data": {
      "text/plain": [
       "id_pedido              0\n",
       "fecha                  0\n",
       "cliente                0\n",
       "pais                   0\n",
       "producto               0\n",
       "cantidad               0\n",
       "precio_unitario        0\n",
       "total                  0\n",
       "fecha_devolucion    2800\n",
       "motivo              2800\n",
       "dtype: int64"
      ]
     },
     "execution_count": 86,
     "metadata": {},
     "output_type": "execute_result"
    }
   ],
   "source": [
    "pedidos_merge.isnull().sum()"
   ]
  },
  {
   "cell_type": "markdown",
   "id": "081d6a08",
   "metadata": {},
   "source": [
    "### 6️⃣ Rellenar valores nulos\n",
    "Rellena los valores nulos en la columna `motivo` con el texto `'No devuelto'` usando `.fillna()`."
   ]
  },
  {
   "cell_type": "code",
   "execution_count": 87,
   "id": "bff158df",
   "metadata": {},
   "outputs": [
    {
     "data": {
      "text/html": [
       "<div>\n",
       "<style scoped>\n",
       "    .dataframe tbody tr th:only-of-type {\n",
       "        vertical-align: middle;\n",
       "    }\n",
       "\n",
       "    .dataframe tbody tr th {\n",
       "        vertical-align: top;\n",
       "    }\n",
       "\n",
       "    .dataframe thead th {\n",
       "        text-align: right;\n",
       "    }\n",
       "</style>\n",
       "<table border=\"1\" class=\"dataframe\">\n",
       "  <thead>\n",
       "    <tr style=\"text-align: right;\">\n",
       "      <th></th>\n",
       "      <th>id_pedido</th>\n",
       "      <th>fecha</th>\n",
       "      <th>cliente</th>\n",
       "      <th>pais</th>\n",
       "      <th>producto</th>\n",
       "      <th>cantidad</th>\n",
       "      <th>precio_unitario</th>\n",
       "      <th>total</th>\n",
       "      <th>fecha_devolucion</th>\n",
       "      <th>motivo</th>\n",
       "    </tr>\n",
       "  </thead>\n",
       "  <tbody>\n",
       "    <tr>\n",
       "      <th>0</th>\n",
       "      <td>A0001</td>\n",
       "      <td>2025-01-12</td>\n",
       "      <td>Paula del Oliva</td>\n",
       "      <td>Ecuador</td>\n",
       "      <td>Laptop</td>\n",
       "      <td>4</td>\n",
       "      <td>950</td>\n",
       "      <td>3800</td>\n",
       "      <td>2025-02-20</td>\n",
       "      <td>Entrega retrasada</td>\n",
       "    </tr>\n",
       "    <tr>\n",
       "      <th>1</th>\n",
       "      <td>A0002</td>\n",
       "      <td>2025-01-01</td>\n",
       "      <td>Imelda Pozo Expósito</td>\n",
       "      <td>Perú</td>\n",
       "      <td>Monitor</td>\n",
       "      <td>5</td>\n",
       "      <td>200</td>\n",
       "      <td>1000</td>\n",
       "      <td>NaN</td>\n",
       "      <td>No devuelto</td>\n",
       "    </tr>\n",
       "    <tr>\n",
       "      <th>2</th>\n",
       "      <td>A0003</td>\n",
       "      <td>2025-01-23</td>\n",
       "      <td>Patricia Esteve Armas</td>\n",
       "      <td>Chile</td>\n",
       "      <td>Teclado</td>\n",
       "      <td>3</td>\n",
       "      <td>35</td>\n",
       "      <td>105</td>\n",
       "      <td>NaN</td>\n",
       "      <td>No devuelto</td>\n",
       "    </tr>\n",
       "    <tr>\n",
       "      <th>3</th>\n",
       "      <td>A0004</td>\n",
       "      <td>2025-01-18</td>\n",
       "      <td>Emma Acero Cáceres</td>\n",
       "      <td>Ecuador</td>\n",
       "      <td>Tablet</td>\n",
       "      <td>5</td>\n",
       "      <td>250</td>\n",
       "      <td>1250</td>\n",
       "      <td>NaN</td>\n",
       "      <td>No devuelto</td>\n",
       "    </tr>\n",
       "    <tr>\n",
       "      <th>4</th>\n",
       "      <td>A0005</td>\n",
       "      <td>2025-01-06</td>\n",
       "      <td>Jeremías del Río</td>\n",
       "      <td>Ecuador</td>\n",
       "      <td>Silla ergonómica</td>\n",
       "      <td>5</td>\n",
       "      <td>150</td>\n",
       "      <td>750</td>\n",
       "      <td>NaN</td>\n",
       "      <td>No devuelto</td>\n",
       "    </tr>\n",
       "  </tbody>\n",
       "</table>\n",
       "</div>"
      ],
      "text/plain": [
       "  id_pedido       fecha                cliente     pais          producto  \\\n",
       "0     A0001  2025-01-12        Paula del Oliva  Ecuador            Laptop   \n",
       "1     A0002  2025-01-01   Imelda Pozo Expósito     Perú           Monitor   \n",
       "2     A0003  2025-01-23  Patricia Esteve Armas    Chile           Teclado   \n",
       "3     A0004  2025-01-18     Emma Acero Cáceres  Ecuador            Tablet   \n",
       "4     A0005  2025-01-06       Jeremías del Río  Ecuador  Silla ergonómica   \n",
       "\n",
       "   cantidad  precio_unitario  total fecha_devolucion             motivo  \n",
       "0         4              950   3800       2025-02-20  Entrega retrasada  \n",
       "1         5              200   1000              NaN        No devuelto  \n",
       "2         3               35    105              NaN        No devuelto  \n",
       "3         5              250   1250              NaN        No devuelto  \n",
       "4         5              150    750              NaN        No devuelto  "
      ]
     },
     "execution_count": 87,
     "metadata": {},
     "output_type": "execute_result"
    }
   ],
   "source": [
    "pedidos_merge['motivo'] = pedidos_merge['motivo'].fillna('No devuelto')\n",
    "pedidos_merge.head()"
   ]
  },
  {
   "cell_type": "markdown",
   "id": "5a7afc0f",
   "metadata": {},
   "source": [
    "### 7️⃣ Crear una columna booleana\n",
    "Crea una nueva columna llamada `fue_devuelto` que sea **True** si existe un motivo distinto de `'No devuelto'`, y **False** en caso contrario."
   ]
  },
  {
   "cell_type": "code",
   "execution_count": 88,
   "id": "2392c122",
   "metadata": {},
   "outputs": [
    {
     "data": {
      "text/html": [
       "<div>\n",
       "<style scoped>\n",
       "    .dataframe tbody tr th:only-of-type {\n",
       "        vertical-align: middle;\n",
       "    }\n",
       "\n",
       "    .dataframe tbody tr th {\n",
       "        vertical-align: top;\n",
       "    }\n",
       "\n",
       "    .dataframe thead th {\n",
       "        text-align: right;\n",
       "    }\n",
       "</style>\n",
       "<table border=\"1\" class=\"dataframe\">\n",
       "  <thead>\n",
       "    <tr style=\"text-align: right;\">\n",
       "      <th></th>\n",
       "      <th>id_pedido</th>\n",
       "      <th>fecha</th>\n",
       "      <th>cliente</th>\n",
       "      <th>pais</th>\n",
       "      <th>producto</th>\n",
       "      <th>cantidad</th>\n",
       "      <th>precio_unitario</th>\n",
       "      <th>total</th>\n",
       "      <th>fecha_devolucion</th>\n",
       "      <th>motivo</th>\n",
       "      <th>fue_devuelto</th>\n",
       "    </tr>\n",
       "  </thead>\n",
       "  <tbody>\n",
       "    <tr>\n",
       "      <th>0</th>\n",
       "      <td>A0001</td>\n",
       "      <td>2025-01-12</td>\n",
       "      <td>Paula del Oliva</td>\n",
       "      <td>Ecuador</td>\n",
       "      <td>Laptop</td>\n",
       "      <td>4</td>\n",
       "      <td>950</td>\n",
       "      <td>3800</td>\n",
       "      <td>2025-02-20</td>\n",
       "      <td>Entrega retrasada</td>\n",
       "      <td>True</td>\n",
       "    </tr>\n",
       "    <tr>\n",
       "      <th>1</th>\n",
       "      <td>A0002</td>\n",
       "      <td>2025-01-01</td>\n",
       "      <td>Imelda Pozo Expósito</td>\n",
       "      <td>Perú</td>\n",
       "      <td>Monitor</td>\n",
       "      <td>5</td>\n",
       "      <td>200</td>\n",
       "      <td>1000</td>\n",
       "      <td>NaN</td>\n",
       "      <td>No devuelto</td>\n",
       "      <td>False</td>\n",
       "    </tr>\n",
       "    <tr>\n",
       "      <th>2</th>\n",
       "      <td>A0003</td>\n",
       "      <td>2025-01-23</td>\n",
       "      <td>Patricia Esteve Armas</td>\n",
       "      <td>Chile</td>\n",
       "      <td>Teclado</td>\n",
       "      <td>3</td>\n",
       "      <td>35</td>\n",
       "      <td>105</td>\n",
       "      <td>NaN</td>\n",
       "      <td>No devuelto</td>\n",
       "      <td>False</td>\n",
       "    </tr>\n",
       "    <tr>\n",
       "      <th>3</th>\n",
       "      <td>A0004</td>\n",
       "      <td>2025-01-18</td>\n",
       "      <td>Emma Acero Cáceres</td>\n",
       "      <td>Ecuador</td>\n",
       "      <td>Tablet</td>\n",
       "      <td>5</td>\n",
       "      <td>250</td>\n",
       "      <td>1250</td>\n",
       "      <td>NaN</td>\n",
       "      <td>No devuelto</td>\n",
       "      <td>False</td>\n",
       "    </tr>\n",
       "    <tr>\n",
       "      <th>4</th>\n",
       "      <td>A0005</td>\n",
       "      <td>2025-01-06</td>\n",
       "      <td>Jeremías del Río</td>\n",
       "      <td>Ecuador</td>\n",
       "      <td>Silla ergonómica</td>\n",
       "      <td>5</td>\n",
       "      <td>150</td>\n",
       "      <td>750</td>\n",
       "      <td>NaN</td>\n",
       "      <td>No devuelto</td>\n",
       "      <td>False</td>\n",
       "    </tr>\n",
       "  </tbody>\n",
       "</table>\n",
       "</div>"
      ],
      "text/plain": [
       "  id_pedido       fecha                cliente     pais          producto  \\\n",
       "0     A0001  2025-01-12        Paula del Oliva  Ecuador            Laptop   \n",
       "1     A0002  2025-01-01   Imelda Pozo Expósito     Perú           Monitor   \n",
       "2     A0003  2025-01-23  Patricia Esteve Armas    Chile           Teclado   \n",
       "3     A0004  2025-01-18     Emma Acero Cáceres  Ecuador            Tablet   \n",
       "4     A0005  2025-01-06       Jeremías del Río  Ecuador  Silla ergonómica   \n",
       "\n",
       "   cantidad  precio_unitario  total fecha_devolucion             motivo  \\\n",
       "0         4              950   3800       2025-02-20  Entrega retrasada   \n",
       "1         5              200   1000              NaN        No devuelto   \n",
       "2         3               35    105              NaN        No devuelto   \n",
       "3         5              250   1250              NaN        No devuelto   \n",
       "4         5              150    750              NaN        No devuelto   \n",
       "\n",
       "   fue_devuelto  \n",
       "0          True  \n",
       "1         False  \n",
       "2         False  \n",
       "3         False  \n",
       "4         False  "
      ]
     },
     "execution_count": 88,
     "metadata": {},
     "output_type": "execute_result"
    }
   ],
   "source": [
    "pedidos_merge['fue_devuelto'] = pedidos_merge['motivo'] != 'No devuelto'\n",
    "pedidos_merge.head()"
   ]
  },
  {
   "cell_type": "markdown",
   "id": "d0dd06ad",
   "metadata": {},
   "source": [
    "## 🔹 Nivel 3 – Limpieza y preparación de datos"
   ]
  },
  {
   "cell_type": "markdown",
   "id": "4029db11",
   "metadata": {},
   "source": [
    "### 8️⃣ Buscar duplicados\n",
    "Verifica si existen filas duplicadas en el DataFrame combinado utilizando `.duplicated().sum()`."
   ]
  },
  {
   "cell_type": "code",
   "execution_count": 89,
   "id": "4d8fbce3",
   "metadata": {},
   "outputs": [
    {
     "name": "stdout",
     "output_type": "stream",
     "text": [
      "Filas duplicadas:  0\n"
     ]
    }
   ],
   "source": [
    "print(\"Filas duplicadas: \", pedidos_merge.duplicated().sum())"
   ]
  },
  {
   "cell_type": "markdown",
   "id": "419cc72b",
   "metadata": {},
   "source": [
    "### 9️⃣ Eliminar duplicados (si los hay)\n",
    "Elimina las filas duplicadas con `.drop_duplicates()`."
   ]
  },
  {
   "cell_type": "code",
   "execution_count": 90,
   "id": "ef64ed63",
   "metadata": {},
   "outputs": [
    {
     "name": "stdout",
     "output_type": "stream",
     "text": [
      "Filas duplicadas:  0\n"
     ]
    }
   ],
   "source": [
    "pedidos_merge = pedidos_merge.drop_duplicates()\n",
    "print(f\"Filas duplicadas: \", pedidos_merge.duplicated().sum())"
   ]
  },
  {
   "cell_type": "markdown",
   "id": "86cb75f0",
   "metadata": {},
   "source": [
    "### 🔟 Renombrar columnas\n",
    "Renombra las columnas para que usen nombres más claros (por ejemplo: `'precio_unitario'` → `'precio'`)."
   ]
  },
  {
   "cell_type": "code",
   "execution_count": 91,
   "id": "b9376683",
   "metadata": {},
   "outputs": [
    {
     "data": {
      "text/html": [
       "<div>\n",
       "<style scoped>\n",
       "    .dataframe tbody tr th:only-of-type {\n",
       "        vertical-align: middle;\n",
       "    }\n",
       "\n",
       "    .dataframe tbody tr th {\n",
       "        vertical-align: top;\n",
       "    }\n",
       "\n",
       "    .dataframe thead th {\n",
       "        text-align: right;\n",
       "    }\n",
       "</style>\n",
       "<table border=\"1\" class=\"dataframe\">\n",
       "  <thead>\n",
       "    <tr style=\"text-align: right;\">\n",
       "      <th></th>\n",
       "      <th>id_pedido</th>\n",
       "      <th>fecha</th>\n",
       "      <th>cliente</th>\n",
       "      <th>pais</th>\n",
       "      <th>producto</th>\n",
       "      <th>cantidad</th>\n",
       "      <th>precio</th>\n",
       "      <th>total</th>\n",
       "      <th>fecha_dev</th>\n",
       "      <th>motivo</th>\n",
       "      <th>fue_devuelto</th>\n",
       "    </tr>\n",
       "  </thead>\n",
       "  <tbody>\n",
       "    <tr>\n",
       "      <th>0</th>\n",
       "      <td>A0001</td>\n",
       "      <td>2025-01-12</td>\n",
       "      <td>Paula del Oliva</td>\n",
       "      <td>Ecuador</td>\n",
       "      <td>Laptop</td>\n",
       "      <td>4</td>\n",
       "      <td>950</td>\n",
       "      <td>3800</td>\n",
       "      <td>2025-02-20</td>\n",
       "      <td>Entrega retrasada</td>\n",
       "      <td>True</td>\n",
       "    </tr>\n",
       "    <tr>\n",
       "      <th>1</th>\n",
       "      <td>A0002</td>\n",
       "      <td>2025-01-01</td>\n",
       "      <td>Imelda Pozo Expósito</td>\n",
       "      <td>Perú</td>\n",
       "      <td>Monitor</td>\n",
       "      <td>5</td>\n",
       "      <td>200</td>\n",
       "      <td>1000</td>\n",
       "      <td>NaN</td>\n",
       "      <td>No devuelto</td>\n",
       "      <td>False</td>\n",
       "    </tr>\n",
       "    <tr>\n",
       "      <th>2</th>\n",
       "      <td>A0003</td>\n",
       "      <td>2025-01-23</td>\n",
       "      <td>Patricia Esteve Armas</td>\n",
       "      <td>Chile</td>\n",
       "      <td>Teclado</td>\n",
       "      <td>3</td>\n",
       "      <td>35</td>\n",
       "      <td>105</td>\n",
       "      <td>NaN</td>\n",
       "      <td>No devuelto</td>\n",
       "      <td>False</td>\n",
       "    </tr>\n",
       "    <tr>\n",
       "      <th>3</th>\n",
       "      <td>A0004</td>\n",
       "      <td>2025-01-18</td>\n",
       "      <td>Emma Acero Cáceres</td>\n",
       "      <td>Ecuador</td>\n",
       "      <td>Tablet</td>\n",
       "      <td>5</td>\n",
       "      <td>250</td>\n",
       "      <td>1250</td>\n",
       "      <td>NaN</td>\n",
       "      <td>No devuelto</td>\n",
       "      <td>False</td>\n",
       "    </tr>\n",
       "    <tr>\n",
       "      <th>4</th>\n",
       "      <td>A0005</td>\n",
       "      <td>2025-01-06</td>\n",
       "      <td>Jeremías del Río</td>\n",
       "      <td>Ecuador</td>\n",
       "      <td>Silla ergonómica</td>\n",
       "      <td>5</td>\n",
       "      <td>150</td>\n",
       "      <td>750</td>\n",
       "      <td>NaN</td>\n",
       "      <td>No devuelto</td>\n",
       "      <td>False</td>\n",
       "    </tr>\n",
       "  </tbody>\n",
       "</table>\n",
       "</div>"
      ],
      "text/plain": [
       "  id_pedido       fecha                cliente     pais          producto  \\\n",
       "0     A0001  2025-01-12        Paula del Oliva  Ecuador            Laptop   \n",
       "1     A0002  2025-01-01   Imelda Pozo Expósito     Perú           Monitor   \n",
       "2     A0003  2025-01-23  Patricia Esteve Armas    Chile           Teclado   \n",
       "3     A0004  2025-01-18     Emma Acero Cáceres  Ecuador            Tablet   \n",
       "4     A0005  2025-01-06       Jeremías del Río  Ecuador  Silla ergonómica   \n",
       "\n",
       "   cantidad  precio  total   fecha_dev             motivo  fue_devuelto  \n",
       "0         4     950   3800  2025-02-20  Entrega retrasada          True  \n",
       "1         5     200   1000         NaN        No devuelto         False  \n",
       "2         3      35    105         NaN        No devuelto         False  \n",
       "3         5     250   1250         NaN        No devuelto         False  \n",
       "4         5     150    750         NaN        No devuelto         False  "
      ]
     },
     "execution_count": 91,
     "metadata": {},
     "output_type": "execute_result"
    }
   ],
   "source": [
    "pedidos_merge = pedidos_merge.rename(columns={\n",
    "    'precio_unitario': 'precio',\n",
    "    'fecha_devolucion': 'fecha_dev'\n",
    "})\n",
    "pedidos_merge.head()"
   ]
  },
  {
   "cell_type": "markdown",
   "id": "b2d35a28",
   "metadata": {},
   "source": [
    "### 11️⃣ Conversión de tipos de datos\n",
    "Convierte la columna `precio` y `total` a tipo `float`, y `cantidad` a tipo `int`."
   ]
  },
  {
   "cell_type": "code",
   "execution_count": 92,
   "id": "0703bc0e",
   "metadata": {},
   "outputs": [
    {
     "data": {
      "text/plain": [
       "id_pedido        object\n",
       "fecha            object\n",
       "cliente          object\n",
       "pais             object\n",
       "producto         object\n",
       "cantidad          int64\n",
       "precio          float64\n",
       "total           float64\n",
       "fecha_dev        object\n",
       "motivo           object\n",
       "fue_devuelto       bool\n",
       "dtype: object"
      ]
     },
     "execution_count": 92,
     "metadata": {},
     "output_type": "execute_result"
    }
   ],
   "source": [
    "pedidos_merge['precio'] = pedidos_merge['precio'].astype('float')\n",
    "pedidos_merge['total'] = pedidos_merge['total'].astype('float')\n",
    "pedidos_merge['cantidad'] = pedidos_merge['cantidad'].astype('int')\n",
    "pedidos_merge.dtypes"
   ]
  },
  {
   "cell_type": "markdown",
   "id": "1ea9620f",
   "metadata": {},
   "source": [
    "## 🔹 Nivel 4 – Análisis final"
   ]
  },
  {
   "cell_type": "markdown",
   "id": "585a6f7c",
   "metadata": {},
   "source": [
    "### 12️⃣ Cuántos pedidos fueron devueltos\n",
    "Cuenta cuántos pedidos fueron devueltos (`fue_devuelto == True`)."
   ]
  },
  {
   "cell_type": "code",
   "execution_count": 93,
   "id": "c43ed407",
   "metadata": {},
   "outputs": [
    {
     "name": "stdout",
     "output_type": "stream",
     "text": [
      "Pedidos devueltos:  200\n"
     ]
    }
   ],
   "source": [
    "cantidad_devueltos = pedidos_merge[pedidos_merge['fue_devuelto'] == True].shape[0]\n",
    "print(\"Pedidos devueltos: \", cantidad_devueltos)"
   ]
  },
  {
   "cell_type": "markdown",
   "id": "27b8f432",
   "metadata": {},
   "source": [
    "### 13️⃣ Motivo de devolución más frecuente\n",
    "Utiliza `.value_counts()` sobre la columna `motivo` para identificar el motivo más común."
   ]
  },
  {
   "cell_type": "code",
   "execution_count": 94,
   "id": "a1931565",
   "metadata": {},
   "outputs": [
    {
     "data": {
      "text/plain": [
       "motivo\n",
       "No devuelto            2800\n",
       "Error en la orden        46\n",
       "No especificado          46\n",
       "Entrega retrasada        42\n",
       "Producto defectuoso      38\n",
       "Cambio de modelo         28\n",
       "Name: count, dtype: int64"
      ]
     },
     "execution_count": 94,
     "metadata": {},
     "output_type": "execute_result"
    }
   ],
   "source": [
    "pedidos_merge['motivo'].value_counts()"
   ]
  },
  {
   "cell_type": "markdown",
   "id": "8ec9d1ae",
   "metadata": {},
   "source": [
    "### 14️⃣ Promedio del total de pedidos por país\n",
    "Aplica `.groupby('pais')['total'].mean()` para calcular el promedio del total de compra por país."
   ]
  },
  {
   "cell_type": "code",
   "execution_count": 95,
   "id": "3e18d8f6",
   "metadata": {},
   "outputs": [
    {
     "data": {
      "text/plain": [
       "pais\n",
       "Argentina    645.39\n",
       "Chile        593.49\n",
       "Colombia     626.62\n",
       "Ecuador      639.07\n",
       "Perú         616.18\n",
       "Name: total, dtype: float64"
      ]
     },
     "execution_count": 95,
     "metadata": {},
     "output_type": "execute_result"
    }
   ],
   "source": [
    "pedidos_merge.groupby('pais')['total'].mean().round(2)"
   ]
  },
  {
   "cell_type": "markdown",
   "id": "b3121607",
   "metadata": {},
   "source": [
    "## 💬 Bonus – Análisis libre"
   ]
  },
  {
   "cell_type": "markdown",
   "id": "1637e413",
   "metadata": {},
   "source": [
    "### 15️⃣ Crea un pequeño análisis libre\n",
    "Formula una pregunta propia combinando al menos dos conceptos aprendidos (por ejemplo: `groupby` + `merge`, o `fillna` + filtros)."
   ]
  },
  {
   "cell_type": "code",
   "execution_count": 96,
   "id": "0f3ff22f",
   "metadata": {},
   "outputs": [
    {
     "name": "stdout",
     "output_type": "stream",
     "text": [
      "¿Cuál es el producto con mayor tasa de devolución por país?\n",
      "Países: ['Ecuador' 'Perú' 'Chile' 'Colombia' 'Argentina']\n",
      "\n",
      "Producto con mayor tasa de devolución por país:\n",
      "         pais   producto  total_pedidos  total_devoluciones  tasa_devolucion\n",
      "5   Argentina     Router             59                   5             8.47\n",
      "10      Chile  Audífonos             70                   6             8.57\n",
      "20   Colombia  Audífonos             67                   9            13.43\n",
      "32    Ecuador     Laptop             56                   8            14.29\n",
      "43       Perú    Monitor             76                  10            13.16\n"
     ]
    }
   ],
   "source": [
    "print(\"¿Cuál es el producto con mayor tasa de devolución por país?\")\n",
    "print(f\"Países: {pedidos_merge['pais'].unique()}\")\n",
    "\n",
    "# Calcular total de pedidos por producto y país\n",
    "pedidos_por_producto_pais = pedidos_merge.groupby(['pais', 'producto']).size().reset_index(name='total_pedidos')\n",
    "\n",
    "# Calcular devoluciones por producto y país\n",
    "devoluciones_por_producto_pais = pedidos_merge[pedidos_merge['fue_devuelto'] == True].groupby(['pais', 'producto']).size().reset_index(name='total_devoluciones')\n",
    "\n",
    "# Combinar ambos DataFrames\n",
    "analisis_devolucion = pd.merge(pedidos_por_producto_pais, devoluciones_por_producto_pais, on=['pais', 'producto'], how='left')\n",
    "\n",
    "# Rellenar valores nulos (productos sin devoluciones)\n",
    "analisis_devolucion['total_devoluciones'] = analisis_devolucion['total_devoluciones'].fillna(0)\n",
    "\n",
    "# Calcular tasa de devolución\n",
    "analisis_devolucion['tasa_devolucion'] = (analisis_devolucion['total_devoluciones'] / analisis_devolucion['total_pedidos'] * 100).round(2)\n",
    "\n",
    "# Encontrar el producto con mayor tasa de devolución por país\n",
    "producto_max_devolucion_por_pais = analisis_devolucion.loc[analisis_devolucion.groupby('pais')['tasa_devolucion'].idxmax()]\n",
    "\n",
    "print(\"\\nProducto con mayor tasa de devolución por país:\")\n",
    "print(producto_max_devolucion_por_pais[['pais', 'producto', 'total_pedidos', 'total_devoluciones', 'tasa_devolucion']])"
   ]
  }
 ],
 "metadata": {
  "kernelspec": {
   "display_name": "Python 3",
   "language": "python",
   "name": "python3"
  },
  "language_info": {
   "codemirror_mode": {
    "name": "ipython",
    "version": 3
   },
   "file_extension": ".py",
   "mimetype": "text/x-python",
   "name": "python",
   "nbconvert_exporter": "python",
   "pygments_lexer": "ipython3",
   "version": "3.13.7"
  }
 },
 "nbformat": 4,
 "nbformat_minor": 5
}

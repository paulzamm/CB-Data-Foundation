{
 "cells": [
  {
   "cell_type": "markdown",
   "id": "8df69edd",
   "metadata": {},
   "source": [
    "# Ejercicio 1: Matriz de Calificaciones"
   ]
  },
  {
   "cell_type": "markdown",
   "id": "ab994b09",
   "metadata": {},
   "source": [
    "### 1. Usa `np.array` para crear una matriz `notas` con las calificaciones de 4 estudiantes en 3 exámenes:\n",
    "$$\n",
    "\\begin{bmatrix}\n",
    " 8 & 7 & 9 \\\\\n",
    " 6 & 5 & 7 \\\\\n",
    " 9 & 8 & 10 \\\\\n",
    " 7 & 6 & 8\n",
    "\\end{bmatrix}\n",
    "$$"
   ]
  },
  {
   "cell_type": "code",
   "execution_count": 2,
   "id": "afeffe5b",
   "metadata": {},
   "outputs": [
    {
     "name": "stdout",
     "output_type": "stream",
     "text": [
      "[[ 8  7  9]\n",
      " [ 6  5  7]\n",
      " [ 9  8 10]\n",
      " [ 7  6  8]]\n"
     ]
    }
   ],
   "source": [
    "import numpy as np\n",
    "\n",
    "calificaciones = np.array([\n",
    "    [8, 7, 9],\n",
    "    [6, 5, 7],\n",
    "    [9, 8, 10],\n",
    "    [7, 6, 8]\n",
    "])\n",
    "\n",
    "print(calificaciones)"
   ]
  },
  {
   "cell_type": "markdown",
   "id": "eb65e3cb",
   "metadata": {},
   "source": [
    "### 2. Calcula:\n",
    "- Promedio de cada estudiante (promedio por fila).\n",
    "- Promedio de cada examen (promedio por columna)."
   ]
  },
  {
   "cell_type": "code",
   "execution_count": 3,
   "id": "b437b855",
   "metadata": {},
   "outputs": [
    {
     "name": "stdout",
     "output_type": "stream",
     "text": [
      "Promedio de cada estudiante por fila: [8. 6. 9. 7.]\n",
      "Promedio de cada estudiante por columna: [7.5 6.5 8.5]\n"
     ]
    }
   ],
   "source": [
    "# axis = 0 --> columnas, axis = 1 --> filas\n",
    "promedio_estudiantes_fila = np.mean(calificaciones, axis=1)\n",
    "print(f\"Promedio de cada estudiante por fila: {promedio_estudiantes_fila}\")\n",
    "\n",
    "promedio_estudiantes_columna = np.mean(calificaciones, axis=0)\n",
    "print(f\"Promedio de cada estudiante por columna: {promedio_estudiantes_columna}\")"
   ]
  },
  {
   "cell_type": "markdown",
   "id": "b24bcc83",
   "metadata": {},
   "source": [
    "### 3. Extrae (slice) la columna del **segundo examen.**"
   ]
  },
  {
   "cell_type": "code",
   "execution_count": 4,
   "id": "8012bc1a",
   "metadata": {},
   "outputs": [
    {
     "name": "stdout",
     "output_type": "stream",
     "text": [
      "Columna del segundo examen: [7 5 8 6]\n"
     ]
    }
   ],
   "source": [
    "columna_2do_examen = calificaciones[:, 1]\n",
    "print(f\"Columna del segundo examen: {columna_2do_examen}\")"
   ]
  },
  {
   "cell_type": "markdown",
   "id": "f501a068",
   "metadata": {},
   "source": [
    "### 4. Crea un nuevo arreglo con las notas **mayores o iguales a 8.**"
   ]
  },
  {
   "cell_type": "code",
   "execution_count": 5,
   "id": "3b5da5f3",
   "metadata": {},
   "outputs": [
    {
     "name": "stdout",
     "output_type": "stream",
     "text": [
      "Notas mayores o iguales a 8: [ 8  9  9  8 10  8]\n"
     ]
    }
   ],
   "source": [
    "notas_mayor_igual_8 = calificaciones[calificaciones >= 8]\n",
    "print(f\"Notas mayores o iguales a 8: {notas_mayor_igual_8}\")"
   ]
  },
  {
   "cell_type": "markdown",
   "id": "fae75a23",
   "metadata": {},
   "source": [
    "# Ejercicio 2: Estadísticas Básicas de Ventas"
   ]
  },
  {
   "cell_type": "markdown",
   "id": "91008ef2",
   "metadata": {},
   "source": [
    "### 1. Crear el arreglo `ventas` con los valores:\n",
    "`[12, 15, 8, 20, 5, 18, 10]`"
   ]
  },
  {
   "cell_type": "code",
   "execution_count": 6,
   "id": "061bc6da",
   "metadata": {},
   "outputs": [
    {
     "name": "stdout",
     "output_type": "stream",
     "text": [
      "Array de ventas: [12 15  8 20  5 18 10]\n"
     ]
    }
   ],
   "source": [
    "ventas = np.array([12, 15, 8, 20, 5, 18, 10])\n",
    "print(f\"Array de ventas: {ventas}\")"
   ]
  },
  {
   "cell_type": "markdown",
   "id": "85d485c2",
   "metadata": {},
   "source": [
    "### 2. Calcula:\n",
    "- Venta total (`sum`)\n",
    "- Venta promedio (`mean`)\n",
    "- Venta máxima y mínima (`max`, `min`)"
   ]
  },
  {
   "cell_type": "code",
   "execution_count": 7,
   "id": "6790288e",
   "metadata": {},
   "outputs": [
    {
     "name": "stdout",
     "output_type": "stream",
     "text": [
      "Venta total: 88\n",
      "Venta promedio: 12.571428571428571\n",
      "Venta máxima: 20\n",
      "Venta mínima: 5\n"
     ]
    }
   ],
   "source": [
    "venta_total = ventas.sum()\n",
    "venta_promedio = ventas.mean()\n",
    "venta_maxima = ventas.max()\n",
    "venta_minima = ventas.min()\n",
    "\n",
    "print(f\"Venta total: {venta_total}\")\n",
    "print(f\"Venta promedio: {venta_promedio}\")\n",
    "print(f\"Venta máxima: {venta_maxima}\")\n",
    "print(f\"Venta mínima: {venta_minima}\")"
   ]
  },
  {
   "cell_type": "markdown",
   "id": "b4c477b2",
   "metadata": {},
   "source": [
    "### 3. Crea un nuevo arreglo `mayores_promedio` con solo las ventas **mayores al promedio.**"
   ]
  },
  {
   "cell_type": "code",
   "execution_count": 8,
   "id": "332b4421",
   "metadata": {},
   "outputs": [
    {
     "name": "stdout",
     "output_type": "stream",
     "text": [
      "Ventas mayores al promedio: [15 20 18]\n"
     ]
    }
   ],
   "source": [
    "mayores_promedio = ventas[ventas > venta_promedio]\n",
    "print(f\"Ventas mayores al promedio: {mayores_promedio}\")"
   ]
  },
  {
   "cell_type": "markdown",
   "id": "c3f0a790",
   "metadata": {},
   "source": [
    "### 4. Ordenar el arreglo `ventas` de menor a mayor"
   ]
  },
  {
   "cell_type": "code",
   "execution_count": 9,
   "id": "43872bf9",
   "metadata": {},
   "outputs": [
    {
     "name": "stdout",
     "output_type": "stream",
     "text": [
      "Ventas ordenadas de menor a mayor: [ 5  8 10 12 15 18 20]\n"
     ]
    }
   ],
   "source": [
    "ordenado_menor_mayor = np.sort(ventas)\n",
    "print(f\"Ventas ordenadas de menor a mayor: {ordenado_menor_mayor}\")"
   ]
  }
 ],
 "metadata": {
  "kernelspec": {
   "display_name": "Python 3",
   "language": "python",
   "name": "python3"
  },
  "language_info": {
   "codemirror_mode": {
    "name": "ipython",
    "version": 3
   },
   "file_extension": ".py",
   "mimetype": "text/x-python",
   "name": "python",
   "nbconvert_exporter": "python",
   "pygments_lexer": "ipython3",
   "version": "3.13.7"
  }
 },
 "nbformat": 4,
 "nbformat_minor": 5
}

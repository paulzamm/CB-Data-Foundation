{
 "cells": [
  {
   "cell_type": "markdown",
   "metadata": {},
   "source": [
    "# 🍕 Mentoría - Python for Data Analytics\n",
    "## Análisis de Datos con FastEats Delivery\n",
    "\n",
    "## Contexto del Problema\n",
    "\n",
    "Trabajas como analista de datos en **FastEats**, una popular aplicación de delivery de comida. Tu gerente necesita insights sobre las operaciones para tomar decisiones estratégicas.\n",
    "\n",
    "**Datos disponibles:**\n",
    "- `id_pedido`: Identificador único del pedido\n",
    "- `repartidor_id`: ID del repartidor\n",
    "- `nombre_repartidor`: Nombre del repartidor\n",
    "- `zona`: Zona de entrega (Norte, Sur, Este, Oeste)\n",
    "- `tipo_comida`: Categoría (Pizza, Sushi, Hamburguesa, Ensalada)\n",
    "- `monto`: Valor del pedido\n",
    "- `propina`: Propina recibida\n",
    "- `fecha_entrega`: Fecha de la entrega\n",
    "\n",
    "---"
   ]
  },
  {
   "cell_type": "markdown",
   "metadata": {},
   "source": [
    "## BLOQUE 1: Primeros Pasos con los Datos"
   ]
  },
  {
   "cell_type": "markdown",
   "metadata": {},
   "source": [
    "### Ejercicio 1: Carga y exploración inicial\n",
    "\n",
    "**Tareas:**\n",
    "- Importa la librería pandas\n",
    "- Lee el archivo 'pedidos_fastfoods.csv'\n",
    "- Muestra las primeras 10 filas y las últimas 5\n",
    "- ¿Cuántas filas y columnas tiene el dataset?\n",
    "- Lista los nombres de todas las columnas"
   ]
  },
  {
   "cell_type": "code",
   "execution_count": 1,
   "metadata": {},
   "outputs": [
    {
     "data": {
      "text/html": [
       "<div>\n",
       "<style scoped>\n",
       "    .dataframe tbody tr th:only-of-type {\n",
       "        vertical-align: middle;\n",
       "    }\n",
       "\n",
       "    .dataframe tbody tr th {\n",
       "        vertical-align: top;\n",
       "    }\n",
       "\n",
       "    .dataframe thead th {\n",
       "        text-align: right;\n",
       "    }\n",
       "</style>\n",
       "<table border=\"1\" class=\"dataframe\">\n",
       "  <thead>\n",
       "    <tr style=\"text-align: right;\">\n",
       "      <th></th>\n",
       "      <th>id_pedido</th>\n",
       "      <th>repartidor_id</th>\n",
       "      <th>nombre_repartidor</th>\n",
       "      <th>zona</th>\n",
       "      <th>tipo_comida</th>\n",
       "      <th>monto</th>\n",
       "      <th>propina</th>\n",
       "      <th>fecha_entrega</th>\n",
       "    </tr>\n",
       "  </thead>\n",
       "  <tbody>\n",
       "    <tr>\n",
       "      <th>0</th>\n",
       "      <td>P001</td>\n",
       "      <td>REP01</td>\n",
       "      <td>Carlos Méndez</td>\n",
       "      <td>Norte</td>\n",
       "      <td>Pizza</td>\n",
       "      <td>28.50</td>\n",
       "      <td>3.50</td>\n",
       "      <td>2025-04-15</td>\n",
       "    </tr>\n",
       "    <tr>\n",
       "      <th>1</th>\n",
       "      <td>P002</td>\n",
       "      <td>REP02</td>\n",
       "      <td>Ana Rodríguez</td>\n",
       "      <td>Sur</td>\n",
       "      <td>Sushi</td>\n",
       "      <td>45.00</td>\n",
       "      <td>5.00</td>\n",
       "      <td>2025-04-15</td>\n",
       "    </tr>\n",
       "    <tr>\n",
       "      <th>2</th>\n",
       "      <td>P003</td>\n",
       "      <td>REP03</td>\n",
       "      <td>Luis Torres</td>\n",
       "      <td>Este</td>\n",
       "      <td>Hamburguesa</td>\n",
       "      <td>18.75</td>\n",
       "      <td>2.50</td>\n",
       "      <td>2025-04-15</td>\n",
       "    </tr>\n",
       "    <tr>\n",
       "      <th>3</th>\n",
       "      <td>P004</td>\n",
       "      <td>REP01</td>\n",
       "      <td>Carlos Méndez</td>\n",
       "      <td>Norte</td>\n",
       "      <td>Ensalada</td>\n",
       "      <td>22.00</td>\n",
       "      <td>3.00</td>\n",
       "      <td>2025-04-15</td>\n",
       "    </tr>\n",
       "    <tr>\n",
       "      <th>4</th>\n",
       "      <td>P005</td>\n",
       "      <td>REP04</td>\n",
       "      <td>María González</td>\n",
       "      <td>Oeste</td>\n",
       "      <td>Pizza</td>\n",
       "      <td>32.50</td>\n",
       "      <td>4.00</td>\n",
       "      <td>2025-04-16</td>\n",
       "    </tr>\n",
       "    <tr>\n",
       "      <th>5</th>\n",
       "      <td>P006</td>\n",
       "      <td>REP02</td>\n",
       "      <td>Ana Rodríguez</td>\n",
       "      <td>Sur</td>\n",
       "      <td>Hamburguesa</td>\n",
       "      <td>21.00</td>\n",
       "      <td>2.75</td>\n",
       "      <td>2025-04-16</td>\n",
       "    </tr>\n",
       "    <tr>\n",
       "      <th>6</th>\n",
       "      <td>P007</td>\n",
       "      <td>REP05</td>\n",
       "      <td>Pedro Sánchez</td>\n",
       "      <td>Norte</td>\n",
       "      <td>Sushi</td>\n",
       "      <td>52.00</td>\n",
       "      <td>6.50</td>\n",
       "      <td>2025-04-16</td>\n",
       "    </tr>\n",
       "    <tr>\n",
       "      <th>7</th>\n",
       "      <td>P008</td>\n",
       "      <td>REP03</td>\n",
       "      <td>Luis Torres</td>\n",
       "      <td>Este</td>\n",
       "      <td>Pizza</td>\n",
       "      <td>29.00</td>\n",
       "      <td>3.25</td>\n",
       "      <td>2025-04-16</td>\n",
       "    </tr>\n",
       "    <tr>\n",
       "      <th>8</th>\n",
       "      <td>P009</td>\n",
       "      <td>REP01</td>\n",
       "      <td>Carlos Méndez</td>\n",
       "      <td>Norte</td>\n",
       "      <td>Hamburguesa</td>\n",
       "      <td>19.50</td>\n",
       "      <td>2.00</td>\n",
       "      <td>2025-04-17</td>\n",
       "    </tr>\n",
       "    <tr>\n",
       "      <th>9</th>\n",
       "      <td>P010</td>\n",
       "      <td>REP04</td>\n",
       "      <td>María González</td>\n",
       "      <td>Oeste</td>\n",
       "      <td>Ensalada</td>\n",
       "      <td>25.50</td>\n",
       "      <td>4.50</td>\n",
       "      <td>2025-04-17</td>\n",
       "    </tr>\n",
       "  </tbody>\n",
       "</table>\n",
       "</div>"
      ],
      "text/plain": [
       "  id_pedido repartidor_id nombre_repartidor   zona  tipo_comida  monto  \\\n",
       "0      P001         REP01     Carlos Méndez  Norte        Pizza  28.50   \n",
       "1      P002         REP02     Ana Rodríguez    Sur        Sushi  45.00   \n",
       "2      P003         REP03       Luis Torres   Este  Hamburguesa  18.75   \n",
       "3      P004         REP01     Carlos Méndez  Norte     Ensalada  22.00   \n",
       "4      P005         REP04    María González  Oeste        Pizza  32.50   \n",
       "5      P006         REP02     Ana Rodríguez    Sur  Hamburguesa  21.00   \n",
       "6      P007         REP05     Pedro Sánchez  Norte        Sushi  52.00   \n",
       "7      P008         REP03       Luis Torres   Este        Pizza  29.00   \n",
       "8      P009         REP01     Carlos Méndez  Norte  Hamburguesa  19.50   \n",
       "9      P010         REP04    María González  Oeste     Ensalada  25.50   \n",
       "\n",
       "   propina fecha_entrega  \n",
       "0     3.50    2025-04-15  \n",
       "1     5.00    2025-04-15  \n",
       "2     2.50    2025-04-15  \n",
       "3     3.00    2025-04-15  \n",
       "4     4.00    2025-04-16  \n",
       "5     2.75    2025-04-16  \n",
       "6     6.50    2025-04-16  \n",
       "7     3.25    2025-04-16  \n",
       "8     2.00    2025-04-17  \n",
       "9     4.50    2025-04-17  "
      ]
     },
     "execution_count": 1,
     "metadata": {},
     "output_type": "execute_result"
    }
   ],
   "source": [
    "# Importa pandas\n",
    "import pandas as pd\n",
    "\n",
    "# Lee el archivo CSV\n",
    "df = pd.read_csv('../data/pedidos_fastfoods.csv')\n",
    "\n",
    "# Muestra las primeras 10 filas\n",
    "df.head(10)"
   ]
  },
  {
   "cell_type": "code",
   "execution_count": 2,
   "metadata": {},
   "outputs": [
    {
     "data": {
      "text/html": [
       "<div>\n",
       "<style scoped>\n",
       "    .dataframe tbody tr th:only-of-type {\n",
       "        vertical-align: middle;\n",
       "    }\n",
       "\n",
       "    .dataframe tbody tr th {\n",
       "        vertical-align: top;\n",
       "    }\n",
       "\n",
       "    .dataframe thead th {\n",
       "        text-align: right;\n",
       "    }\n",
       "</style>\n",
       "<table border=\"1\" class=\"dataframe\">\n",
       "  <thead>\n",
       "    <tr style=\"text-align: right;\">\n",
       "      <th></th>\n",
       "      <th>id_pedido</th>\n",
       "      <th>repartidor_id</th>\n",
       "      <th>nombre_repartidor</th>\n",
       "      <th>zona</th>\n",
       "      <th>tipo_comida</th>\n",
       "      <th>monto</th>\n",
       "      <th>propina</th>\n",
       "      <th>fecha_entrega</th>\n",
       "    </tr>\n",
       "  </thead>\n",
       "  <tbody>\n",
       "    <tr>\n",
       "      <th>75</th>\n",
       "      <td>P076</td>\n",
       "      <td>REP04</td>\n",
       "      <td>María González</td>\n",
       "      <td>Oeste</td>\n",
       "      <td>Ensalada</td>\n",
       "      <td>24.25</td>\n",
       "      <td>4.00</td>\n",
       "      <td>2025-05-06</td>\n",
       "    </tr>\n",
       "    <tr>\n",
       "      <th>76</th>\n",
       "      <td>P077</td>\n",
       "      <td>REP02</td>\n",
       "      <td>Ana Rodríguez</td>\n",
       "      <td>Sur</td>\n",
       "      <td>Sushi</td>\n",
       "      <td>45.50</td>\n",
       "      <td>5.25</td>\n",
       "      <td>2025-05-07</td>\n",
       "    </tr>\n",
       "    <tr>\n",
       "      <th>77</th>\n",
       "      <td>P078</td>\n",
       "      <td>REP06</td>\n",
       "      <td>Sofía Herrera</td>\n",
       "      <td>Este</td>\n",
       "      <td>Hamburguesa</td>\n",
       "      <td>20.00</td>\n",
       "      <td>2.50</td>\n",
       "      <td>2025-05-07</td>\n",
       "    </tr>\n",
       "    <tr>\n",
       "      <th>78</th>\n",
       "      <td>P079</td>\n",
       "      <td>REP05</td>\n",
       "      <td>Pedro Sánchez</td>\n",
       "      <td>Norte</td>\n",
       "      <td>Pizza</td>\n",
       "      <td>32.25</td>\n",
       "      <td>4.00</td>\n",
       "      <td>2025-05-07</td>\n",
       "    </tr>\n",
       "    <tr>\n",
       "      <th>79</th>\n",
       "      <td>P080</td>\n",
       "      <td>REP01</td>\n",
       "      <td>Carlos Méndez</td>\n",
       "      <td>Norte</td>\n",
       "      <td>Hamburguesa</td>\n",
       "      <td>750.00</td>\n",
       "      <td>680.00</td>\n",
       "      <td>2025-05-08</td>\n",
       "    </tr>\n",
       "  </tbody>\n",
       "</table>\n",
       "</div>"
      ],
      "text/plain": [
       "   id_pedido repartidor_id nombre_repartidor   zona  tipo_comida   monto  \\\n",
       "75      P076         REP04    María González  Oeste     Ensalada   24.25   \n",
       "76      P077         REP02     Ana Rodríguez    Sur        Sushi   45.50   \n",
       "77      P078         REP06     Sofía Herrera   Este  Hamburguesa   20.00   \n",
       "78      P079         REP05     Pedro Sánchez  Norte        Pizza   32.25   \n",
       "79      P080         REP01     Carlos Méndez  Norte  Hamburguesa  750.00   \n",
       "\n",
       "    propina fecha_entrega  \n",
       "75     4.00    2025-05-06  \n",
       "76     5.25    2025-05-07  \n",
       "77     2.50    2025-05-07  \n",
       "78     4.00    2025-05-07  \n",
       "79   680.00    2025-05-08  "
      ]
     },
     "execution_count": 2,
     "metadata": {},
     "output_type": "execute_result"
    }
   ],
   "source": [
    "# Muestra las últimas 5 filas\n",
    "df.tail()"
   ]
  },
  {
   "cell_type": "code",
   "execution_count": 3,
   "metadata": {},
   "outputs": [
    {
     "data": {
      "text/plain": [
       "(80, 8)"
      ]
     },
     "execution_count": 3,
     "metadata": {},
     "output_type": "execute_result"
    }
   ],
   "source": [
    "# ¿Cuántas filas y columnas tiene?\n",
    "df.shape"
   ]
  },
  {
   "cell_type": "code",
   "execution_count": 4,
   "metadata": {},
   "outputs": [
    {
     "data": {
      "text/plain": [
       "Index(['id_pedido', 'repartidor_id', 'nombre_repartidor', 'zona',\n",
       "       'tipo_comida', 'monto', 'propina', 'fecha_entrega'],\n",
       "      dtype='object')"
      ]
     },
     "execution_count": 4,
     "metadata": {},
     "output_type": "execute_result"
    }
   ],
   "source": [
    "# Lista los nombres de las columnas\n",
    "df.columns"
   ]
  },
  {
   "cell_type": "markdown",
   "metadata": {},
   "source": [
    "### Ejercicio 2: Conociendo las categorías\n",
    "\n",
    "**Tareas:**\n",
    "- ¿Cuántas zonas diferentes existen? Lístalas\n",
    "- ¿Qué tipos de comida se entregan? Muéstralos\n",
    "- ¿Cuántos repartidores únicos hay en el dataset?"
   ]
  },
  {
   "cell_type": "code",
   "execution_count": 5,
   "metadata": {},
   "outputs": [
    {
     "data": {
      "text/plain": [
       "array(['Norte', 'Sur', 'Este', 'Oeste'], dtype=object)"
      ]
     },
     "execution_count": 5,
     "metadata": {},
     "output_type": "execute_result"
    }
   ],
   "source": [
    "# Zonas únicas\n",
    "df['zona'].unique()"
   ]
  },
  {
   "cell_type": "code",
   "execution_count": 6,
   "metadata": {},
   "outputs": [
    {
     "data": {
      "text/plain": [
       "array(['Pizza', 'Sushi', 'Hamburguesa', 'Ensalada'], dtype=object)"
      ]
     },
     "execution_count": 6,
     "metadata": {},
     "output_type": "execute_result"
    }
   ],
   "source": [
    "# Tipos de comida\n",
    "df['tipo_comida'].unique()"
   ]
  },
  {
   "cell_type": "code",
   "execution_count": 7,
   "metadata": {},
   "outputs": [
    {
     "data": {
      "text/plain": [
       "6"
      ]
     },
     "execution_count": 7,
     "metadata": {},
     "output_type": "execute_result"
    }
   ],
   "source": [
    "# Número de repartidores únicos\n",
    "df['repartidor_id'].nunique()"
   ]
  },
  {
   "cell_type": "markdown",
   "metadata": {},
   "source": [
    "---\n",
    "## BLOQUE 2: El Problema de los Tipos"
   ]
  },
  {
   "cell_type": "markdown",
   "metadata": {},
   "source": [
    "### Ejercicio 3: Detectar y solucionar\n",
    "\n",
    "**Tareas:**\n",
    "- Muestra los tipos de datos de todas las columnas\n",
    "- Intenta calcular el promedio de `monto` - ¿Qué observas?\n",
    "- Convierte `monto` y `propina` a tipo float\n",
    "- Verifica los tipos de datos nuevamente\n",
    "- Ahora sí, calcula el promedio de monto y la suma total de propinas"
   ]
  },
  {
   "cell_type": "code",
   "execution_count": 8,
   "metadata": {},
   "outputs": [
    {
     "data": {
      "text/plain": [
       "id_pedido             object\n",
       "repartidor_id         object\n",
       "nombre_repartidor     object\n",
       "zona                  object\n",
       "tipo_comida           object\n",
       "monto                float64\n",
       "propina              float64\n",
       "fecha_entrega         object\n",
       "dtype: object"
      ]
     },
     "execution_count": 8,
     "metadata": {},
     "output_type": "execute_result"
    }
   ],
   "source": [
    "# Muestra los tipos de datos\n",
    "df.dtypes"
   ]
  },
  {
   "cell_type": "code",
   "execution_count": 9,
   "metadata": {},
   "outputs": [
    {
     "name": "stdout",
     "output_type": "stream",
     "text": [
      "Promedio de 'monto': 46.278125\n"
     ]
    }
   ],
   "source": [
    "# Intenta calcular el promedio de 'monto'\n",
    "# ¿Qué pasa?\n",
    "print(f\"Promedio de 'monto': {df['monto'].mean()}\")"
   ]
  },
  {
   "cell_type": "code",
   "execution_count": 10,
   "metadata": {},
   "outputs": [
    {
     "data": {
      "text/plain": [
       "array([[<Axes: title={'center': 'monto'}>,\n",
       "        <Axes: title={'center': 'propina'}>]], dtype=object)"
      ]
     },
     "execution_count": 10,
     "metadata": {},
     "output_type": "execute_result"
    },
    {
     "data": {
      "image/png": "[encoded data removed]",
      "text/plain": [
       "<Figure size 640x480 with 2 Axes>"
      ]
     },
     "metadata": {},
     "output_type": "display_data"
    }
   ],
   "source": [
    "df.hist()"
   ]
  },
  {
   "cell_type": "code",
   "execution_count": 11,
   "metadata": {},
   "outputs": [],
   "source": [
    "# Convierte 'monto' y 'propina' a float\n",
    "df['monto']  = df['monto'].astype(float)\n",
    "df['propina'] = df['propina'].astype(float)"
   ]
  },
  {
   "cell_type": "code",
   "execution_count": 12,
   "metadata": {},
   "outputs": [
    {
     "data": {
      "text/plain": [
       "id_pedido             object\n",
       "repartidor_id         object\n",
       "nombre_repartidor     object\n",
       "zona                  object\n",
       "tipo_comida           object\n",
       "monto                float64\n",
       "propina              float64\n",
       "fecha_entrega         object\n",
       "dtype: object"
      ]
     },
     "execution_count": 12,
     "metadata": {},
     "output_type": "execute_result"
    }
   ],
   "source": [
    "# Verifica los tipos nuevamente\n",
    "df.dtypes"
   ]
  },
  {
   "cell_type": "code",
   "execution_count": 13,
   "metadata": {},
   "outputs": [
    {
     "data": {
      "text/plain": [
       "np.float64(46.278125)"
      ]
     },
     "execution_count": 13,
     "metadata": {},
     "output_type": "execute_result"
    }
   ],
   "source": [
    "# Calcula el promedio de monto\n",
    "df['monto'].mean()"
   ]
  },
  {
   "cell_type": "code",
   "execution_count": 14,
   "metadata": {},
   "outputs": [
    {
     "data": {
      "text/plain": [
       "np.float64(1499.25)"
      ]
     },
     "execution_count": 14,
     "metadata": {},
     "output_type": "execute_result"
    }
   ],
   "source": [
    "# Calcula la suma total de propinas\n",
    "df['propina'].sum()"
   ]
  },
  {
   "cell_type": "markdown",
   "metadata": {},
   "source": [
    "---\n",
    "## BLOQUE 3: Entendiendo los Números"
   ]
  },
  {
   "cell_type": "markdown",
   "metadata": {},
   "source": [
    "### Ejercicio 4: Estadísticas y conteos\n",
    "\n",
    "**Tareas:**\n",
    "- Usa describe() para ver estadísticas de las columnas numéricas\n",
    "- ¿Cuál es la propina más alta? ¿Y la más baja?\n",
    "- Cuenta cuántos pedidos hay de cada tipo de comida\n",
    "- Cuenta cuántas entregas se hicieron por zona"
   ]
  },
  {
   "cell_type": "code",
   "execution_count": 15,
   "metadata": {},
   "outputs": [
    {
     "data": {
      "text/html": [
       "<div>\n",
       "<style scoped>\n",
       "    .dataframe tbody tr th:only-of-type {\n",
       "        vertical-align: middle;\n",
       "    }\n",
       "\n",
       "    .dataframe tbody tr th {\n",
       "        vertical-align: top;\n",
       "    }\n",
       "\n",
       "    .dataframe thead th {\n",
       "        text-align: right;\n",
       "    }\n",
       "</style>\n",
       "<table border=\"1\" class=\"dataframe\">\n",
       "  <thead>\n",
       "    <tr style=\"text-align: right;\">\n",
       "      <th></th>\n",
       "      <th>monto</th>\n",
       "      <th>propina</th>\n",
       "    </tr>\n",
       "  </thead>\n",
       "  <tbody>\n",
       "    <tr>\n",
       "      <th>count</th>\n",
       "      <td>80.000000</td>\n",
       "      <td>80.000000</td>\n",
       "    </tr>\n",
       "    <tr>\n",
       "      <th>mean</th>\n",
       "      <td>46.278125</td>\n",
       "      <td>18.740625</td>\n",
       "    </tr>\n",
       "    <tr>\n",
       "      <th>std</th>\n",
       "      <td>99.157655</td>\n",
       "      <td>94.532154</td>\n",
       "    </tr>\n",
       "    <tr>\n",
       "      <th>min</th>\n",
       "      <td>18.000000</td>\n",
       "      <td>2.000000</td>\n",
       "    </tr>\n",
       "    <tr>\n",
       "      <th>25%</th>\n",
       "      <td>22.187500</td>\n",
       "      <td>3.000000</td>\n",
       "    </tr>\n",
       "    <tr>\n",
       "      <th>50%</th>\n",
       "      <td>28.375000</td>\n",
       "      <td>3.500000</td>\n",
       "    </tr>\n",
       "    <tr>\n",
       "      <th>75%</th>\n",
       "      <td>36.375000</td>\n",
       "      <td>4.625000</td>\n",
       "    </tr>\n",
       "    <tr>\n",
       "      <th>max</th>\n",
       "      <td>750.000000</td>\n",
       "      <td>680.000000</td>\n",
       "    </tr>\n",
       "  </tbody>\n",
       "</table>\n",
       "</div>"
      ],
      "text/plain": [
       "            monto     propina\n",
       "count   80.000000   80.000000\n",
       "mean    46.278125   18.740625\n",
       "std     99.157655   94.532154\n",
       "min     18.000000    2.000000\n",
       "25%     22.187500    3.000000\n",
       "50%     28.375000    3.500000\n",
       "75%     36.375000    4.625000\n",
       "max    750.000000  680.000000"
      ]
     },
     "execution_count": 15,
     "metadata": {},
     "output_type": "execute_result"
    }
   ],
   "source": [
    "# Estadísticas descriptivas\n",
    "df.describe()"
   ]
  },
  {
   "cell_type": "code",
   "execution_count": 16,
   "metadata": {},
   "outputs": [
    {
     "name": "stdout",
     "output_type": "stream",
     "text": [
      "Propina más alta: 680.0\n",
      "Propina más mínima: 2.0\n"
     ]
    }
   ],
   "source": [
    "# Propina más alta y más baja\n",
    "print(f\"Propina más alta: {df['propina'].max()}\")\n",
    "print(f\"Propina más mínima: {df['propina'].min()}\")"
   ]
  },
  {
   "cell_type": "code",
   "execution_count": 17,
   "metadata": {},
   "outputs": [
    {
     "data": {
      "text/plain": [
       "tipo_comida\n",
       "Pizza          26\n",
       "Hamburguesa    23\n",
       "Sushi          18\n",
       "Ensalada       13\n",
       "Name: count, dtype: int64"
      ]
     },
     "execution_count": 17,
     "metadata": {},
     "output_type": "execute_result"
    }
   ],
   "source": [
    "# Conteo por tipo de comida\n",
    "df['tipo_comida'].value_counts()"
   ]
  },
  {
   "cell_type": "code",
   "execution_count": 18,
   "metadata": {},
   "outputs": [
    {
     "data": {
      "text/plain": [
       "zona\n",
       "Norte    28\n",
       "Este     25\n",
       "Sur      14\n",
       "Oeste    13\n",
       "Name: count, dtype: int64"
      ]
     },
     "execution_count": 18,
     "metadata": {},
     "output_type": "execute_result"
    }
   ],
   "source": [
    "# Conteo por zona\n",
    "df['zona'].value_counts()"
   ]
  },
  {
   "cell_type": "code",
   "execution_count": 19,
   "metadata": {},
   "outputs": [
    {
     "data": {
      "text/html": [
       "<div>\n",
       "<style scoped>\n",
       "    .dataframe tbody tr th:only-of-type {\n",
       "        vertical-align: middle;\n",
       "    }\n",
       "\n",
       "    .dataframe tbody tr th {\n",
       "        vertical-align: top;\n",
       "    }\n",
       "\n",
       "    .dataframe thead th {\n",
       "        text-align: right;\n",
       "    }\n",
       "</style>\n",
       "<table border=\"1\" class=\"dataframe\">\n",
       "  <thead>\n",
       "    <tr style=\"text-align: right;\">\n",
       "      <th></th>\n",
       "      <th>id_pedido</th>\n",
       "      <th>repartidor_id</th>\n",
       "      <th>nombre_repartidor</th>\n",
       "      <th>zona</th>\n",
       "      <th>tipo_comida</th>\n",
       "      <th>monto</th>\n",
       "      <th>propina</th>\n",
       "      <th>fecha_entrega</th>\n",
       "    </tr>\n",
       "  </thead>\n",
       "  <tbody>\n",
       "    <tr>\n",
       "      <th>79</th>\n",
       "      <td>P080</td>\n",
       "      <td>REP01</td>\n",
       "      <td>Carlos Méndez</td>\n",
       "      <td>Norte</td>\n",
       "      <td>Hamburguesa</td>\n",
       "      <td>750.00</td>\n",
       "      <td>680.00</td>\n",
       "      <td>2025-05-08</td>\n",
       "    </tr>\n",
       "    <tr>\n",
       "      <th>60</th>\n",
       "      <td>P061</td>\n",
       "      <td>REP01</td>\n",
       "      <td>Carlos Méndez</td>\n",
       "      <td>Norte</td>\n",
       "      <td>Pizza</td>\n",
       "      <td>550.00</td>\n",
       "      <td>520.00</td>\n",
       "      <td>2025-05-01</td>\n",
       "    </tr>\n",
       "    <tr>\n",
       "      <th>39</th>\n",
       "      <td>P040</td>\n",
       "      <td>REP04</td>\n",
       "      <td>María González</td>\n",
       "      <td>Oeste</td>\n",
       "      <td>Sushi</td>\n",
       "      <td>52.50</td>\n",
       "      <td>6.50</td>\n",
       "      <td>2025-04-25</td>\n",
       "    </tr>\n",
       "    <tr>\n",
       "      <th>6</th>\n",
       "      <td>P007</td>\n",
       "      <td>REP05</td>\n",
       "      <td>Pedro Sánchez</td>\n",
       "      <td>Norte</td>\n",
       "      <td>Sushi</td>\n",
       "      <td>52.00</td>\n",
       "      <td>6.50</td>\n",
       "      <td>2025-04-16</td>\n",
       "    </tr>\n",
       "    <tr>\n",
       "      <th>67</th>\n",
       "      <td>P068</td>\n",
       "      <td>REP01</td>\n",
       "      <td>Carlos Méndez</td>\n",
       "      <td>Norte</td>\n",
       "      <td>Sushi</td>\n",
       "      <td>52.00</td>\n",
       "      <td>6.50</td>\n",
       "      <td>2025-05-04</td>\n",
       "    </tr>\n",
       "    <tr>\n",
       "      <th>...</th>\n",
       "      <td>...</td>\n",
       "      <td>...</td>\n",
       "      <td>...</td>\n",
       "      <td>...</td>\n",
       "      <td>...</td>\n",
       "      <td>...</td>\n",
       "      <td>...</td>\n",
       "      <td>...</td>\n",
       "    </tr>\n",
       "    <tr>\n",
       "      <th>37</th>\n",
       "      <td>P038</td>\n",
       "      <td>REP01</td>\n",
       "      <td>Carlos Méndez</td>\n",
       "      <td>Norte</td>\n",
       "      <td>Hamburguesa</td>\n",
       "      <td>19.00</td>\n",
       "      <td>2.25</td>\n",
       "      <td>2025-04-25</td>\n",
       "    </tr>\n",
       "    <tr>\n",
       "      <th>2</th>\n",
       "      <td>P003</td>\n",
       "      <td>REP03</td>\n",
       "      <td>Luis Torres</td>\n",
       "      <td>Este</td>\n",
       "      <td>Hamburguesa</td>\n",
       "      <td>18.75</td>\n",
       "      <td>2.50</td>\n",
       "      <td>2025-04-15</td>\n",
       "    </tr>\n",
       "    <tr>\n",
       "      <th>65</th>\n",
       "      <td>P066</td>\n",
       "      <td>REP06</td>\n",
       "      <td>Sofía Herrera</td>\n",
       "      <td>Este</td>\n",
       "      <td>Hamburguesa</td>\n",
       "      <td>18.75</td>\n",
       "      <td>2.25</td>\n",
       "      <td>2025-05-03</td>\n",
       "    </tr>\n",
       "    <tr>\n",
       "      <th>48</th>\n",
       "      <td>P049</td>\n",
       "      <td>REP05</td>\n",
       "      <td>Pedro Sánchez</td>\n",
       "      <td>Norte</td>\n",
       "      <td>Hamburguesa</td>\n",
       "      <td>18.50</td>\n",
       "      <td>2.00</td>\n",
       "      <td>2025-04-28</td>\n",
       "    </tr>\n",
       "    <tr>\n",
       "      <th>19</th>\n",
       "      <td>P020</td>\n",
       "      <td>REP01</td>\n",
       "      <td>Carlos Méndez</td>\n",
       "      <td>Norte</td>\n",
       "      <td>Hamburguesa</td>\n",
       "      <td>18.00</td>\n",
       "      <td>2.25</td>\n",
       "      <td>2025-04-20</td>\n",
       "    </tr>\n",
       "  </tbody>\n",
       "</table>\n",
       "<p>80 rows × 8 columns</p>\n",
       "</div>"
      ],
      "text/plain": [
       "   id_pedido repartidor_id nombre_repartidor   zona  tipo_comida   monto  \\\n",
       "79      P080         REP01     Carlos Méndez  Norte  Hamburguesa  750.00   \n",
       "60      P061         REP01     Carlos Méndez  Norte        Pizza  550.00   \n",
       "39      P040         REP04    María González  Oeste        Sushi   52.50   \n",
       "6       P007         REP05     Pedro Sánchez  Norte        Sushi   52.00   \n",
       "67      P068         REP01     Carlos Méndez  Norte        Sushi   52.00   \n",
       "..       ...           ...               ...    ...          ...     ...   \n",
       "37      P038         REP01     Carlos Méndez  Norte  Hamburguesa   19.00   \n",
       "2       P003         REP03       Luis Torres   Este  Hamburguesa   18.75   \n",
       "65      P066         REP06     Sofía Herrera   Este  Hamburguesa   18.75   \n",
       "48      P049         REP05     Pedro Sánchez  Norte  Hamburguesa   18.50   \n",
       "19      P020         REP01     Carlos Méndez  Norte  Hamburguesa   18.00   \n",
       "\n",
       "    propina fecha_entrega  \n",
       "79   680.00    2025-05-08  \n",
       "60   520.00    2025-05-01  \n",
       "39     6.50    2025-04-25  \n",
       "6      6.50    2025-04-16  \n",
       "67     6.50    2025-05-04  \n",
       "..      ...           ...  \n",
       "37     2.25    2025-04-25  \n",
       "2      2.50    2025-04-15  \n",
       "65     2.25    2025-05-03  \n",
       "48     2.00    2025-04-28  \n",
       "19     2.25    2025-04-20  \n",
       "\n",
       "[80 rows x 8 columns]"
      ]
     },
     "execution_count": 19,
     "metadata": {},
     "output_type": "execute_result"
    }
   ],
   "source": [
    "df.sort_values(by='monto', ascending=False) # Ordenar por monto de mayor a menor"
   ]
  },
  {
   "cell_type": "markdown",
   "metadata": {},
   "source": [
    "---\n",
    "## BLOQUE 4: Filtrando Información"
   ]
  },
  {
   "cell_type": "markdown",
   "metadata": {},
   "source": [
    "### Ejercicio 5: Filtros básicos\n",
    "\n",
    "**Tareas:**\n",
    "- Filtra solo los pedidos de Pizza - ¿Cuántos son?\n",
    "- Filtra pedidos con monto mayor a $30 - muestra los primeros 5\n",
    "- Filtra pedidos de Sushi en la zona Norte"
   ]
  },
  {
   "cell_type": "code",
   "execution_count": 20,
   "metadata": {},
   "outputs": [
    {
     "data": {
      "text/plain": [
       "26"
      ]
     },
     "execution_count": 20,
     "metadata": {},
     "output_type": "execute_result"
    }
   ],
   "source": [
    "# Solo pedidos de Pizza\n",
    "df[df['tipo_comida'] == 'Pizza'].shape[0]"
   ]
  },
  {
   "cell_type": "code",
   "execution_count": 21,
   "metadata": {},
   "outputs": [
    {
     "data": {
      "text/html": [
       "<div>\n",
       "<style scoped>\n",
       "    .dataframe tbody tr th:only-of-type {\n",
       "        vertical-align: middle;\n",
       "    }\n",
       "\n",
       "    .dataframe tbody tr th {\n",
       "        vertical-align: top;\n",
       "    }\n",
       "\n",
       "    .dataframe thead th {\n",
       "        text-align: right;\n",
       "    }\n",
       "</style>\n",
       "<table border=\"1\" class=\"dataframe\">\n",
       "  <thead>\n",
       "    <tr style=\"text-align: right;\">\n",
       "      <th></th>\n",
       "      <th>id_pedido</th>\n",
       "      <th>repartidor_id</th>\n",
       "      <th>nombre_repartidor</th>\n",
       "      <th>zona</th>\n",
       "      <th>tipo_comida</th>\n",
       "      <th>monto</th>\n",
       "      <th>propina</th>\n",
       "      <th>fecha_entrega</th>\n",
       "    </tr>\n",
       "  </thead>\n",
       "  <tbody>\n",
       "    <tr>\n",
       "      <th>1</th>\n",
       "      <td>P002</td>\n",
       "      <td>REP02</td>\n",
       "      <td>Ana Rodríguez</td>\n",
       "      <td>Sur</td>\n",
       "      <td>Sushi</td>\n",
       "      <td>45.0</td>\n",
       "      <td>5.00</td>\n",
       "      <td>2025-04-15</td>\n",
       "    </tr>\n",
       "    <tr>\n",
       "      <th>4</th>\n",
       "      <td>P005</td>\n",
       "      <td>REP04</td>\n",
       "      <td>María González</td>\n",
       "      <td>Oeste</td>\n",
       "      <td>Pizza</td>\n",
       "      <td>32.5</td>\n",
       "      <td>4.00</td>\n",
       "      <td>2025-04-16</td>\n",
       "    </tr>\n",
       "    <tr>\n",
       "      <th>6</th>\n",
       "      <td>P007</td>\n",
       "      <td>REP05</td>\n",
       "      <td>Pedro Sánchez</td>\n",
       "      <td>Norte</td>\n",
       "      <td>Sushi</td>\n",
       "      <td>52.0</td>\n",
       "      <td>6.50</td>\n",
       "      <td>2025-04-16</td>\n",
       "    </tr>\n",
       "    <tr>\n",
       "      <th>10</th>\n",
       "      <td>P011</td>\n",
       "      <td>REP02</td>\n",
       "      <td>Ana Rodríguez</td>\n",
       "      <td>Sur</td>\n",
       "      <td>Pizza</td>\n",
       "      <td>31.0</td>\n",
       "      <td>3.75</td>\n",
       "      <td>2025-04-17</td>\n",
       "    </tr>\n",
       "    <tr>\n",
       "      <th>11</th>\n",
       "      <td>P012</td>\n",
       "      <td>REP06</td>\n",
       "      <td>Sofía Herrera</td>\n",
       "      <td>Este</td>\n",
       "      <td>Sushi</td>\n",
       "      <td>48.0</td>\n",
       "      <td>5.50</td>\n",
       "      <td>2025-04-17</td>\n",
       "    </tr>\n",
       "  </tbody>\n",
       "</table>\n",
       "</div>"
      ],
      "text/plain": [
       "   id_pedido repartidor_id nombre_repartidor   zona tipo_comida  monto  \\\n",
       "1       P002         REP02     Ana Rodríguez    Sur       Sushi   45.0   \n",
       "4       P005         REP04    María González  Oeste       Pizza   32.5   \n",
       "6       P007         REP05     Pedro Sánchez  Norte       Sushi   52.0   \n",
       "10      P011         REP02     Ana Rodríguez    Sur       Pizza   31.0   \n",
       "11      P012         REP06     Sofía Herrera   Este       Sushi   48.0   \n",
       "\n",
       "    propina fecha_entrega  \n",
       "1      5.00    2025-04-15  \n",
       "4      4.00    2025-04-16  \n",
       "6      6.50    2025-04-16  \n",
       "10     3.75    2025-04-17  \n",
       "11     5.50    2025-04-17  "
      ]
     },
     "execution_count": 21,
     "metadata": {},
     "output_type": "execute_result"
    }
   ],
   "source": [
    "# Pedidos con monto > 30\n",
    "df[df['monto'] > 30].head()"
   ]
  },
  {
   "cell_type": "code",
   "execution_count": 22,
   "metadata": {},
   "outputs": [
    {
     "data": {
      "text/html": [
       "<div>\n",
       "<style scoped>\n",
       "    .dataframe tbody tr th:only-of-type {\n",
       "        vertical-align: middle;\n",
       "    }\n",
       "\n",
       "    .dataframe tbody tr th {\n",
       "        vertical-align: top;\n",
       "    }\n",
       "\n",
       "    .dataframe thead th {\n",
       "        text-align: right;\n",
       "    }\n",
       "</style>\n",
       "<table border=\"1\" class=\"dataframe\">\n",
       "  <thead>\n",
       "    <tr style=\"text-align: right;\">\n",
       "      <th></th>\n",
       "      <th>id_pedido</th>\n",
       "      <th>repartidor_id</th>\n",
       "      <th>nombre_repartidor</th>\n",
       "      <th>zona</th>\n",
       "      <th>tipo_comida</th>\n",
       "      <th>monto</th>\n",
       "      <th>propina</th>\n",
       "      <th>fecha_entrega</th>\n",
       "    </tr>\n",
       "  </thead>\n",
       "  <tbody>\n",
       "    <tr>\n",
       "      <th>6</th>\n",
       "      <td>P007</td>\n",
       "      <td>REP05</td>\n",
       "      <td>Pedro Sánchez</td>\n",
       "      <td>Norte</td>\n",
       "      <td>Sushi</td>\n",
       "      <td>52.0</td>\n",
       "      <td>6.50</td>\n",
       "      <td>2025-04-16</td>\n",
       "    </tr>\n",
       "    <tr>\n",
       "      <th>25</th>\n",
       "      <td>P026</td>\n",
       "      <td>REP01</td>\n",
       "      <td>Carlos Méndez</td>\n",
       "      <td>Norte</td>\n",
       "      <td>Sushi</td>\n",
       "      <td>49.0</td>\n",
       "      <td>5.50</td>\n",
       "      <td>2025-04-21</td>\n",
       "    </tr>\n",
       "    <tr>\n",
       "      <th>36</th>\n",
       "      <td>P037</td>\n",
       "      <td>REP05</td>\n",
       "      <td>Pedro Sánchez</td>\n",
       "      <td>Norte</td>\n",
       "      <td>Sushi</td>\n",
       "      <td>48.5</td>\n",
       "      <td>5.75</td>\n",
       "      <td>2025-04-24</td>\n",
       "    </tr>\n",
       "    <tr>\n",
       "      <th>49</th>\n",
       "      <td>P050</td>\n",
       "      <td>REP01</td>\n",
       "      <td>Carlos Méndez</td>\n",
       "      <td>Norte</td>\n",
       "      <td>Sushi</td>\n",
       "      <td>51.5</td>\n",
       "      <td>6.25</td>\n",
       "      <td>2025-04-28</td>\n",
       "    </tr>\n",
       "    <tr>\n",
       "      <th>67</th>\n",
       "      <td>P068</td>\n",
       "      <td>REP01</td>\n",
       "      <td>Carlos Méndez</td>\n",
       "      <td>Norte</td>\n",
       "      <td>Sushi</td>\n",
       "      <td>52.0</td>\n",
       "      <td>6.50</td>\n",
       "      <td>2025-05-04</td>\n",
       "    </tr>\n",
       "  </tbody>\n",
       "</table>\n",
       "</div>"
      ],
      "text/plain": [
       "   id_pedido repartidor_id nombre_repartidor   zona tipo_comida  monto  \\\n",
       "6       P007         REP05     Pedro Sánchez  Norte       Sushi   52.0   \n",
       "25      P026         REP01     Carlos Méndez  Norte       Sushi   49.0   \n",
       "36      P037         REP05     Pedro Sánchez  Norte       Sushi   48.5   \n",
       "49      P050         REP01     Carlos Méndez  Norte       Sushi   51.5   \n",
       "67      P068         REP01     Carlos Méndez  Norte       Sushi   52.0   \n",
       "\n",
       "    propina fecha_entrega  \n",
       "6      6.50    2025-04-16  \n",
       "25     5.50    2025-04-21  \n",
       "36     5.75    2025-04-24  \n",
       "49     6.25    2025-04-28  \n",
       "67     6.50    2025-05-04  "
      ]
     },
     "execution_count": 22,
     "metadata": {},
     "output_type": "execute_result"
    }
   ],
   "source": [
    "# Sushi en zona Norte\n",
    "df[(df['zona'] == 'Norte') & (df['tipo_comida'] == 'Sushi')]"
   ]
  },
  {
   "cell_type": "markdown",
   "metadata": {},
   "source": [
    "### Ejercicio 6: Filtros con múltiples valores\n",
    "\n",
    "**Tareas:**\n",
    "- Filtra pedidos que sean Pizza O Hamburguesa (usa .isin())\n",
    "- ¿Cuántos pedidos son en total?\n",
    "- De esos, ¿cuántos son de la zona Sur?"
   ]
  },
  {
   "cell_type": "code",
   "execution_count": 23,
   "metadata": {},
   "outputs": [
    {
     "data": {
      "text/html": [
       "<div>\n",
       "<style scoped>\n",
       "    .dataframe tbody tr th:only-of-type {\n",
       "        vertical-align: middle;\n",
       "    }\n",
       "\n",
       "    .dataframe tbody tr th {\n",
       "        vertical-align: top;\n",
       "    }\n",
       "\n",
       "    .dataframe thead th {\n",
       "        text-align: right;\n",
       "    }\n",
       "</style>\n",
       "<table border=\"1\" class=\"dataframe\">\n",
       "  <thead>\n",
       "    <tr style=\"text-align: right;\">\n",
       "      <th></th>\n",
       "      <th>id_pedido</th>\n",
       "      <th>repartidor_id</th>\n",
       "      <th>nombre_repartidor</th>\n",
       "      <th>zona</th>\n",
       "      <th>tipo_comida</th>\n",
       "      <th>monto</th>\n",
       "      <th>propina</th>\n",
       "      <th>fecha_entrega</th>\n",
       "    </tr>\n",
       "  </thead>\n",
       "  <tbody>\n",
       "    <tr>\n",
       "      <th>0</th>\n",
       "      <td>P001</td>\n",
       "      <td>REP01</td>\n",
       "      <td>Carlos Méndez</td>\n",
       "      <td>Norte</td>\n",
       "      <td>Pizza</td>\n",
       "      <td>28.50</td>\n",
       "      <td>3.50</td>\n",
       "      <td>2025-04-15</td>\n",
       "    </tr>\n",
       "    <tr>\n",
       "      <th>2</th>\n",
       "      <td>P003</td>\n",
       "      <td>REP03</td>\n",
       "      <td>Luis Torres</td>\n",
       "      <td>Este</td>\n",
       "      <td>Hamburguesa</td>\n",
       "      <td>18.75</td>\n",
       "      <td>2.50</td>\n",
       "      <td>2025-04-15</td>\n",
       "    </tr>\n",
       "    <tr>\n",
       "      <th>4</th>\n",
       "      <td>P005</td>\n",
       "      <td>REP04</td>\n",
       "      <td>María González</td>\n",
       "      <td>Oeste</td>\n",
       "      <td>Pizza</td>\n",
       "      <td>32.50</td>\n",
       "      <td>4.00</td>\n",
       "      <td>2025-04-16</td>\n",
       "    </tr>\n",
       "    <tr>\n",
       "      <th>5</th>\n",
       "      <td>P006</td>\n",
       "      <td>REP02</td>\n",
       "      <td>Ana Rodríguez</td>\n",
       "      <td>Sur</td>\n",
       "      <td>Hamburguesa</td>\n",
       "      <td>21.00</td>\n",
       "      <td>2.75</td>\n",
       "      <td>2025-04-16</td>\n",
       "    </tr>\n",
       "    <tr>\n",
       "      <th>7</th>\n",
       "      <td>P008</td>\n",
       "      <td>REP03</td>\n",
       "      <td>Luis Torres</td>\n",
       "      <td>Este</td>\n",
       "      <td>Pizza</td>\n",
       "      <td>29.00</td>\n",
       "      <td>3.25</td>\n",
       "      <td>2025-04-16</td>\n",
       "    </tr>\n",
       "  </tbody>\n",
       "</table>\n",
       "</div>"
      ],
      "text/plain": [
       "  id_pedido repartidor_id nombre_repartidor   zona  tipo_comida  monto  \\\n",
       "0      P001         REP01     Carlos Méndez  Norte        Pizza  28.50   \n",
       "2      P003         REP03       Luis Torres   Este  Hamburguesa  18.75   \n",
       "4      P005         REP04    María González  Oeste        Pizza  32.50   \n",
       "5      P006         REP02     Ana Rodríguez    Sur  Hamburguesa  21.00   \n",
       "7      P008         REP03       Luis Torres   Este        Pizza  29.00   \n",
       "\n",
       "   propina fecha_entrega  \n",
       "0     3.50    2025-04-15  \n",
       "2     2.50    2025-04-15  \n",
       "4     4.00    2025-04-16  \n",
       "5     2.75    2025-04-16  \n",
       "7     3.25    2025-04-16  "
      ]
     },
     "execution_count": 23,
     "metadata": {},
     "output_type": "execute_result"
    }
   ],
   "source": [
    "# Pizza O Hamburguesa\n",
    "comidas_rapidas = df[df['tipo_comida'].isin(['Pizza', 'Hamburguesa'])]\n",
    "comidas_rapidas.head()"
   ]
  },
  {
   "cell_type": "code",
   "execution_count": 24,
   "metadata": {},
   "outputs": [
    {
     "data": {
      "text/plain": [
       "np.int64(8)"
      ]
     },
     "execution_count": 24,
     "metadata": {},
     "output_type": "execute_result"
    }
   ],
   "source": [
    "# De esos, cuántos son de zona Sur\n",
    "(comidas_rapidas['zona'] == 'Sur').sum()"
   ]
  },
  {
   "cell_type": "markdown",
   "metadata": {},
   "source": [
    "---\n",
    "## BLOQUE 5: Agrupando y Resumiendo"
   ]
  },
  {
   "cell_type": "markdown",
   "metadata": {},
   "source": [
    "### Ejercicio 7: Agrupaciones simples\n",
    "\n",
    "**Tareas:**\n",
    "- Agrupa por zona y cuenta los pedidos - ¿Qué zona tiene más entregas?\n",
    "- Agrupa por tipo de comida y suma el monto total - ¿Qué tipo genera más ingresos?\n",
    "- Calcula la propina promedio por zona - ¿Dónde dan mejores propinas?"
   ]
  },
  {
   "cell_type": "code",
   "execution_count": 25,
   "metadata": {},
   "outputs": [
    {
     "data": {
      "text/plain": [
       "zona\n",
       "Este     25\n",
       "Norte    28\n",
       "Oeste    13\n",
       "Sur      14\n",
       "Name: id_pedido, dtype: int64"
      ]
     },
     "execution_count": 25,
     "metadata": {},
     "output_type": "execute_result"
    }
   ],
   "source": [
    "# Conteo por zona\n",
    "df.groupby('zona')['id_pedido'].count()"
   ]
  },
  {
   "cell_type": "markdown",
   "metadata": {},
   "source": [
    "La zona **Norte** tiene más entregas"
   ]
  },
  {
   "cell_type": "code",
   "execution_count": 26,
   "metadata": {},
   "outputs": [
    {
     "data": {
      "text/plain": [
       "tipo_comida\n",
       "Ensalada        318.25\n",
       "Hamburguesa    1197.25\n",
       "Pizza          1306.00\n",
       "Sushi           880.75\n",
       "Name: monto, dtype: float64"
      ]
     },
     "execution_count": 26,
     "metadata": {},
     "output_type": "execute_result"
    }
   ],
   "source": [
    "# Ingresos totales por tipo de comida\n",
    "df.groupby('tipo_comida')['monto'].sum()"
   ]
  },
  {
   "cell_type": "markdown",
   "metadata": {},
   "source": [
    "El tipo de comida **Pizza** genera más ingresos"
   ]
  },
  {
   "cell_type": "code",
   "execution_count": 27,
   "metadata": {},
   "outputs": [
    {
     "data": {
      "text/plain": [
       "zona\n",
       "Este      3.820000\n",
       "Norte    46.232143\n",
       "Oeste     4.250000\n",
       "Sur       3.857143\n",
       "Name: propina, dtype: float64"
      ]
     },
     "execution_count": 27,
     "metadata": {},
     "output_type": "execute_result"
    }
   ],
   "source": [
    "# Propina promedio por zona\n",
    "df.groupby('zona')['propina'].mean()"
   ]
  },
  {
   "cell_type": "markdown",
   "metadata": {},
   "source": [
    "En la zona **Norte** dan mejores propinas"
   ]
  },
  {
   "cell_type": "markdown",
   "metadata": {},
   "source": [
    "### Ejercicio 8: Agrupaciones múltiples\n",
    "\n",
    "**Tareas:**\n",
    "- Agrupa por zona Y tipo de comida simultáneamente\n",
    "- Cuenta cuántos pedidos hay de cada combinación\n",
    "- ¿Qué combinación es la más frecuente?"
   ]
  },
  {
   "cell_type": "code",
   "execution_count": 28,
   "metadata": {},
   "outputs": [
    {
     "data": {
      "text/plain": [
       "zona   tipo_comida\n",
       "Este   Ensalada        5\n",
       "       Hamburguesa     7\n",
       "       Pizza           7\n",
       "       Sushi           6\n",
       "Norte  Ensalada        3\n",
       "       Hamburguesa     9\n",
       "       Pizza          11\n",
       "       Sushi           5\n",
       "Oeste  Ensalada        3\n",
       "       Hamburguesa     2\n",
       "       Pizza           5\n",
       "       Sushi           3\n",
       "Sur    Ensalada        2\n",
       "       Hamburguesa     5\n",
       "       Pizza           3\n",
       "       Sushi           4\n",
       "Name: id_pedido, dtype: int64"
      ]
     },
     "execution_count": 28,
     "metadata": {},
     "output_type": "execute_result"
    }
   ],
   "source": [
    "# Agrupación múltiple\n",
    "df.groupby(['zona', 'tipo_comida'])['id_pedido'].count()"
   ]
  },
  {
   "cell_type": "markdown",
   "metadata": {},
   "source": [
    "La combinación más frecuente es la del **Norte**, y la pizza es las más vendida en cada zona."
   ]
  },
  {
   "cell_type": "markdown",
   "metadata": {},
   "source": [
    "---\n",
    "## BLOQUE 6: Ordenando Resultados"
   ]
  },
  {
   "cell_type": "markdown",
   "metadata": {},
   "source": [
    "### Ejercicio 9: Ordenamiento y tops\n",
    "\n",
    "**Tareas:**\n",
    "- Ordena todos los pedidos por monto (de mayor a menor)\n",
    "- Muestra los 5 pedidos más caros\n",
    "- Cuenta entregas por repartidor, ordena y muestra el top 3"
   ]
  },
  {
   "cell_type": "code",
   "execution_count": 29,
   "metadata": {},
   "outputs": [],
   "source": [
    "# Ordenar por monto\n",
    "df.sort_values(by='monto', ascending=False, inplace=True)"
   ]
  },
  {
   "cell_type": "code",
   "execution_count": 30,
   "metadata": {},
   "outputs": [
    {
     "data": {
      "text/html": [
       "<div>\n",
       "<style scoped>\n",
       "    .dataframe tbody tr th:only-of-type {\n",
       "        vertical-align: middle;\n",
       "    }\n",
       "\n",
       "    .dataframe tbody tr th {\n",
       "        vertical-align: top;\n",
       "    }\n",
       "\n",
       "    .dataframe thead th {\n",
       "        text-align: right;\n",
       "    }\n",
       "</style>\n",
       "<table border=\"1\" class=\"dataframe\">\n",
       "  <thead>\n",
       "    <tr style=\"text-align: right;\">\n",
       "      <th></th>\n",
       "      <th>id_pedido</th>\n",
       "      <th>repartidor_id</th>\n",
       "      <th>nombre_repartidor</th>\n",
       "      <th>zona</th>\n",
       "      <th>tipo_comida</th>\n",
       "      <th>monto</th>\n",
       "      <th>propina</th>\n",
       "      <th>fecha_entrega</th>\n",
       "    </tr>\n",
       "  </thead>\n",
       "  <tbody>\n",
       "    <tr>\n",
       "      <th>79</th>\n",
       "      <td>P080</td>\n",
       "      <td>REP01</td>\n",
       "      <td>Carlos Méndez</td>\n",
       "      <td>Norte</td>\n",
       "      <td>Hamburguesa</td>\n",
       "      <td>750.0</td>\n",
       "      <td>680.0</td>\n",
       "      <td>2025-05-08</td>\n",
       "    </tr>\n",
       "    <tr>\n",
       "      <th>60</th>\n",
       "      <td>P061</td>\n",
       "      <td>REP01</td>\n",
       "      <td>Carlos Méndez</td>\n",
       "      <td>Norte</td>\n",
       "      <td>Pizza</td>\n",
       "      <td>550.0</td>\n",
       "      <td>520.0</td>\n",
       "      <td>2025-05-01</td>\n",
       "    </tr>\n",
       "    <tr>\n",
       "      <th>39</th>\n",
       "      <td>P040</td>\n",
       "      <td>REP04</td>\n",
       "      <td>María González</td>\n",
       "      <td>Oeste</td>\n",
       "      <td>Sushi</td>\n",
       "      <td>52.5</td>\n",
       "      <td>6.5</td>\n",
       "      <td>2025-04-25</td>\n",
       "    </tr>\n",
       "    <tr>\n",
       "      <th>6</th>\n",
       "      <td>P007</td>\n",
       "      <td>REP05</td>\n",
       "      <td>Pedro Sánchez</td>\n",
       "      <td>Norte</td>\n",
       "      <td>Sushi</td>\n",
       "      <td>52.0</td>\n",
       "      <td>6.5</td>\n",
       "      <td>2025-04-16</td>\n",
       "    </tr>\n",
       "    <tr>\n",
       "      <th>67</th>\n",
       "      <td>P068</td>\n",
       "      <td>REP01</td>\n",
       "      <td>Carlos Méndez</td>\n",
       "      <td>Norte</td>\n",
       "      <td>Sushi</td>\n",
       "      <td>52.0</td>\n",
       "      <td>6.5</td>\n",
       "      <td>2025-05-04</td>\n",
       "    </tr>\n",
       "  </tbody>\n",
       "</table>\n",
       "</div>"
      ],
      "text/plain": [
       "   id_pedido repartidor_id nombre_repartidor   zona  tipo_comida  monto  \\\n",
       "79      P080         REP01     Carlos Méndez  Norte  Hamburguesa  750.0   \n",
       "60      P061         REP01     Carlos Méndez  Norte        Pizza  550.0   \n",
       "39      P040         REP04    María González  Oeste        Sushi   52.5   \n",
       "6       P007         REP05     Pedro Sánchez  Norte        Sushi   52.0   \n",
       "67      P068         REP01     Carlos Méndez  Norte        Sushi   52.0   \n",
       "\n",
       "    propina fecha_entrega  \n",
       "79    680.0    2025-05-08  \n",
       "60    520.0    2025-05-01  \n",
       "39      6.5    2025-04-25  \n",
       "6       6.5    2025-04-16  \n",
       "67      6.5    2025-05-04  "
      ]
     },
     "execution_count": 30,
     "metadata": {},
     "output_type": "execute_result"
    }
   ],
   "source": [
    "# Top 5 pedidos más caros\n",
    "df.head()"
   ]
  },
  {
   "cell_type": "code",
   "execution_count": 31,
   "metadata": {},
   "outputs": [
    {
     "data": {
      "text/plain": [
       "nombre_repartidor\n",
       "Carlos Méndez    15\n",
       "Ana Rodríguez    14\n",
       "Luis Torres      13\n",
       "Name: id_pedido, dtype: int64"
      ]
     },
     "execution_count": 31,
     "metadata": {},
     "output_type": "execute_result"
    }
   ],
   "source": [
    "# Top 3 repartidores con más entregas\n",
    "df.groupby('nombre_repartidor')['id_pedido'].count().sort_values(ascending=False).head(3)"
   ]
  },
  {
   "cell_type": "markdown",
   "metadata": {},
   "source": [
    "---\n",
    "## BLOQUE 7: Desafío Principal - Repartidores Especialistas"
   ]
  },
  {
   "cell_type": "markdown",
   "metadata": {},
   "source": [
    "### Ejercicio 10: Razonamiento (NO programar todavía)\n",
    "\n",
    "El gerente de FastEats quiere premiar a los repartidores que se especializan en comida rápida (Pizza y Hamburguesa), ya que estas requieren entregas más veloces.\n",
    "\n",
    "**Sin escribir código, describe los pasos que seguirías:**\n",
    "\n",
    "**Paso 1:** \n",
    "\n",
    "Filtrar por pizza y hamburguesa\n",
    "\n",
    "**Paso 2:** \n",
    "\n",
    "Agrupar por repartidor_id y nombre_repartidor\n",
    "\n",
    "**Paso 3:** \n",
    "\n",
    "Contar las entregas por cada repartidor\n",
    "\n",
    "**Paso 4:** \n",
    "\n",
    "Mostrar un top de esos repartidores"
   ]
  },
  {
   "cell_type": "markdown",
   "metadata": {},
   "source": [
    "### Ejercicio 11: Implementación paso a paso\n",
    "\n",
    "Ahora implementa tu plan:\n",
    "- **a)** Filtra solo pedidos de Pizza y Hamburguesa. ¿Cuántos pedidos quedan?\n",
    "- **b)** Agrupa por repartidor_id y nombre_repartidor\n",
    "- **c)** Cuenta cuántas entregas hizo cada repartidor de estos tipos\n",
    "- **d)** Ordena de mayor a menor\n",
    "- **e)** Muestra el top 5 de repartidores especialistas"
   ]
  },
  {
   "cell_type": "code",
   "execution_count": 32,
   "metadata": {},
   "outputs": [
    {
     "name": "stdout",
     "output_type": "stream",
     "text": [
      "Quedan 49 pedidos\n"
     ]
    }
   ],
   "source": [
    "# a) Filtrar Pizza y Hamburguesa\n",
    "df_comidas_rapidas = df[df['tipo_comida'].isin({'Pizza', 'Hamburguesa'})]\n",
    "print(f\"Quedan {df_comidas_rapidas.shape[0]} pedidos\")"
   ]
  },
  {
   "cell_type": "code",
   "execution_count": 33,
   "metadata": {},
   "outputs": [],
   "source": [
    "# b) y c) Agrupar y contar\n",
    "df_group = df_comidas_rapidas.groupby(['repartidor_id', 'nombre_repartidor'])['id_pedido'].count()"
   ]
  },
  {
   "cell_type": "code",
   "execution_count": 34,
   "metadata": {},
   "outputs": [],
   "source": [
    "# d) Ordenar\n",
    "df_group.sort_values(ascending=False, inplace=True)"
   ]
  },
  {
   "cell_type": "code",
   "execution_count": 35,
   "metadata": {},
   "outputs": [
    {
     "data": {
      "text/html": [
       "<div>\n",
       "<style scoped>\n",
       "    .dataframe tbody tr th:only-of-type {\n",
       "        vertical-align: middle;\n",
       "    }\n",
       "\n",
       "    .dataframe tbody tr th {\n",
       "        vertical-align: top;\n",
       "    }\n",
       "\n",
       "    .dataframe thead th {\n",
       "        text-align: right;\n",
       "    }\n",
       "</style>\n",
       "<table border=\"1\" class=\"dataframe\">\n",
       "  <thead>\n",
       "    <tr style=\"text-align: right;\">\n",
       "      <th></th>\n",
       "      <th>repartidor_id</th>\n",
       "      <th>nombre_repartidor</th>\n",
       "      <th>cantidad_pedidos</th>\n",
       "    </tr>\n",
       "  </thead>\n",
       "  <tbody>\n",
       "    <tr>\n",
       "      <th>0</th>\n",
       "      <td>REP01</td>\n",
       "      <td>Carlos Méndez</td>\n",
       "      <td>11</td>\n",
       "    </tr>\n",
       "    <tr>\n",
       "      <th>1</th>\n",
       "      <td>REP03</td>\n",
       "      <td>Luis Torres</td>\n",
       "      <td>9</td>\n",
       "    </tr>\n",
       "    <tr>\n",
       "      <th>2</th>\n",
       "      <td>REP05</td>\n",
       "      <td>Pedro Sánchez</td>\n",
       "      <td>9</td>\n",
       "    </tr>\n",
       "    <tr>\n",
       "      <th>3</th>\n",
       "      <td>REP02</td>\n",
       "      <td>Ana Rodríguez</td>\n",
       "      <td>8</td>\n",
       "    </tr>\n",
       "    <tr>\n",
       "      <th>4</th>\n",
       "      <td>REP04</td>\n",
       "      <td>María González</td>\n",
       "      <td>7</td>\n",
       "    </tr>\n",
       "  </tbody>\n",
       "</table>\n",
       "</div>"
      ],
      "text/plain": [
       "  repartidor_id nombre_repartidor  cantidad_pedidos\n",
       "0         REP01     Carlos Méndez                11\n",
       "1         REP03       Luis Torres                 9\n",
       "2         REP05     Pedro Sánchez                 9\n",
       "3         REP02     Ana Rodríguez                 8\n",
       "4         REP04    María González                 7"
      ]
     },
     "execution_count": 35,
     "metadata": {},
     "output_type": "execute_result"
    }
   ],
   "source": [
    "# e) Top 5\n",
    "df_group.head().reset_index(name='cantidad_pedidos')"
   ]
  },
  {
   "cell_type": "markdown",
   "metadata": {},
   "source": [
    "---\n",
    "## BLOQUE 8: Pensamiento Crítico - El Dilema de los Outliers"
   ]
  },
  {
   "cell_type": "markdown",
   "metadata": {},
   "source": [
    "### Ejercicio 12: Exploración de valores extremos\n",
    "\n",
    "**Tareas:**\n",
    "- Muestra las estadísticas de la columna 'propina'\n",
    "- Filtra y muestra las 10 propinas más altas\n",
    "- Calcula: ¿cuántos pedidos tienen propina mayor a $100?"
   ]
  },
  {
   "cell_type": "code",
   "execution_count": 36,
   "metadata": {},
   "outputs": [
    {
     "data": {
      "text/plain": [
       "count     80.000000\n",
       "mean      18.740625\n",
       "std       94.532154\n",
       "min        2.000000\n",
       "25%        3.000000\n",
       "50%        3.500000\n",
       "75%        4.625000\n",
       "max      680.000000\n",
       "Name: propina, dtype: float64"
      ]
     },
     "execution_count": 36,
     "metadata": {},
     "output_type": "execute_result"
    }
   ],
   "source": [
    "# Estadísticas de propina\n",
    "df['propina'].describe()"
   ]
  },
  {
   "cell_type": "code",
   "execution_count": 37,
   "metadata": {},
   "outputs": [
    {
     "data": {
      "text/plain": [
       "79    680.00\n",
       "60    520.00\n",
       "39      6.50\n",
       "6       6.50\n",
       "67      6.50\n",
       "49      6.25\n",
       "17      6.00\n",
       "71      6.00\n",
       "32      6.00\n",
       "53      5.75\n",
       "Name: propina, dtype: float64"
      ]
     },
     "execution_count": 37,
     "metadata": {},
     "output_type": "execute_result"
    }
   ],
   "source": [
    "# Top 10 propinas más altas\n",
    "df['propina'].head(10)"
   ]
  },
  {
   "cell_type": "code",
   "execution_count": 38,
   "metadata": {},
   "outputs": [
    {
     "data": {
      "text/html": [
       "<div>\n",
       "<style scoped>\n",
       "    .dataframe tbody tr th:only-of-type {\n",
       "        vertical-align: middle;\n",
       "    }\n",
       "\n",
       "    .dataframe tbody tr th {\n",
       "        vertical-align: top;\n",
       "    }\n",
       "\n",
       "    .dataframe thead th {\n",
       "        text-align: right;\n",
       "    }\n",
       "</style>\n",
       "<table border=\"1\" class=\"dataframe\">\n",
       "  <thead>\n",
       "    <tr style=\"text-align: right;\">\n",
       "      <th></th>\n",
       "      <th>id_pedido</th>\n",
       "      <th>repartidor_id</th>\n",
       "      <th>nombre_repartidor</th>\n",
       "      <th>zona</th>\n",
       "      <th>tipo_comida</th>\n",
       "      <th>monto</th>\n",
       "      <th>propina</th>\n",
       "      <th>fecha_entrega</th>\n",
       "    </tr>\n",
       "  </thead>\n",
       "  <tbody>\n",
       "    <tr>\n",
       "      <th>79</th>\n",
       "      <td>P080</td>\n",
       "      <td>REP01</td>\n",
       "      <td>Carlos Méndez</td>\n",
       "      <td>Norte</td>\n",
       "      <td>Hamburguesa</td>\n",
       "      <td>750.0</td>\n",
       "      <td>680.0</td>\n",
       "      <td>2025-05-08</td>\n",
       "    </tr>\n",
       "    <tr>\n",
       "      <th>60</th>\n",
       "      <td>P061</td>\n",
       "      <td>REP01</td>\n",
       "      <td>Carlos Méndez</td>\n",
       "      <td>Norte</td>\n",
       "      <td>Pizza</td>\n",
       "      <td>550.0</td>\n",
       "      <td>520.0</td>\n",
       "      <td>2025-05-01</td>\n",
       "    </tr>\n",
       "  </tbody>\n",
       "</table>\n",
       "</div>"
      ],
      "text/plain": [
       "   id_pedido repartidor_id nombre_repartidor   zona  tipo_comida  monto  \\\n",
       "79      P080         REP01     Carlos Méndez  Norte  Hamburguesa  750.0   \n",
       "60      P061         REP01     Carlos Méndez  Norte        Pizza  550.0   \n",
       "\n",
       "    propina fecha_entrega  \n",
       "79    680.0    2025-05-08  \n",
       "60    520.0    2025-05-01  "
      ]
     },
     "execution_count": 38,
     "metadata": {},
     "output_type": "execute_result"
    }
   ],
   "source": [
    "# Cuántos pedidos tienen propina > $100\n",
    "df[df['propina'] > 100]"
   ]
  },
  {
   "cell_type": "markdown",
   "metadata": {},
   "source": [
    "### Ejercicio 13: Análisis conceptual (NO programar)\n",
    "\n",
    "**Situación:** El gerente quiere estimar la \"propina típica\" para calcular ingresos proyectados de repartidores. Notas que hay propinas de $500+ (eventos corporativos, bodas) mientras el 90% de las propinas están entre $2-$10.\n",
    "\n",
    "**Responde:**\n",
    "\n",
    "**a) ¿Incluirías las propinas gigantes ($500+) en el cálculo de \"propina típica\"? ¿Por qué sí o por qué no?**\n",
    "\n",
    "*Tu respuesta:*\n",
    "\n",
    "No incluiría este tipo ya que se desea estimar solo la propina típica, al incluir las propinas de eventos especiales tendría valores atípicos\n",
    "\n",
    "\n",
    "**b) ¿Cómo cambiaría el resultado si las incluyes vs si las excluyes?**\n",
    "\n",
    "*Tu respuesta:*\n",
    "\n",
    "Al incluir afecta al promedio de los datos, por lo que ese valor alterado no representaría lo que gana un repartidor normalmente. \n",
    "\n",
    "**c) ¿Qué preguntas le harías al gerente antes de tomar la decisión?**\n",
    "\n",
    "*Tu respuesta:*\n",
    "\n",
    "¿Cúal es el objetivo real de la estimación?\n",
    "¿Cúal es la frecuencia de los pedidos grandes?\n",
    "\n",
    "**d) Propón 2 alternativas diferentes a simplemente \"eliminar\" los valores altos**\n",
    "\n",
    "*Alternativa 1:*\n",
    "\n",
    "Usar la mediana en lugar de la media (promedio) para tener valores más cercanos y no disparados.\n",
    "\n",
    "*Alternativa 2:*\n",
    "\n",
    "Separar los datos en categorías, una para propinas regulares y otra para las especiales o corporativas"
   ]
  },
  {
   "cell_type": "markdown",
   "metadata": {},
   "source": [
    "### Ejercicio 14: Comparación práctica\n",
    "\n",
    "**Tareas:**\n",
    "- Calcula la media de propinas (con todos los datos)\n",
    "- Calcula la media de propinas excluyendo las que son mayores a $100\n",
    "- Calcula la mediana de propinas\n",
    "- ¿Cuál de estas tres métricas usarías para reportar la \"propina típica\"? Justifica."
   ]
  },
  {
   "cell_type": "code",
   "execution_count": 39,
   "metadata": {},
   "outputs": [
    {
     "name": "stdout",
     "output_type": "stream",
     "text": [
      "Media (todos los datos): 18.740625\n"
     ]
    }
   ],
   "source": [
    "# Media con todos los datos\n",
    "print(f\"Media (todos los datos): {df['propina'].mean()}\")"
   ]
  },
  {
   "cell_type": "code",
   "execution_count": 40,
   "metadata": {},
   "outputs": [
    {
     "name": "stdout",
     "output_type": "stream",
     "text": [
      "Media (excluyendo valores > $100): 3.8365384615384617\n"
     ]
    }
   ],
   "source": [
    "# Media sin propinas > $100\n",
    "print(f\"Media (excluyendo valores > $100): {df[df['propina'] < 100]['propina'].mean()}\")"
   ]
  },
  {
   "cell_type": "code",
   "execution_count": 41,
   "metadata": {},
   "outputs": [
    {
     "name": "stdout",
     "output_type": "stream",
     "text": [
      "Mediana: 3.5\n"
     ]
    }
   ],
   "source": [
    "# Mediana\n",
    "print(f\"Mediana: {df['propina'].median()}\")"
   ]
  },
  {
   "cell_type": "markdown",
   "metadata": {},
   "source": [
    "**¿Cuál métrica usarías y por qué?**\n",
    "\n",
    "*Tu respuesta:*\n",
    "\n",
    "Usaría la métrica donde se excluyen los datos mayores a $100, porque es un valor que mejor se ajusta para el tipo de análisis a realizar"
   ]
  },
  {
   "cell_type": "markdown",
   "metadata": {},
   "source": [
    "---\n",
    "## BLOQUE 9: Desafíos Integrados"
   ]
  },
  {
   "cell_type": "markdown",
   "metadata": {},
   "source": [
    "### Ejercicio 15: Análisis de zonas rentables\n",
    "\n",
    "**Tareas:**\n",
    "- ¿Qué zona tiene el monto promedio de pedido más alto?\n",
    "- De esa zona, ¿cuál es el tipo de comida más pedido?\n",
    "- ¿Cuánto fue el total recaudado (monto + propina) en esa zona?"
   ]
  },
  {
   "cell_type": "code",
   "execution_count": 60,
   "metadata": {},
   "outputs": [
    {
     "data": {
      "text/plain": [
       "zona\n",
       "Norte    74.303571\n",
       "Name: monto, dtype: float64"
      ]
     },
     "execution_count": 60,
     "metadata": {},
     "output_type": "execute_result"
    }
   ],
   "source": [
    "# Zona con mayor monto promedio\n",
    "df.groupby('zona')['monto'].mean().sort_values(ascending=False).head(1)"
   ]
  },
  {
   "cell_type": "code",
   "execution_count": 81,
   "metadata": {},
   "outputs": [
    {
     "data": {
      "text/plain": [
       "tipo_comida\n",
       "Pizza    11\n",
       "Name: id_pedido, dtype: int64"
      ]
     },
     "execution_count": 81,
     "metadata": {},
     "output_type": "execute_result"
    }
   ],
   "source": [
    "# Tipo de comida más pedido en esa zona\n",
    "df_zona_norte = df[df['zona'] == 'Norte']\n",
    "df_zona_norte.groupby('tipo_comida')['id_pedido'].count().sort_values(ascending=False).head(1)"
   ]
  },
  {
   "cell_type": "code",
   "execution_count": 83,
   "metadata": {},
   "outputs": [
    {
     "name": "stdout",
     "output_type": "stream",
     "text": [
      "Total recaudado zona norte (monto + propina): 3375.0\n"
     ]
    }
   ],
   "source": [
    "# Total recaudado en esa zona\n",
    "print(f\"Total recaudado zona norte (monto + propina): {df_zona_norte['monto'].sum() + df_zona_norte['propina'].sum()}\")"
   ]
  },
  {
   "cell_type": "markdown",
   "metadata": {},
   "source": [
    "### Ejercicio 16: Comparativa saludable vs rápida\n",
    "\n",
    "**Tareas:**\n",
    "- Compara el ticket promedio (monto) de Ensalada vs Pizza\n",
    "- ¿Cuál genera más propina en promedio?\n",
    "- ¿En qué zona se piden más Ensaladas?"
   ]
  },
  {
   "cell_type": "code",
   "execution_count": 84,
   "metadata": {},
   "outputs": [
    {
     "data": {
      "text/plain": [
       "array(['Hamburguesa', 'Pizza', 'Sushi', 'Ensalada'], dtype=object)"
      ]
     },
     "execution_count": 84,
     "metadata": {},
     "output_type": "execute_result"
    }
   ],
   "source": [
    "df['tipo_comida'].unique()"
   ]
  },
  {
   "cell_type": "code",
   "execution_count": 102,
   "metadata": {},
   "outputs": [
    {
     "name": "stdout",
     "output_type": "stream",
     "text": [
      "El ticket promedio de pizza es mayor al de ensalada, con un promedio de: $50.231\n",
      "--> Promedio de Ensalada: $24.481\n"
     ]
    }
   ],
   "source": [
    "# Ticket promedio Ensalada vs Pizza\n",
    "promedio_ensalada = df[df['tipo_comida'] == 'Ensalada']['monto'].mean()\n",
    "promedio_pizza = df[df['tipo_comida'] == 'Pizza']['monto'].mean()\n",
    "\n",
    "if promedio_pizza > promedio_ensalada:\n",
    "    print(f\"El ticket promedio de pizza es mayor al de ensalada, con un promedio de: ${promedio_pizza.round(3)}\")\n",
    "    print(f\"--> Promedio de Ensalada: ${promedio_ensalada.round(3)}\")\n",
    "else:\n",
    "    print(f\"El ticket promedio de ensalada es mayor al de pizza, con un promedio de: ${promedio_ensalada.round(3)}\")\n",
    "    print(f\"--> Promedio de Pizza: ${promedio_pizza.round(3)}\")"
   ]
  },
  {
   "cell_type": "code",
   "execution_count": 109,
   "metadata": {},
   "outputs": [
    {
     "data": {
      "text/html": [
       "<div>\n",
       "<style scoped>\n",
       "    .dataframe tbody tr th:only-of-type {\n",
       "        vertical-align: middle;\n",
       "    }\n",
       "\n",
       "    .dataframe tbody tr th {\n",
       "        vertical-align: top;\n",
       "    }\n",
       "\n",
       "    .dataframe thead th {\n",
       "        text-align: right;\n",
       "    }\n",
       "</style>\n",
       "<table border=\"1\" class=\"dataframe\">\n",
       "  <thead>\n",
       "    <tr style=\"text-align: right;\">\n",
       "      <th></th>\n",
       "      <th>tipo_comida</th>\n",
       "      <th>promedio</th>\n",
       "    </tr>\n",
       "  </thead>\n",
       "  <tbody>\n",
       "    <tr>\n",
       "      <th>0</th>\n",
       "      <td>Ensalada</td>\n",
       "      <td>3.865</td>\n",
       "    </tr>\n",
       "    <tr>\n",
       "      <th>1</th>\n",
       "      <td>Hamburguesa</td>\n",
       "      <td>32.000</td>\n",
       "    </tr>\n",
       "    <tr>\n",
       "      <th>2</th>\n",
       "      <td>Pizza</td>\n",
       "      <td>23.413</td>\n",
       "    </tr>\n",
       "    <tr>\n",
       "      <th>3</th>\n",
       "      <td>Sushi</td>\n",
       "      <td>5.792</td>\n",
       "    </tr>\n",
       "  </tbody>\n",
       "</table>\n",
       "</div>"
      ],
      "text/plain": [
       "   tipo_comida  promedio\n",
       "0     Ensalada     3.865\n",
       "1  Hamburguesa    32.000\n",
       "2        Pizza    23.413\n",
       "3        Sushi     5.792"
      ]
     },
     "execution_count": 109,
     "metadata": {},
     "output_type": "execute_result"
    }
   ],
   "source": [
    "# Propina promedio por tipo\n",
    "df.groupby('tipo_comida')['propina'].mean().round(3).reset_index(name=\"promedio\")"
   ]
  },
  {
   "cell_type": "code",
   "execution_count": 114,
   "metadata": {},
   "outputs": [
    {
     "data": {
      "text/plain": [
       "zona\n",
       "Este    5\n",
       "Name: id_pedido, dtype: int64"
      ]
     },
     "execution_count": 114,
     "metadata": {},
     "output_type": "execute_result"
    }
   ],
   "source": [
    "# Zona con más pedidos de Ensalada\n",
    "df_filtrado_ensalada = df[df['tipo_comida'] == 'Ensalada']\n",
    "df_filtrado_ensalada.groupby('zona')['id_pedido'].count().sort_values(ascending=False).head(1)"
   ]
  },
  {
   "cell_type": "markdown",
   "metadata": {},
   "source": [
    "### Ejercicio 17: El mejor repartidor de la zona Sur\n",
    "\n",
    "**Tareas:**\n",
    "- Filtra solo entregas de la zona Sur\n",
    "- Encuentra el repartidor con más entregas\n",
    "- Calcula cuánto ganó ese repartidor en total (suma de montos + propinas)"
   ]
  },
  {
   "cell_type": "code",
   "execution_count": 115,
   "metadata": {},
   "outputs": [
    {
     "data": {
      "text/html": [
       "<div>\n",
       "<style scoped>\n",
       "    .dataframe tbody tr th:only-of-type {\n",
       "        vertical-align: middle;\n",
       "    }\n",
       "\n",
       "    .dataframe tbody tr th {\n",
       "        vertical-align: top;\n",
       "    }\n",
       "\n",
       "    .dataframe thead th {\n",
       "        text-align: right;\n",
       "    }\n",
       "</style>\n",
       "<table border=\"1\" class=\"dataframe\">\n",
       "  <thead>\n",
       "    <tr style=\"text-align: right;\">\n",
       "      <th></th>\n",
       "      <th>id_pedido</th>\n",
       "      <th>repartidor_id</th>\n",
       "      <th>nombre_repartidor</th>\n",
       "      <th>zona</th>\n",
       "      <th>tipo_comida</th>\n",
       "      <th>monto</th>\n",
       "      <th>propina</th>\n",
       "      <th>fecha_entrega</th>\n",
       "    </tr>\n",
       "  </thead>\n",
       "  <tbody>\n",
       "    <tr>\n",
       "      <th>46</th>\n",
       "      <td>P047</td>\n",
       "      <td>REP02</td>\n",
       "      <td>Ana Rodríguez</td>\n",
       "      <td>Sur</td>\n",
       "      <td>Sushi</td>\n",
       "      <td>47.0</td>\n",
       "      <td>5.50</td>\n",
       "      <td>2025-04-27</td>\n",
       "    </tr>\n",
       "    <tr>\n",
       "      <th>28</th>\n",
       "      <td>P029</td>\n",
       "      <td>REP02</td>\n",
       "      <td>Ana Rodríguez</td>\n",
       "      <td>Sur</td>\n",
       "      <td>Sushi</td>\n",
       "      <td>46.0</td>\n",
       "      <td>5.25</td>\n",
       "      <td>2025-04-22</td>\n",
       "    </tr>\n",
       "    <tr>\n",
       "      <th>76</th>\n",
       "      <td>P077</td>\n",
       "      <td>REP02</td>\n",
       "      <td>Ana Rodríguez</td>\n",
       "      <td>Sur</td>\n",
       "      <td>Sushi</td>\n",
       "      <td>45.5</td>\n",
       "      <td>5.25</td>\n",
       "      <td>2025-05-07</td>\n",
       "    </tr>\n",
       "    <tr>\n",
       "      <th>1</th>\n",
       "      <td>P002</td>\n",
       "      <td>REP02</td>\n",
       "      <td>Ana Rodríguez</td>\n",
       "      <td>Sur</td>\n",
       "      <td>Sushi</td>\n",
       "      <td>45.0</td>\n",
       "      <td>5.00</td>\n",
       "      <td>2025-04-15</td>\n",
       "    </tr>\n",
       "    <tr>\n",
       "      <th>10</th>\n",
       "      <td>P011</td>\n",
       "      <td>REP02</td>\n",
       "      <td>Ana Rodríguez</td>\n",
       "      <td>Sur</td>\n",
       "      <td>Pizza</td>\n",
       "      <td>31.0</td>\n",
       "      <td>3.75</td>\n",
       "      <td>2025-04-17</td>\n",
       "    </tr>\n",
       "  </tbody>\n",
       "</table>\n",
       "</div>"
      ],
      "text/plain": [
       "   id_pedido repartidor_id nombre_repartidor zona tipo_comida  monto  propina  \\\n",
       "46      P047         REP02     Ana Rodríguez  Sur       Sushi   47.0     5.50   \n",
       "28      P029         REP02     Ana Rodríguez  Sur       Sushi   46.0     5.25   \n",
       "76      P077         REP02     Ana Rodríguez  Sur       Sushi   45.5     5.25   \n",
       "1       P002         REP02     Ana Rodríguez  Sur       Sushi   45.0     5.00   \n",
       "10      P011         REP02     Ana Rodríguez  Sur       Pizza   31.0     3.75   \n",
       "\n",
       "   fecha_entrega  \n",
       "46    2025-04-27  \n",
       "28    2025-04-22  \n",
       "76    2025-05-07  \n",
       "1     2025-04-15  \n",
       "10    2025-04-17  "
      ]
     },
     "execution_count": 115,
     "metadata": {},
     "output_type": "execute_result"
    }
   ],
   "source": [
    "# Filtrar zona Sur\n",
    "df_filtrado_sur = df[df['zona'] == 'Sur']\n",
    "df_filtrado_sur.head()"
   ]
  },
  {
   "cell_type": "code",
   "execution_count": 162,
   "metadata": {},
   "outputs": [
    {
     "data": {
      "text/html": [
       "<div>\n",
       "<style scoped>\n",
       "    .dataframe tbody tr th:only-of-type {\n",
       "        vertical-align: middle;\n",
       "    }\n",
       "\n",
       "    .dataframe tbody tr th {\n",
       "        vertical-align: top;\n",
       "    }\n",
       "\n",
       "    .dataframe thead th {\n",
       "        text-align: right;\n",
       "    }\n",
       "</style>\n",
       "<table border=\"1\" class=\"dataframe\">\n",
       "  <thead>\n",
       "    <tr style=\"text-align: right;\">\n",
       "      <th></th>\n",
       "      <th>repartidor_id</th>\n",
       "      <th>nombre_repartidor</th>\n",
       "      <th>entregas</th>\n",
       "    </tr>\n",
       "  </thead>\n",
       "  <tbody>\n",
       "    <tr>\n",
       "      <th>0</th>\n",
       "      <td>REP02</td>\n",
       "      <td>Ana Rodríguez</td>\n",
       "      <td>14</td>\n",
       "    </tr>\n",
       "  </tbody>\n",
       "</table>\n",
       "</div>"
      ],
      "text/plain": [
       "  repartidor_id nombre_repartidor  entregas\n",
       "0         REP02     Ana Rodríguez        14"
      ]
     },
     "execution_count": 162,
     "metadata": {},
     "output_type": "execute_result"
    }
   ],
   "source": [
    "# Repartidor con más entregas en la zona Sur\n",
    "df_repartidor_mas_entregas_sur = df_filtrado_sur.groupby(['repartidor_id', 'nombre_repartidor'])['id_pedido'].count().reset_index(name=\"entregas\").sort_values(by='entregas', ascending=False).head(1)\n",
    "df_repartidor_mas_entregas_sur"
   ]
  },
  {
   "cell_type": "code",
   "execution_count": 192,
   "metadata": {},
   "outputs": [
    {
     "name": "stdout",
     "output_type": "stream",
     "text": [
      "Ganacia total (monto + propinas) repartidor Ana Rodríguez: $487.0\n"
     ]
    }
   ],
   "source": [
    "# Total ganado por ese repartidor\n",
    "repartidor_id = df_repartidor_mas_entregas_sur['repartidor_id'].iloc[0]\n",
    "pedidos = df_filtrado_sur[df_filtrado_sur['repartidor_id'] == repartidor_id]\n",
    "\n",
    "monto_total = pedidos['monto'].sum()\n",
    "propina_total = pedidos['propina'].sum()\n",
    "\n",
    "print(f\"Ganacia total (monto + propinas) repartidor {df_repartidor_mas_entregas_sur['nombre_repartidor'].iloc[0]}: ${monto_total + propina_total}\")"
   ]
  },
  {
   "cell_type": "markdown",
   "metadata": {},
   "source": [
    "---\n",
    "## BLOQUE 10: Reflexión Final"
   ]
  },
  {
   "cell_type": "markdown",
   "metadata": {},
   "source": [
    "### Ejercicio 18: Pregunta de aplicación\n",
    "\n",
    "Si tú fueras gerente de FastEats y pudieras hacer SOLO 3 análisis adicionales con estos datos para tomar decisiones de negocio, ¿cuáles harías?\n",
    "\n",
    "**Análisis 1:** Análisis temporal de demanda por tipo de comida y zona usando `fecha_entrega`\n",
    "\n",
    "**¿Por qué este análisis?:** \n",
    "\n",
    "Permitiría identificar patrones de demanda (días/horas pico) para optimizar la asignación de repartidores por zona y tipo de comida. Esto mejoraría los tiempos de entrega y reduciría costos operativos al tener personal disponible cuando realmente se necesita.\n",
    "\n",
    "---\n",
    "\n",
    "**Análisis 2:** Relación entre el monto del pedido y la propina recibida por zona\n",
    "\n",
    "**¿Por qué este análisis?:** \n",
    "\n",
    "Ayudaría a entender el comportamiento de propinas según el valor del pedido y la zona. Esto permite identificar zonas más \"generosas\" para incentivar a repartidores, y detectar si pedidos de mayor valor generan propinas proporcionalmente mayores\n",
    "\n",
    "---\n",
    "\n",
    "**Análisis 3:** Eficiencia de repartidores: ratio de propina promedio vs número de entregas realizadas\n",
    "\n",
    "**¿Por qué este análisis?:** \n",
    "\n",
    "Identificaría a los repartidores que no solo hacen muchas entregas, sino que además reciben mejores propinas (indicador de calidad del servicio). Esto permite reconocer y replicar las mejores prácticas, además de diseñar programas de capacitación enfocados en mejorar la experiencia del cliente."
   ]
  }
 ],
 "metadata": {
  "kernelspec": {
   "display_name": "Python 3",
   "language": "python",
   "name": "python3"
  },
  "language_info": {
   "codemirror_mode": {
    "name": "ipython",
    "version": 3
   },
   "file_extension": ".py",
   "mimetype": "text/x-python",
   "name": "python",
   "nbconvert_exporter": "python",
   "pygments_lexer": "ipython3",
   "version": "3.13.7"
  }
 },
 "nbformat": 4,
 "nbformat_minor": 4
}

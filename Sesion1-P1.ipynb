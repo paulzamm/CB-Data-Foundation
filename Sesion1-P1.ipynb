{
 "cells": [
  {
   "cell_type": "markdown",
   "id": "22345447",
   "metadata": {},
   "source": [
    "# Actividad 1"
   ]
  },
  {
   "cell_type": "markdown",
   "id": "7972e622",
   "metadata": {},
   "source": [
    "### Ejercicio 1:"
   ]
  },
  {
   "cell_type": "markdown",
   "id": "ced04eb5",
   "metadata": {},
   "source": [
    "Crea un programa que solicite el nombre al usuario y que cuente los caracteres del nombre. Imprime los resultados"
   ]
  },
  {
   "cell_type": "code",
   "execution_count": 1,
   "id": "4aa6dce8",
   "metadata": {},
   "outputs": [
    {
     "name": "stdout",
     "output_type": "stream",
     "text": [
      "El nombre 'John Doe' tiene 8 caracteres.\n"
     ]
    }
   ],
   "source": [
    "nombre = input(\"¿Cuál es tu nombre? \")\n",
    "\n",
    "print(f\"El nombre '{nombre}' tiene {len(nombre)} caracteres.\")"
   ]
  },
  {
   "cell_type": "markdown",
   "id": "4a820f44",
   "metadata": {},
   "source": [
    "### Ejercicio 2: Analizando una Frase"
   ]
  },
  {
   "cell_type": "markdown",
   "id": "5c3a923d",
   "metadata": {},
   "source": [
    "1. Crear la Variable Principal:\n",
    "\n",
    "    - Crea una variable llamada frase_inspiradora.\n",
    "    - Asígnale el siguiente texto: \"Cada error es solo un paso más cerca de la solución correcta.\"\n",
    "\n",
    "2. Calcular el Número de Palabras:\n",
    "    - Calcula cuántas palabras contiene la frase_inspiradora.\n",
    "    - Guarda el resultado en una variable llamada numero_de_palabras.\n",
    "    - Pista: Necesitarás usar el método .split() y luego la función len().\n",
    "\n",
    "3. Encontrar la Posición de una Palabra:\n",
    "    - Encuentra la posición (el índice) donde comienza la palabra \"solución\".\n",
    "    - Guarda este número en una variable llamada posicion_solucion.\n",
    "    - Pista: Usa el método .find() sobre la frase.\n",
    "\n",
    "4. Mostrar los resultados:\n",
    "    - Imprime todos los resultados en la consola de una manera ordenada y fácil de leer."
   ]
  },
  {
   "cell_type": "code",
   "execution_count": 16,
   "id": "2ba65504",
   "metadata": {},
   "outputs": [
    {
     "name": "stdout",
     "output_type": "stream",
     "text": [
      "La frase 'Cada error es solo un paso más cerca de la solución correcta.' tiene un total de 12 palabras.\n",
      "La palabra 'solución' se encuentra en la posición: 43\n"
     ]
    }
   ],
   "source": [
    "frase_inspiradora = \"Cada error es solo un paso más cerca de la solución correcta.\"\n",
    "\n",
    "numero_de_palabras = len(frase_inspiradora.split(\" \"))\n",
    "\n",
    "print(f\"La frase '{frase_inspiradora}' tiene un total de {numero_de_palabras} palabras.\")\n",
    "\n",
    "posicion_solucion = frase_inspiradora.find(\"solución\")\n",
    "print(f\"La palabra 'solución' se encuentra en la posición: {posicion_solucion}\")"
   ]
  },
  {
   "cell_type": "markdown",
   "id": "9bcd3a97",
   "metadata": {},
   "source": [
    "### Ejercicio 3: Conteo"
   ]
  },
  {
   "cell_type": "markdown",
   "id": "43d3e21a",
   "metadata": {},
   "source": [
    "1. Define una variable texto con la frase: \"El perro es un animal leal. El perro es el mejor amigo del hombre.\"Usa count() para contar cuántas veces aparece la palabra \"perro\" en el texto."
   ]
  },
  {
   "cell_type": "code",
   "execution_count": 22,
   "id": "3e4ec752",
   "metadata": {},
   "outputs": [
    {
     "name": "stdout",
     "output_type": "stream",
     "text": [
      "La palabra 'perro' se repite 1 veces.\n"
     ]
    }
   ],
   "source": [
    "frase = \"El perro es un animal leal.\"\n",
    "counts = frase.count(\"perro\")\n",
    "print(f\"La palabra 'perro' se repite {counts} veces.\")"
   ]
  },
  {
   "cell_type": "markdown",
   "id": "954c3611",
   "metadata": {},
   "source": [
    "# Actividad 2"
   ]
  },
  {
   "cell_type": "markdown",
   "id": "a64b5db4",
   "metadata": {},
   "source": [
    "### Ejercicio 4:"
   ]
  },
  {
   "cell_type": "markdown",
   "id": "6f7f38cc",
   "metadata": {},
   "source": [
    "1. Define las Variables Iniciales:\n",
    "\n",
    "    - Crea una variable dinero_total y asígnale el valor 50.\n",
    "    - Crea una variable precio_articulo y asígnale el valor 8.\n",
    "\n",
    "2. Realiza los Cálculos:\n",
    "    - Calcula la cantidad de artículos: Crea una variable cantidad_posible y usa la división entera (//) para determinar cuántos artículos completos puedes comprar con tu dinero_total.\n",
    "    - Calcula el costo total: Crea una variable costo_total y usa la multiplicación (*) para saber cuánto gastarías en total por la cantidad_posible de artículos.\n",
    "    - Calcula el dinero sobrante: Crea una variable dinero_sobrante y usa el módulo (%) para averiguar cuánto dinero te quedará después de la compra.\n",
    "\n",
    "3. Muestra los Resultados:\n",
    "    - Imprime los resultados de forma clara y ordenada para que se vea como en el siguiente ejemplo."
   ]
  },
  {
   "cell_type": "code",
   "execution_count": 30,
   "id": "f1244093",
   "metadata": {},
   "outputs": [
    {
     "name": "stdout",
     "output_type": "stream",
     "text": [
      "Dinero total: 50, precio del artículo: 8\n",
      "Cantidad posibles: 6, con un costo total de: 48, dinero sobrante: 2\n"
     ]
    }
   ],
   "source": [
    "dinero_total = 50\n",
    "precio_articulo = 8\n",
    "cantidad_posible = dinero_total // precio_articulo  # Cociente de una división (cuántas veces completo cabe)\n",
    "costo_total = 8 * cantidad_posible\n",
    "dinero_sobrante = 50 % costo_total  # Residuo de una división\n",
    "\n",
    "print(f\"Dinero total: {dinero_total}, precio del artículo: {precio_articulo}\")\n",
    "print(f\"Cantidad posibles: {cantidad_posible}, con un costo total de: {costo_total}, dinero sobrante: {dinero_sobrante}\")"
   ]
  },
  {
   "cell_type": "markdown",
   "id": "67e52b13",
   "metadata": {},
   "source": [
    "### Ejercicio 5:"
   ]
  },
  {
   "cell_type": "markdown",
   "id": "bf468e48",
   "metadata": {},
   "source": [
    "1. Define las Variables Iniciales:\n",
    "    - Crea una variable minutos_tarea_1 y asígnale 75.\n",
    "    - Crea una variable minutos_tarea_2 y asígnale 45.\n",
    "\n",
    "2. Realiza los Cálculos:\n",
    "    - Calcula el total de minutos: Crea una variable total_minutos y usa la suma (+) para combinar el tiempo de ambas tareas.\n",
    "    - Calcula las horas completas: Crea una variable horas y usa la división entera (//) para convertir el total_minutos a horas. (Recuerda que una hora tiene 60 minutos).\n",
    "    - Calcula los minutos restantes: Crea una variable minutos_restantes y usa el módulo (%) para encontrar los minutos que sobran después de calcular las horas completas.\n",
    "\n",
    "3. Muestra los Resultados: Imprime el tiempo total en minutos y su equivalencia en horas y minutos."
   ]
  },
  {
   "cell_type": "code",
   "execution_count": 42,
   "id": "3cc2012a",
   "metadata": {},
   "outputs": [
    {
     "name": "stdout",
     "output_type": "stream",
     "text": [
      "Tiempo total en minutos: 120, equivale a 2 horas con 0 minutos restantes.\n"
     ]
    }
   ],
   "source": [
    "minutos_tarea_1 = 75\n",
    "minutos_tarea_2 = 45\n",
    "\n",
    "total_minutos = minutos_tarea_1 + minutos_tarea_2\n",
    "horas_completas = total_minutos // 60\n",
    "minutos_restantes = total_minutos % horas_completas\n",
    "\n",
    "print(f\"Tiempo total en minutos: {total_minutos}, equivale a {horas_completas} horas con {minutos_restantes} minutos restantes.\")"
   ]
  },
  {
   "cell_type": "markdown",
   "id": "2b07d14d",
   "metadata": {},
   "source": [
    "### Ejercicio 6:"
   ]
  },
  {
   "cell_type": "markdown",
   "id": "bfa6cdda",
   "metadata": {},
   "source": [
    "1. Define las Variables Iniciales:\n",
    "    - invitados_totales = 113\n",
    "    - invitados_cancelaron = 10\n",
    "    - capacidad_por_mesa = 8\n",
    "\n",
    "2. Realiza los Cálculos:\n",
    "    - Calcula los asistentes reales: Crea una variable invitados_asistentes y usa la resta (-) para obtener el número final de invitados.\n",
    "    - Calcula las mesas llenas: Crea una variable mesas_llenas y usa la división entera (//) para saber cuántas mesas estarán completamente ocupadas.\n",
    "    - Calcula las personas en la última mesa: Crea una variable personas_ultima_mesa y usa el módulo (%) para determinar cuántos invitados sobrantes habrá para la última mesa.\n",
    "\n",
    "3. Muestra los Resultados:\n",
    "    - Imprime un resumen claro de la organización de las mesas."
   ]
  },
  {
   "cell_type": "code",
   "execution_count": 62,
   "id": "6bd66c64",
   "metadata": {},
   "outputs": [
    {
     "name": "stdout",
     "output_type": "stream",
     "text": [
      "Hay 103 invitados asistentes, en la cual las mesas tienen capacidad para 8 personas.\n",
      "Se llenaron 12 mesas, con un total de 7 personas restantes para la última mesa.\n"
     ]
    }
   ],
   "source": [
    "invitados_totales = 113\n",
    "invitados_cancelaron = 10\n",
    "capacidad_por_mesa = 8\n",
    "\n",
    "invitados_asistentes = invitados_totales - invitados_cancelaron\n",
    "mesas_llenas = invitados_asistentes // capacidad_por_mesa\n",
    "personas_ultima_mesa = invitados_asistentes % mesas_llenas\n",
    "\n",
    "print(f\"Hay {invitados_asistentes} invitados asistentes, en la cual las mesas tienen capacidad para {capacidad_por_mesa} personas.\")\n",
    "print(f\"Se llenaron {mesas_llenas} mesas, con un total de {personas_ultima_mesa} personas restantes para la última mesa.\")"
   ]
  }
 ],
 "metadata": {
  "kernelspec": {
   "display_name": "Python 3",
   "language": "python",
   "name": "python3"
  },
  "language_info": {
   "codemirror_mode": {
    "name": "ipython",
    "version": 3
   },
   "file_extension": ".py",
   "mimetype": "text/x-python",
   "name": "python",
   "nbconvert_exporter": "python",
   "pygments_lexer": "ipython3",
   "version": "3.13.7"
  }
 },
 "nbformat": 4,
 "nbformat_minor": 5
}

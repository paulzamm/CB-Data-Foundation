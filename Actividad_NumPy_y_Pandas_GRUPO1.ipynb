{
  "cells": [
    {
      "cell_type": "code",
      "execution_count": 10,
      "id": "69d38e98",
      "metadata": {},
      "outputs": [],
      "source": [
        "#!pip install numpy"
      ]
    },
    {
      "cell_type": "markdown",
      "metadata": {},
      "source": [
        "# 🧩 Actividad práctica: NumPy y Pandas\n",
        "Este notebook incluye ejercicios básicos de **NumPy** y **Pandas** para practicar el análisis de datos."
      ]
    },
    {
      "cell_type": "markdown",
      "metadata": {},
      "source": [
        "## 📊 Parte 1: NumPy - Operaciones básicas"
      ]
    },
    {
      "cell_type": "markdown",
      "metadata": {},
      "source": [
        "### 1️⃣ Crear un array NumPy con 10 números enteros"
      ]
    },
    {
      "cell_type": "code",
      "execution_count": 51,
      "metadata": {},
      "outputs": [
        {
          "name": "stdout",
          "output_type": "stream",
          "text": [
            "[25  4 18 20  1 12 14  9  6  8]\n",
            "[[1 2 3]\n",
            " [4 5 6]]\n"
          ]
        }
      ],
      "source": [
        "import numpy as np\n",
        "\n",
        "array = np.array([25, 4, 18, 20, 1, 12, 14, 9, 6, 8])\n",
        "array_2d = np.array(\n",
        "    [\n",
        "        [1, 2, 3],\n",
        "        [4, 5, 6,]\n",
        "    ]\n",
        ")\n",
        "print(array)\n",
        "print(array_2d)"
      ]
    },
    {
      "cell_type": "markdown",
      "metadata": {},
      "source": [
        "### 2️⃣ Mostrar las propiedades del array: dimensión, tipo de dato y forma"
      ]
    },
    {
      "cell_type": "code",
      "execution_count": 76,
      "metadata": {},
      "outputs": [
        {
          "name": "stdout",
          "output_type": "stream",
          "text": [
            "Propiedades del Array:\n",
            "Dimensión:  1\n",
            "Tipo de dato:  int64\n",
            "Forma:  (10,)\n",
            "Tamaño:  10\n",
            "Dimension 2d: 2\n",
            "Forma 2d:  (2, 3)\n",
            "Tamaño 2d:  6\n"
          ]
        }
      ],
      "source": [
        "print(\"Propiedades del Array:\")\n",
        "print(\"Dimensión: \", array.ndim)\n",
        "print(\"Tipo de dato: \", array.dtype)\n",
        "print(\"Forma: \", array.shape)\n",
        "print(\"Tamaño: \", array.size)\n",
        "print(\"Dimension 2d:\", array_2d.ndim)\n",
        "# (Cantidad dimensiones, Cantidad de elementos por cada dimensión)\n",
        "print(\"Forma 2d: \", array_2d.shape)\n",
        "print(\"Tamaño 2d: \", array_2d.size)"
      ]
    },
    {
      "cell_type": "markdown",
      "metadata": {},
      "source": [
        "### 3️⃣ Ordenar los valores del array"
      ]
    },
    {
      "cell_type": "code",
      "execution_count": 56,
      "metadata": {},
      "outputs": [
        {
          "name": "stdout",
          "output_type": "stream",
          "text": [
            "[ 1  4  6  8  9 12 14 18 20 25]\n"
          ]
        }
      ],
      "source": [
        "array.sort()  # in place, modifica la variable ya existente (no devuelve un resultado)\n",
        "print(array)"
      ]
    },
    {
      "cell_type": "markdown",
      "metadata": {},
      "source": [
        "### 4️⃣ Calcular el promedio del array"
      ]
    },
    {
      "cell_type": "code",
      "execution_count": 59,
      "metadata": {},
      "outputs": [
        {
          "name": "stdout",
          "output_type": "stream",
          "text": [
            "Promedio:  11.7\n"
          ]
        }
      ],
      "source": [
        "promedio = array.mean()\n",
        "print(\"Promedio: \", promedio)"
      ]
    },
    {
      "cell_type": "markdown",
      "metadata": {},
      "source": [
        "### 5️⃣ Mostrar el valor máximo y el valor mínimo"
      ]
    },
    {
      "cell_type": "code",
      "execution_count": 63,
      "metadata": {},
      "outputs": [
        {
          "name": "stdout",
          "output_type": "stream",
          "text": [
            "Valor máximo:  25\n",
            "Valor mínimo:  1\n"
          ]
        }
      ],
      "source": [
        "maximo = array.max()\n",
        "minimo = array.min()\n",
        "print(\"Valor máximo: \", maximo)\n",
        "print(\"Valor mínimo: \", minimo)"
      ]
    },
    {
      "cell_type": "code",
      "execution_count": 72,
      "id": "fdf092ed",
      "metadata": {},
      "outputs": [
        {
          "name": "stdout",
          "output_type": "stream",
          "text": [
            "1\n",
            "(4,)\n",
            "float64\n"
          ]
        }
      ],
      "source": [
        "array_decimales = np.array([11.5, 55.26, 89.9, 14.5])\n",
        "print(array_decimales.ndim)\n",
        "print(array_decimales.shape)\n",
        "print(array_decimales.dtype)"
      ]
    },
    {
      "cell_type": "code",
      "execution_count": 71,
      "id": "c3c62877",
      "metadata": {},
      "outputs": [
        {
          "name": "stdout",
          "output_type": "stream",
          "text": [
            "Array decimales:  [11.5  55.26 89.9  14.5 ]\n",
            "Array redondeado:  [12. 55. 90. 14.]\n"
          ]
        }
      ],
      "source": [
        "# Redondear decimales\n",
        "array_round = array_decimales.round()\n",
        "print(\"Array decimales: \", array_decimales)\n",
        "print(\"Array redondeado: \", array_round)"
      ]
    },
    {
      "cell_type": "code",
      "execution_count": 77,
      "id": "08871256",
      "metadata": {},
      "outputs": [
        {
          "name": "stdout",
          "output_type": "stream",
          "text": [
            "Array redondeado a 1 decimal:  [11.6 55.3 90.  14.5]\n"
          ]
        }
      ],
      "source": [
        "array_decimales = np.array([11.568, 55.2699, 89.95, 14.511])\n",
        "array_round_1 = array_decimales.round(1)\n",
        "print(\"Array redondeado a 1 decimal: \", array_round_1)"
      ]
    },
    {
      "cell_type": "markdown",
      "metadata": {},
      "source": [
        "## 🐼 Parte 2: Pandas - Dataset *tips*"
      ]
    },
    {
      "cell_type": "markdown",
      "metadata": {},
      "source": [
        "Usaremos el dataset **tips** de la librería `seaborn`. Este conjunto contiene datos sobre propinas en un restaurante."
      ]
    },
    {
      "cell_type": "code",
      "execution_count": null,
      "metadata": {},
      "outputs": [],
      "source": [
        "import pandas as pd\n",
        "import seaborn as sns\n",
        "\n",
        "tips = sns.load_dataset('tips')"
      ]
    },
    {
      "cell_type": "markdown",
      "metadata": {},
      "source": [
        "### 1️⃣ Mostrar las primeras 3 filas del dataset"
      ]
    },
    {
      "cell_type": "code",
      "execution_count": null,
      "metadata": {},
      "outputs": [],
      "source": [
        "# Tu código aquí 👇\n"
      ]
    },
    {
      "cell_type": "markdown",
      "metadata": {},
      "source": [
        "### 2️⃣ Mostrar las últimas 5 filas del dataset"
      ]
    },
    {
      "cell_type": "code",
      "execution_count": null,
      "metadata": {},
      "outputs": [],
      "source": [
        "# Tu código aquí 👇\n"
      ]
    },
    {
      "cell_type": "markdown",
      "metadata": {},
      "source": [
        "### 3️⃣ Calcular la sumatoria total de la columna `tip` (propina)"
      ]
    },
    {
      "cell_type": "code",
      "execution_count": null,
      "metadata": {},
      "outputs": [],
      "source": [
        "# Tu código aquí 👇\n"
      ]
    },
    {
      "cell_type": "markdown",
      "metadata": {},
      "source": [
        "### 4️⃣ Calcular el promedio de la cuenta (`total_bill`) de los hombres"
      ]
    },
    {
      "cell_type": "code",
      "execution_count": null,
      "metadata": {},
      "outputs": [],
      "source": [
        "# Tu código aquí 👇\n"
      ]
    },
    {
      "cell_type": "markdown",
      "metadata": {},
      "source": [
        "### 5️⃣ Calcular el promedio de la cuenta (`total_bill`) de las mujeres"
      ]
    },
    {
      "cell_type": "code",
      "execution_count": null,
      "metadata": {},
      "outputs": [],
      "source": [
        "# Tu código aquí 👇\n"
      ]
    },
    {
      "cell_type": "markdown",
      "metadata": {},
      "source": [
        "### 6️⃣ Calcular el promedio de la cuenta (`total_bill`) de mujeres fumadoras"
      ]
    },
    {
      "cell_type": "code",
      "execution_count": null,
      "metadata": {},
      "outputs": [],
      "source": [
        "# Tu código aquí 👇\n"
      ]
    },
    {
      "cell_type": "markdown",
      "metadata": {},
      "source": [
        "### 7️⃣ Calcular la propina promedio (`tip`) de los días sábado y domingo"
      ]
    },
    {
      "cell_type": "code",
      "execution_count": null,
      "metadata": {},
      "outputs": [],
      "source": [
        "# Tu código aquí 👇\n"
      ]
    },
    {
      "cell_type": "markdown",
      "metadata": {},
      "source": [
        "### 8️⃣ Filtrar filas donde la propina (`tip`) sea mayor al promedio general de las propinas\n",
        "💡 Usa `tips['tip'].mean()` para calcular el promedio antes de aplicar el filtro."
      ]
    },
    {
      "cell_type": "code",
      "execution_count": null,
      "metadata": {},
      "outputs": [],
      "source": [
        "# Calcular el promedio de propinas\n",
        "promedio_propina = tips['tip'].mean()\n",
        "\n",
        "# Filtrar filas con propinas mayores al promedio\n",
        "# Tu código aquí 👇\n"
      ]
    }
  ],
  "metadata": {
    "kernelspec": {
      "display_name": "Python 3",
      "language": "python",
      "name": "python3"
    },
    "language_info": {
      "codemirror_mode": {
        "name": "ipython",
        "version": 3
      },
      "file_extension": ".py",
      "mimetype": "text/x-python",
      "name": "python",
      "nbconvert_exporter": "python",
      "pygments_lexer": "ipython3",
      "version": "3.13.7"
    }
  },
  "nbformat": 4,
  "nbformat_minor": 5
}

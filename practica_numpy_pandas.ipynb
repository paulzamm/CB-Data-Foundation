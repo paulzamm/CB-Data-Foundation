{
 "cells": [
  {
   "cell_type": "markdown",
   "id": "580df9cf",
   "metadata": {},
   "source": [
    "# Numpy"
   ]
  },
  {
   "cell_type": "code",
   "execution_count": 29,
   "id": "022499dd",
   "metadata": {},
   "outputs": [],
   "source": [
    "import numpy as np"
   ]
  },
  {
   "cell_type": "code",
   "execution_count": 30,
   "id": "474cb6e4",
   "metadata": {},
   "outputs": [],
   "source": [
    "estudiantes = np.array([\"Ana\", \"Luis\", \"Carlos\", \"Marta\", \"Juan\"])\n",
    "calificaciones = np.array([85, 92, 78, 95, 88])"
   ]
  },
  {
   "cell_type": "code",
   "execution_count": 31,
   "id": "i21aerqjvks",
   "metadata": {},
   "outputs": [
    {
     "name": "stdout",
     "output_type": "stream",
     "text": [
      "Matriz de calificaciones:\n",
      "[[85 92 78 95 88]\n",
      " [76 88 82 70 79]\n",
      " [94 90 89 98 91]\n",
      " [80 75 72 85 81]]\n"
     ]
    }
   ],
   "source": [
    "estudiantes = np.array([\"Ana\", \"Luis\", \"Marta\", \"Juan\"])\n",
    "materias = np.array([\"Matemáticas\", \"Física\", \"Química\", \"Programación\", \"Inglés\"])\n",
    "\n",
    "# Notas de cada estudiante en cada materia\n",
    "calificaciones = np.array([\n",
    "    [85, 92, 78, 95, 88],   # Notas de Ana\n",
    "    [76, 88, 82, 70, 79],   # Notas de Luis\n",
    "    [94, 90, 89, 98, 91],   # Notas de Marta\n",
    "    [80, 75, 72, 85, 81]    # Notas de Juan\n",
    "])\n",
    "\n",
    "print(\"Matriz de calificaciones:\")\n",
    "print(calificaciones)"
   ]
  },
  {
   "cell_type": "code",
   "execution_count": 32,
   "id": "v3uhyewwsk",
   "metadata": {},
   "outputs": [
    {
     "name": "stdout",
     "output_type": "stream",
     "text": [
      "1. Dimensiones de la matriz: (4, 5)\n"
     ]
    }
   ],
   "source": [
    "# Ejercicio 2.1: Mostrar las dimensiones (shape) de la matriz calificaciones\n",
    "print(\"1. Dimensiones de la matriz:\", calificaciones.shape)"
   ]
  },
  {
   "cell_type": "code",
   "execution_count": 33,
   "id": "77cr0c2pz9",
   "metadata": {},
   "outputs": [
    {
     "name": "stdout",
     "output_type": "stream",
     "text": [
      "2. Segundo estudiante: Luis\n"
     ]
    }
   ],
   "source": [
    "# Ejercicio 2.2: Mostrar el nombre del segundo estudiante en la lista\n",
    "print(\"2. Segundo estudiante:\", estudiantes[1])"
   ]
  },
  {
   "cell_type": "code",
   "execution_count": 34,
   "id": "1isvff4wdj4",
   "metadata": {},
   "outputs": [
    {
     "name": "stdout",
     "output_type": "stream",
     "text": [
      "3. Calificaciones de Marta: [94 90 89 98 91]\n"
     ]
    }
   ],
   "source": [
    "# Ejercicio 2.3: Mostrar todas las calificaciones de Marta\n",
    "print(\"3. Calificaciones de Marta:\", calificaciones[2])"
   ]
  },
  {
   "cell_type": "code",
   "execution_count": 35,
   "id": "9wpjf5ze68n",
   "metadata": {},
   "outputs": [
    {
     "name": "stdout",
     "output_type": "stream",
     "text": [
      "4. Calificación de Juan en Física: 75\n"
     ]
    }
   ],
   "source": [
    "# Ejercicio 2.4: Mostrar la calificación de Juan en Física\n",
    "# Juan está en el índice 3, Física está en el índice 1\n",
    "print(\"4. Calificación de Juan en Física:\", calificaciones[3, 1])"
   ]
  },
  {
   "cell_type": "code",
   "execution_count": 36,
   "id": "7yuclhiu7dm",
   "metadata": {},
   "outputs": [
    {
     "name": "stdout",
     "output_type": "stream",
     "text": [
      "5. Calificaciones de Programación: [95 70 98 85]\n"
     ]
    }
   ],
   "source": [
    "# Ejercicio 2.5: Mostrar todas las calificaciones de la materia de Programación\n",
    "# Programación está en el índice 3 (columna 3)\n",
    "print(\"5. Calificaciones de Programación:\", calificaciones[:, 3])"
   ]
  },
  {
   "cell_type": "code",
   "execution_count": 37,
   "id": "b5idy8iyjf5",
   "metadata": {},
   "outputs": [
    {
     "name": "stdout",
     "output_type": "stream",
     "text": [
      "Ejercicio 3.1 - Calificaciones de los dos primeros estudiantes:\n",
      "[[85 92 78 95 88]\n",
      " [76 88 82 70 79]]\n"
     ]
    }
   ],
   "source": [
    "# Ejercicio 3.1: Mostrar las calificaciones de los dos primeros estudiantes\n",
    "print(\"Ejercicio 3.1 - Calificaciones de los dos primeros estudiantes:\")\n",
    "print(calificaciones[0:2])"
   ]
  },
  {
   "cell_type": "code",
   "execution_count": 38,
   "id": "rgwqgb3gf3",
   "metadata": {},
   "outputs": [
    {
     "name": "stdout",
     "output_type": "stream",
     "text": [
      "Ejercicio 3.2 - Calificaciones de todas las materias excepto Inglés:\n",
      "[[85 92 78 95]\n",
      " [76 88 82 70]\n",
      " [94 90 89 98]\n",
      " [80 75 72 85]]\n"
     ]
    }
   ],
   "source": [
    "# Ejercicio 3.2: Mostrar las calificaciones de todas las materias excepto Inglés (las primeras 4 columnas)\n",
    "print(\"Ejercicio 3.2 - Calificaciones de todas las materias excepto Inglés:\")\n",
    "print(calificaciones[:, 0:4])"
   ]
  },
  {
   "cell_type": "code",
   "execution_count": 39,
   "id": "kr2px34snnb",
   "metadata": {},
   "outputs": [
    {
     "name": "stdout",
     "output_type": "stream",
     "text": [
      "Ejercicio 3.3 - Calificaciones de Marta y Juan en Química y Programación:\n",
      "[[89 98]\n",
      " [72 85]]\n"
     ]
    }
   ],
   "source": [
    "# Ejercicio 3.3: Crear una sub-matriz que contenga solo las calificaciones de Marta y Juan \n",
    "# en las materias de Química y Programación\n",
    "# Marta: índice 2, Juan: índice 3\n",
    "# Química: índice 2, Programación: índice 3\n",
    "print(\"Ejercicio 3.3 - Calificaciones de Marta y Juan en Química y Programación:\")\n",
    "sub_matriz = calificaciones[2:, 2:4]\n",
    "print(sub_matriz)"
   ]
  },
  {
   "cell_type": "code",
   "execution_count": 60,
   "id": "b417a676",
   "metadata": {},
   "outputs": [
    {
     "name": "stdout",
     "output_type": "stream",
     "text": [
      "[87.6 79.  92.4 78.6]\n"
     ]
    }
   ],
   "source": [
    "# Ejercicio 4\n",
    "\n",
    "# Promedio de calificaciones de cada estudiante y muestralo\n",
    "# axis = 0 --> columnas, axis = 1 --> filas\n",
    "promedios_estudiantes = np.mean(calificaciones, axis=1)\n",
    "print(promedios_estudiantes)"
   ]
  },
  {
   "cell_type": "code",
   "execution_count": 41,
   "id": "a92c3c47",
   "metadata": {},
   "outputs": [
    {
     "name": "stdout",
     "output_type": "stream",
     "text": [
      "[83.75 86.25 80.25 87.   84.75]\n"
     ]
    }
   ],
   "source": [
    "# promedio de calificaciones de cada materia\n",
    "promedio_materias = np.mean(calificaciones, axis=0)\n",
    "print(promedio_materias)"
   ]
  },
  {
   "cell_type": "code",
   "execution_count": 42,
   "id": "62652e29",
   "metadata": {},
   "outputs": [
    {
     "name": "stdout",
     "output_type": "stream",
     "text": [
      "Notas de fisica:  [78 82 89 72]\n",
      "Nota máxima de física:  92\n"
     ]
    }
   ],
   "source": [
    "print(\"Notas de fisica: \", calificaciones[:, 2])\n",
    "\n",
    "# Obtener la nota máxima de física\n",
    "maximo_fisica = np.max(calificaciones[:, 1])\n",
    "print(\"Nota máxima de física: \", maximo_fisica)"
   ]
  },
  {
   "cell_type": "code",
   "execution_count": 43,
   "id": "84eceebc",
   "metadata": {},
   "outputs": [
    {
     "name": "stdout",
     "output_type": "stream",
     "text": [
      "[[False  True False  True False]\n",
      " [False False False False False]\n",
      " [ True  True False  True  True]\n",
      " [False False False False False]]\n"
     ]
    }
   ],
   "source": [
    "# Indicar las calificaciones que son mayores a 90\n",
    "calificaciones_mayores_90 = calificaciones >= 90\n",
    "print(calificaciones_mayores_90)"
   ]
  },
  {
   "cell_type": "code",
   "execution_count": 44,
   "id": "2650dc5e",
   "metadata": {},
   "outputs": [
    {
     "name": "stdout",
     "output_type": "stream",
     "text": [
      "['Luis' 'Juan']\n"
     ]
    }
   ],
   "source": [
    "# Mostrar los nombres de los estudiantes que obtuvieron una calificacion menor a 80 en matemáticas\n",
    "calificaciones_matematicas = calificaciones[:, 0] <= 80 \n",
    "estudiantes_menor_80 = estudiantes[calificaciones_matematicas]\n",
    "print(estudiantes_menor_80)"
   ]
  },
  {
   "cell_type": "code",
   "execution_count": 47,
   "id": "6292803b",
   "metadata": {},
   "outputs": [
    {
     "name": "stdout",
     "output_type": "stream",
     "text": [
      "['Física' 'Programación']\n"
     ]
    }
   ],
   "source": [
    "# Mostrar los nombres de las materias en las que Ana obtuvo una calificación superior a 90\n",
    "calificaciones_ana = calificaciones[0, :] > 90\n",
    "materias_mayor_90 = materias[calificaciones_ana]\n",
    "print(materias_mayor_90)"
   ]
  },
  {
   "cell_type": "code",
   "execution_count": 55,
   "id": "977e58c4",
   "metadata": {},
   "outputs": [
    {
     "name": "stdout",
     "output_type": "stream",
     "text": [
      "['Luis' 'Juan' 'Ana' 'Marta']\n"
     ]
    }
   ],
   "source": [
    "# Obtener los nombres de los estudiantes ordenandos de menor a mayor según su calificación en programación\n",
    "notas_programacion = calificaciones[:, 3]\n",
    "indices_ordenados = np.argsort(notas_programacion) # Obtener los índices de los elementos ordenados\n",
    "estudiantes_ordenados = estudiantes[indices_ordenados]\n",
    "print(estudiantes_ordenados)"
   ]
  },
  {
   "cell_type": "code",
   "execution_count": null,
   "id": "5f464a1a",
   "metadata": {},
   "outputs": [
    {
     "name": "stdout",
     "output_type": "stream",
     "text": [
      "El estudiante Ana tiene su nota más baja en la materia Química\n",
      "El estudiante Luis tiene su nota más baja en la materia Programación\n",
      "El estudiante Marta tiene su nota más baja en la materia Química\n",
      "El estudiante Juan tiene su nota más baja en la materia Química\n"
     ]
    }
   ],
   "source": [
    "# Para cada estudiante, mostrar el nombre de la materia\n",
    "# *PENDIENTE\n",
    "indice_nota_baja = np.argmin(calificaciones, axis=1)\n",
    "\n",
    "for i in range(len(estudiantes)):\n",
    "    print(f\"El estudiante {estudiantes[i]} tiene su nota más baja en la materia {materias[indice_nota_baja[i]]}\")"
   ]
  },
  {
   "cell_type": "markdown",
   "id": "3b734991",
   "metadata": {},
   "source": [
    "# Pandas"
   ]
  },
  {
   "cell_type": "code",
   "execution_count": 61,
   "id": "ca214954",
   "metadata": {},
   "outputs": [],
   "source": [
    "import pandas as pd"
   ]
  },
  {
   "cell_type": "code",
   "execution_count": null,
   "id": "f497e5de",
   "metadata": {},
   "outputs": [
    {
     "data": {
      "text/plain": [
       "0       Basic\n",
       "1    Standard\n",
       "2     Premium\n",
       "dtype: object"
      ]
     },
     "metadata": {},
     "output_type": "display_data"
    }
   ],
   "source": [
    "# Creando una serie de pandas a partir de una lista\n",
    "planes = ['Basic', 'Standard', 'Premium']\n",
    "tipos_planes = pd.Series(planes)\n",
    "display(tipos_planes)"
   ]
  },
  {
   "cell_type": "code",
   "execution_count": 83,
   "id": "b2c47d4a",
   "metadata": {},
   "outputs": [
    {
     "data": {
      "text/plain": [
       "Usuario    [user1, user2, user3]\n",
       "dtype: object"
      ]
     },
     "metadata": {},
     "output_type": "display_data"
    }
   ],
   "source": [
    "# Creando una serie de pandas a partir de un diccionario\n",
    "datos_usuarios = {'Usuario': ['user1', 'user2', 'user3']}\n",
    "datos_usuarios = pd.Series(datos_usuarios)\n",
    "display(datos_usuarios)"
   ]
  },
  {
   "cell_type": "code",
   "execution_count": 82,
   "id": "c3d9463d",
   "metadata": {},
   "outputs": [
    {
     "data": {
      "text/html": [
       "<div>\n",
       "<style scoped>\n",
       "    .dataframe tbody tr th:only-of-type {\n",
       "        vertical-align: middle;\n",
       "    }\n",
       "\n",
       "    .dataframe tbody tr th {\n",
       "        vertical-align: top;\n",
       "    }\n",
       "\n",
       "    .dataframe thead th {\n",
       "        text-align: right;\n",
       "    }\n",
       "</style>\n",
       "<table border=\"1\" class=\"dataframe\">\n",
       "  <thead>\n",
       "    <tr style=\"text-align: right;\">\n",
       "      <th></th>\n",
       "      <th>Usuario</th>\n",
       "      <th>Edad</th>\n",
       "    </tr>\n",
       "  </thead>\n",
       "  <tbody>\n",
       "    <tr>\n",
       "      <th>0</th>\n",
       "      <td>User1</td>\n",
       "      <td>25</td>\n",
       "    </tr>\n",
       "    <tr>\n",
       "      <th>1</th>\n",
       "      <td>User2</td>\n",
       "      <td>32</td>\n",
       "    </tr>\n",
       "    <tr>\n",
       "      <th>2</th>\n",
       "      <td>User3</td>\n",
       "      <td>51</td>\n",
       "    </tr>\n",
       "  </tbody>\n",
       "</table>\n",
       "</div>"
      ],
      "text/plain": [
       "  Usuario  Edad\n",
       "0   User1    25\n",
       "1   User2    32\n",
       "2   User3    51"
      ]
     },
     "metadata": {},
     "output_type": "display_data"
    }
   ],
   "source": [
    "# Creando un dataframe de pandas a partir de un diccionario\n",
    "datos_usuarios = {\n",
    "    'Usuario': ['User1', 'User2', 'User3'],\n",
    "    'Edad': [25, 32, 51]\n",
    "}\n",
    "\n",
    "df = pd.DataFrame(datos_usuarios)\n",
    "display(df)"
   ]
  },
  {
   "cell_type": "code",
   "execution_count": 84,
   "id": "3599f6ea",
   "metadata": {},
   "outputs": [
    {
     "data": {
      "text/html": [
       "<div>\n",
       "<style scoped>\n",
       "    .dataframe tbody tr th:only-of-type {\n",
       "        vertical-align: middle;\n",
       "    }\n",
       "\n",
       "    .dataframe tbody tr th {\n",
       "        vertical-align: top;\n",
       "    }\n",
       "\n",
       "    .dataframe thead th {\n",
       "        text-align: right;\n",
       "    }\n",
       "</style>\n",
       "<table border=\"1\" class=\"dataframe\">\n",
       "  <thead>\n",
       "    <tr style=\"text-align: right;\">\n",
       "      <th></th>\n",
       "      <th>customer_id</th>\n",
       "      <th>age</th>\n",
       "      <th>gender</th>\n",
       "      <th>subscription_type</th>\n",
       "      <th>watch_hours</th>\n",
       "      <th>last_login_days</th>\n",
       "      <th>region</th>\n",
       "      <th>device</th>\n",
       "      <th>monthly_fee</th>\n",
       "      <th>churned</th>\n",
       "      <th>payment_method</th>\n",
       "      <th>number_of_profiles</th>\n",
       "      <th>avg_watch_time_per_day</th>\n",
       "      <th>favorite_genre</th>\n",
       "    </tr>\n",
       "  </thead>\n",
       "  <tbody>\n",
       "    <tr>\n",
       "      <th>0</th>\n",
       "      <td>a9b75100-82a8-427a-a208-72f24052884a</td>\n",
       "      <td>51</td>\n",
       "      <td>Other</td>\n",
       "      <td>Basic</td>\n",
       "      <td>14.73</td>\n",
       "      <td>29</td>\n",
       "      <td>Africa</td>\n",
       "      <td>TV</td>\n",
       "      <td>8.99</td>\n",
       "      <td>1</td>\n",
       "      <td>Gift Card</td>\n",
       "      <td>1</td>\n",
       "      <td>0.49</td>\n",
       "      <td>Action</td>\n",
       "    </tr>\n",
       "    <tr>\n",
       "      <th>1</th>\n",
       "      <td>49a5dfd9-7e69-4022-a6ad-0a1b9767fb5b</td>\n",
       "      <td>47</td>\n",
       "      <td>Other</td>\n",
       "      <td>Standard</td>\n",
       "      <td>0.70</td>\n",
       "      <td>19</td>\n",
       "      <td>Europe</td>\n",
       "      <td>Mobile</td>\n",
       "      <td>13.99</td>\n",
       "      <td>1</td>\n",
       "      <td>Gift Card</td>\n",
       "      <td>5</td>\n",
       "      <td>0.03</td>\n",
       "      <td>Sci-Fi</td>\n",
       "    </tr>\n",
       "    <tr>\n",
       "      <th>2</th>\n",
       "      <td>4d71f6ce-fca9-4ff7-8afa-197ac24de14b</td>\n",
       "      <td>27</td>\n",
       "      <td>Female</td>\n",
       "      <td>Standard</td>\n",
       "      <td>16.32</td>\n",
       "      <td>10</td>\n",
       "      <td>Asia</td>\n",
       "      <td>TV</td>\n",
       "      <td>13.99</td>\n",
       "      <td>0</td>\n",
       "      <td>Crypto</td>\n",
       "      <td>2</td>\n",
       "      <td>1.48</td>\n",
       "      <td>Drama</td>\n",
       "    </tr>\n",
       "    <tr>\n",
       "      <th>3</th>\n",
       "      <td>d3c72c38-631b-4f9e-8a0e-de103cad1a7d</td>\n",
       "      <td>53</td>\n",
       "      <td>Other</td>\n",
       "      <td>Premium</td>\n",
       "      <td>4.51</td>\n",
       "      <td>12</td>\n",
       "      <td>Oceania</td>\n",
       "      <td>TV</td>\n",
       "      <td>17.99</td>\n",
       "      <td>1</td>\n",
       "      <td>Crypto</td>\n",
       "      <td>2</td>\n",
       "      <td>0.35</td>\n",
       "      <td>Horror</td>\n",
       "    </tr>\n",
       "    <tr>\n",
       "      <th>4</th>\n",
       "      <td>4e265c34-103a-4dbb-9553-76c9aa47e946</td>\n",
       "      <td>56</td>\n",
       "      <td>Other</td>\n",
       "      <td>Standard</td>\n",
       "      <td>1.89</td>\n",
       "      <td>13</td>\n",
       "      <td>Africa</td>\n",
       "      <td>Mobile</td>\n",
       "      <td>13.99</td>\n",
       "      <td>1</td>\n",
       "      <td>Crypto</td>\n",
       "      <td>2</td>\n",
       "      <td>0.13</td>\n",
       "      <td>Action</td>\n",
       "    </tr>\n",
       "  </tbody>\n",
       "</table>\n",
       "</div>"
      ],
      "text/plain": [
       "                            customer_id  age  gender subscription_type  \\\n",
       "0  a9b75100-82a8-427a-a208-72f24052884a   51   Other             Basic   \n",
       "1  49a5dfd9-7e69-4022-a6ad-0a1b9767fb5b   47   Other          Standard   \n",
       "2  4d71f6ce-fca9-4ff7-8afa-197ac24de14b   27  Female          Standard   \n",
       "3  d3c72c38-631b-4f9e-8a0e-de103cad1a7d   53   Other           Premium   \n",
       "4  4e265c34-103a-4dbb-9553-76c9aa47e946   56   Other          Standard   \n",
       "\n",
       "   watch_hours  last_login_days   region  device  monthly_fee  churned  \\\n",
       "0        14.73               29   Africa      TV         8.99        1   \n",
       "1         0.70               19   Europe  Mobile        13.99        1   \n",
       "2        16.32               10     Asia      TV        13.99        0   \n",
       "3         4.51               12  Oceania      TV        17.99        1   \n",
       "4         1.89               13   Africa  Mobile        13.99        1   \n",
       "\n",
       "  payment_method  number_of_profiles  avg_watch_time_per_day favorite_genre  \n",
       "0      Gift Card                   1                    0.49         Action  \n",
       "1      Gift Card                   5                    0.03         Sci-Fi  \n",
       "2         Crypto                   2                    1.48          Drama  \n",
       "3         Crypto                   2                    0.35         Horror  \n",
       "4         Crypto                   2                    0.13         Action  "
      ]
     },
     "metadata": {},
     "output_type": "display_data"
    }
   ],
   "source": [
    "# Crear un dataframe a partir de un archivo csv\n",
    "df = pd.read_csv('data/netflix_customer_churn.csv')\n",
    "display(df.head())  # Mostrar los primeros 5 elementos del dataframe"
   ]
  },
  {
   "cell_type": "code",
   "execution_count": 85,
   "id": "7be4a481",
   "metadata": {},
   "outputs": [
    {
     "name": "stdout",
     "output_type": "stream",
     "text": [
      "<class 'pandas.core.frame.DataFrame'>\n",
      "RangeIndex: 5000 entries, 0 to 4999\n",
      "Data columns (total 14 columns):\n",
      " #   Column                  Non-Null Count  Dtype  \n",
      "---  ------                  --------------  -----  \n",
      " 0   customer_id             5000 non-null   object \n",
      " 1   age                     5000 non-null   int64  \n",
      " 2   gender                  5000 non-null   object \n",
      " 3   subscription_type       5000 non-null   object \n",
      " 4   watch_hours             5000 non-null   float64\n",
      " 5   last_login_days         5000 non-null   int64  \n",
      " 6   region                  5000 non-null   object \n",
      " 7   device                  5000 non-null   object \n",
      " 8   monthly_fee             5000 non-null   float64\n",
      " 9   churned                 5000 non-null   int64  \n",
      " 10  payment_method          5000 non-null   object \n",
      " 11  number_of_profiles      5000 non-null   int64  \n",
      " 12  avg_watch_time_per_day  5000 non-null   float64\n",
      " 13  favorite_genre          5000 non-null   object \n",
      "dtypes: float64(3), int64(4), object(7)\n",
      "memory usage: 547.0+ KB\n"
     ]
    }
   ],
   "source": [
    "# Obtener un resumen del dataframe\n",
    "df.info()"
   ]
  },
  {
   "cell_type": "code",
   "execution_count": 81,
   "id": "e4a93c22",
   "metadata": {},
   "outputs": [
    {
     "data": {
      "text/plain": [
       "customer_id               0\n",
       "age                       0\n",
       "gender                    0\n",
       "subscription_type         0\n",
       "watch_hours               0\n",
       "last_login_days           0\n",
       "region                    0\n",
       "device                    0\n",
       "monthly_fee               0\n",
       "churned                   0\n",
       "payment_method            0\n",
       "number_of_profiles        0\n",
       "avg_watch_time_per_day    0\n",
       "favorite_genre            0\n",
       "dtype: int64"
      ]
     },
     "execution_count": 81,
     "metadata": {},
     "output_type": "execute_result"
    }
   ],
   "source": [
    "# obtener los datos faltantes\n",
    "df.isnull().sum()"
   ]
  },
  {
   "cell_type": "code",
   "execution_count": 87,
   "id": "783e380e",
   "metadata": {},
   "outputs": [
    {
     "name": "stdout",
     "output_type": "stream",
     "text": [
      "(5000, 14)\n"
     ]
    }
   ],
   "source": [
    "# Mostrar las dimensiones\n",
    "print(df.shape)"
   ]
  },
  {
   "cell_type": "code",
   "execution_count": 89,
   "id": "e0f0d428",
   "metadata": {},
   "outputs": [
    {
     "data": {
      "text/html": [
       "<div>\n",
       "<style scoped>\n",
       "    .dataframe tbody tr th:only-of-type {\n",
       "        vertical-align: middle;\n",
       "    }\n",
       "\n",
       "    .dataframe tbody tr th {\n",
       "        vertical-align: top;\n",
       "    }\n",
       "\n",
       "    .dataframe thead th {\n",
       "        text-align: right;\n",
       "    }\n",
       "</style>\n",
       "<table border=\"1\" class=\"dataframe\">\n",
       "  <thead>\n",
       "    <tr style=\"text-align: right;\">\n",
       "      <th></th>\n",
       "      <th>customer_id</th>\n",
       "      <th>age</th>\n",
       "      <th>gender</th>\n",
       "      <th>subscription_type</th>\n",
       "      <th>watch_hours</th>\n",
       "      <th>last_login_days</th>\n",
       "      <th>region</th>\n",
       "      <th>device</th>\n",
       "      <th>monthly_fee</th>\n",
       "      <th>churned</th>\n",
       "      <th>payment_method</th>\n",
       "      <th>number_of_profiles</th>\n",
       "      <th>avg_watch_time_per_day</th>\n",
       "      <th>favorite_genre</th>\n",
       "    </tr>\n",
       "  </thead>\n",
       "  <tbody>\n",
       "    <tr>\n",
       "      <th>19</th>\n",
       "      <td>a088d61d-be5a-409e-b943-73b145b358d1</td>\n",
       "      <td>21</td>\n",
       "      <td>Female</td>\n",
       "      <td>Standard</td>\n",
       "      <td>15.53</td>\n",
       "      <td>27</td>\n",
       "      <td>South America</td>\n",
       "      <td>Laptop</td>\n",
       "      <td>13.99</td>\n",
       "      <td>0</td>\n",
       "      <td>Credit Card</td>\n",
       "      <td>1</td>\n",
       "      <td>0.55</td>\n",
       "      <td>Comedy</td>\n",
       "    </tr>\n",
       "    <tr>\n",
       "      <th>26</th>\n",
       "      <td>6e061f35-b1b5-4efe-9e37-f40a14d929b1</td>\n",
       "      <td>24</td>\n",
       "      <td>Male</td>\n",
       "      <td>Premium</td>\n",
       "      <td>6.92</td>\n",
       "      <td>13</td>\n",
       "      <td>Africa</td>\n",
       "      <td>Desktop</td>\n",
       "      <td>17.99</td>\n",
       "      <td>0</td>\n",
       "      <td>Crypto</td>\n",
       "      <td>2</td>\n",
       "      <td>0.49</td>\n",
       "      <td>Action</td>\n",
       "    </tr>\n",
       "    <tr>\n",
       "      <th>32</th>\n",
       "      <td>e62d9bc8-dab9-42e0-b6b2-e8d076fe843b</td>\n",
       "      <td>23</td>\n",
       "      <td>Female</td>\n",
       "      <td>Premium</td>\n",
       "      <td>13.31</td>\n",
       "      <td>34</td>\n",
       "      <td>Africa</td>\n",
       "      <td>Mobile</td>\n",
       "      <td>17.99</td>\n",
       "      <td>1</td>\n",
       "      <td>Debit Card</td>\n",
       "      <td>2</td>\n",
       "      <td>0.38</td>\n",
       "      <td>Romance</td>\n",
       "    </tr>\n",
       "    <tr>\n",
       "      <th>37</th>\n",
       "      <td>839ec473-5f41-4a8b-955a-ec14b3a9cad4</td>\n",
       "      <td>22</td>\n",
       "      <td>Female</td>\n",
       "      <td>Standard</td>\n",
       "      <td>9.69</td>\n",
       "      <td>35</td>\n",
       "      <td>Asia</td>\n",
       "      <td>TV</td>\n",
       "      <td>13.99</td>\n",
       "      <td>1</td>\n",
       "      <td>Crypto</td>\n",
       "      <td>4</td>\n",
       "      <td>0.27</td>\n",
       "      <td>Documentary</td>\n",
       "    </tr>\n",
       "    <tr>\n",
       "      <th>39</th>\n",
       "      <td>aa97d1a3-c4ad-4c76-bd2a-56f1b46a753c</td>\n",
       "      <td>19</td>\n",
       "      <td>Male</td>\n",
       "      <td>Standard</td>\n",
       "      <td>4.34</td>\n",
       "      <td>1</td>\n",
       "      <td>Asia</td>\n",
       "      <td>Tablet</td>\n",
       "      <td>13.99</td>\n",
       "      <td>0</td>\n",
       "      <td>PayPal</td>\n",
       "      <td>1</td>\n",
       "      <td>2.17</td>\n",
       "      <td>Sci-Fi</td>\n",
       "    </tr>\n",
       "  </tbody>\n",
       "</table>\n",
       "</div>"
      ],
      "text/plain": [
       "                             customer_id  age  gender subscription_type  \\\n",
       "19  a088d61d-be5a-409e-b943-73b145b358d1   21  Female          Standard   \n",
       "26  6e061f35-b1b5-4efe-9e37-f40a14d929b1   24    Male           Premium   \n",
       "32  e62d9bc8-dab9-42e0-b6b2-e8d076fe843b   23  Female           Premium   \n",
       "37  839ec473-5f41-4a8b-955a-ec14b3a9cad4   22  Female          Standard   \n",
       "39  aa97d1a3-c4ad-4c76-bd2a-56f1b46a753c   19    Male          Standard   \n",
       "\n",
       "    watch_hours  last_login_days         region   device  monthly_fee  \\\n",
       "19        15.53               27  South America   Laptop        13.99   \n",
       "26         6.92               13         Africa  Desktop        17.99   \n",
       "32        13.31               34         Africa   Mobile        17.99   \n",
       "37         9.69               35           Asia       TV        13.99   \n",
       "39         4.34                1           Asia   Tablet        13.99   \n",
       "\n",
       "    churned payment_method  number_of_profiles  avg_watch_time_per_day  \\\n",
       "19        0    Credit Card                   1                    0.55   \n",
       "26        0         Crypto                   2                    0.49   \n",
       "32        1     Debit Card                   2                    0.38   \n",
       "37        1         Crypto                   4                    0.27   \n",
       "39        0         PayPal                   1                    2.17   \n",
       "\n",
       "   favorite_genre  \n",
       "19         Comedy  \n",
       "26         Action  \n",
       "32        Romance  \n",
       "37    Documentary  \n",
       "39         Sci-Fi  "
      ]
     },
     "execution_count": 89,
     "metadata": {},
     "output_type": "execute_result"
    }
   ],
   "source": [
    "# Filtrar los jóvenes que contengan únicamente a los usuarios que tengan 25 años o menos\n",
    "df_jovenes = df[df['age'] <= 25]\n",
    "df_jovenes.head()"
   ]
  },
  {
   "cell_type": "code",
   "execution_count": 93,
   "id": "2a8040a1",
   "metadata": {},
   "outputs": [
    {
     "name": "stdout",
     "output_type": "stream",
     "text": [
      "Se encontraron 801 jovenes menores 0 igual a 25 años\n"
     ]
    }
   ],
   "source": [
    "print(f\"Se encontraron {len(df_jovenes)} jovenes menores 0 igual a 25 años\")"
   ]
  },
  {
   "cell_type": "code",
   "execution_count": 96,
   "id": "ea935489",
   "metadata": {},
   "outputs": [
    {
     "data": {
      "text/plain": [
       "0       False\n",
       "1       False\n",
       "2       False\n",
       "3       False\n",
       "4       False\n",
       "        ...  \n",
       "4995    False\n",
       "4996    False\n",
       "4997    False\n",
       "4998    False\n",
       "4999    False\n",
       "Length: 5000, dtype: bool"
      ]
     },
     "execution_count": 96,
     "metadata": {},
     "output_type": "execute_result"
    }
   ],
   "source": [
    "condicion_1 = df['subscription_type'] == 'premium'\n",
    "condicion_2 = df['churned'] == 0\n",
    "clientes_leales = condicion_1 & condicion_2\n",
    "clientes_leales"
   ]
  }
 ],
 "metadata": {
  "kernelspec": {
   "display_name": "Python 3",
   "language": "python",
   "name": "python3"
  },
  "language_info": {
   "codemirror_mode": {
    "name": "ipython",
    "version": 3
   },
   "file_extension": ".py",
   "mimetype": "text/x-python",
   "name": "python",
   "nbconvert_exporter": "python",
   "pygments_lexer": "ipython3",
   "version": "3.13.7"
  }
 },
 "nbformat": 4,
 "nbformat_minor": 5
}
